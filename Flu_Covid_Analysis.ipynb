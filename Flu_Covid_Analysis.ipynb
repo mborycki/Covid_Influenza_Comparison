{
 "cells": [
  {
   "cell_type": "markdown",
   "metadata": {},
   "source": [
    "# Covid and Influenza - sick and death cases comparison\n",
    "\n",
    "**Part 2 - Analysis**"
   ]
  },
  {
   "cell_type": "code",
   "execution_count": null,
   "metadata": {},
   "outputs": [],
   "source": [
    "import pandas as pd\n",
    "import matplotlib.pyplot as plt"
   ]
  },
  {
   "cell_type": "code",
   "execution_count": null,
   "metadata": {},
   "outputs": [],
   "source": [
    "url = \"https://raw.githubusercontent.com/mborycki/Covid_Influenza_Comparison/main/Covid_and_Influenza.csv\""
   ]
  },
  {
   "cell_type": "code",
   "execution_count": null,
   "metadata": {},
   "outputs": [],
   "source": [
    "df = pd.read_csv(url)"
   ]
  },
  {
   "cell_type": "code",
   "execution_count": null,
   "metadata": {},
   "outputs": [],
   "source": [
    "df.head()"
   ]
  },
  {
   "cell_type": "code",
   "execution_count": null,
   "metadata": {},
   "outputs": [],
   "source": [
    "df.info()"
   ]
  },
  {
   "cell_type": "markdown",
   "metadata": {},
   "source": [
    "# File preparation / grouping"
   ]
  },
  {
   "cell_type": "code",
   "execution_count": null,
   "metadata": {},
   "outputs": [],
   "source": [
    "# I made a function to have bigger visibility on chart\n",
    "def CovidCasesDevider(table_name):\n",
    "    covid_cases_list_mln = ['Confirmed','Deaths','Recovered','Detected_FluCases']\n",
    "\n",
    "# number of cases decreased by 1000\n",
    "    for col in covid_cases_list_mln: \n",
    "        for value in range(len(table_name)):\n",
    "            table_name.loc[value,(col)] = table_name.loc[value,(col)] / 1000\n",
    "\n",
    "# rounded to 2 decimal values            \n",
    "    for col in covid_cases_list_mln: \n",
    "        table_name[col] = table_name[col].apply(lambda x: round(x,2))\n",
    "\n",
    "# Do not need weeks/year in chart - quarters is enough      \n",
    "    table_name['YearQuater'] = table_name.Year.astype(str)+'-Q'+table_name.Quarter.astype(str)\n",
    "    table_name = table_name.drop([\"Year\",\"Quarter\"],axis=1)\n",
    "    \n",
    "    return table_name"
   ]
  },
  {
   "cell_type": "code",
   "execution_count": null,
   "metadata": {},
   "outputs": [],
   "source": [
    "# I made a function to have bigger visibility on chart\n",
    "def CovidCasesDevider_Country(table_name):\n",
    "    covid_cases_list_mln = ['Confirmed','Deaths','Recovered','Detected_FluCases']\n",
    "\n",
    "# number of cases decreased by 1000\n",
    "    for col in covid_cases_list_mln: \n",
    "        for value in range(len(table_name)):\n",
    "            table_name.loc[value,(col)] = table_name.loc[value,(col)] / 1000\n",
    "\n",
    "# rounded to 2 decimal values            \n",
    "    for col in covid_cases_list_mln: \n",
    "        table_name[col] = table_name[col].apply(lambda x: round(x,2))\n",
    "\n",
    "# Do not need weeks/year in chart - quarters is enough      \n",
    "    table_name['YearQuater'] = table_name.Year.astype(str)+'-Q'+table_name.Quarter.astype(str)\n",
    "    table_name = table_name.drop([\"Year\",\"Quarter\"],axis=1)\n",
    "    \n",
    "    return table_name"
   ]
  },
  {
   "cell_type": "code",
   "execution_count": null,
   "metadata": {},
   "outputs": [],
   "source": [
    "final_df_quarter = df[['Country', 'Year', 'Confirmed', 'Deaths', 'Recovered',\n",
    "       'Detected_FluCases', 'Quarter']].groupby(['Country','Year','Quarter']).agg({'Confirmed':'max', 'Deaths':'max', 'Recovered':'max',\n",
    "       'Detected_FluCases':'sum'}).sort_values(['Country','Year','Quarter']).reset_index()\n",
    "final_df_quarter.head()"
   ]
  },
  {
   "cell_type": "markdown",
   "metadata": {},
   "source": [
    "# Analysis"
   ]
  },
  {
   "cell_type": "code",
   "execution_count": null,
   "metadata": {},
   "outputs": [],
   "source": [
    "# for all countries - TOTAL\n",
    "chart_1 = CovidCasesDevider(final_df_quarter.groupby(['Year','Quarter'])\\\n",
    ".agg({'Confirmed':'sum', 'Deaths':'sum', 'Recovered':'sum','Detected_FluCases':'sum'})\\\n",
    ".sort_values(['Year','Quarter']).reset_index())"
   ]
  },
  {
   "cell_type": "code",
   "execution_count": null,
   "metadata": {},
   "outputs": [],
   "source": [
    "chart_1.head(2)"
   ]
  },
  {
   "cell_type": "code",
   "execution_count": null,
   "metadata": {},
   "outputs": [],
   "source": [
    "# for chosen country\n",
    "chosen_country = 'Poland'\n",
    "\n",
    "chart_2 = CovidCasesDevider(final_df_quarter[final_df_quarter.Country==chosen_country].groupby(['Year','Quarter']).\\\n",
    "agg({'Confirmed':'sum', 'Deaths':'sum', 'Recovered':'sum','Detected_FluCases':'sum'}).\\\n",
    "sort_values(['Year','Quarter']).reset_index())"
   ]
  },
  {
   "cell_type": "code",
   "execution_count": null,
   "metadata": {},
   "outputs": [],
   "source": [
    "chart_2.head(2)"
   ]
  },
  {
   "cell_type": "code",
   "execution_count": null,
   "metadata": {},
   "outputs": [],
   "source": []
  },
  {
   "cell_type": "code",
   "execution_count": null,
   "metadata": {
    "scrolled": false
   },
   "outputs": [],
   "source": [
    "fig, ax1 = plt.subplots()\n",
    "plt.rcParams[\"figure.figsize\"] = (25,15)\n",
    "plt.xticks(fontsize=16, rotation=45)\n",
    "plt.grid(color = 'green', linestyle = '--', linewidth = 0.5)\n",
    "# plt.ylim([-3, 3])\n",
    "\n",
    "y = chart_1['Confirmed']\n",
    "x = chart_1.YearQuater.unique()\n",
    "z = chart_1.Detected_FluCases\n",
    "\n",
    "ax1.set_title(f\"Confirmed Covid Cases per week ('000)\", fontsize=28)\n",
    "\n",
    "color = 'tab:red'\n",
    "ax1.set_xlabel('Periods', fontsize=24)\n",
    "ax1.set_ylabel(\"Confirmed Covid19 Cases ('000)\", color=color, fontsize=24)\n",
    "ax1.plot(x, y, color=color)\n",
    "ax1.tick_params(axis='y', labelcolor=color, labelsize=16) \n",
    "# ax1.set_ylim(0,60000)\n",
    "\n",
    "for xx,yy in zip(x,y):\n",
    "    label = \"{:.0f}\".format(yy)\n",
    "    plt.annotate(label, (xx,yy), textcoords=\"offset points\", xytext=(0,10), ha='right', fontsize=20) \n",
    "\n",
    "ax2 = ax1.twinx()  \n",
    "color = 'tab:blue'\n",
    "ax2.set_ylabel(\"Detected Inluenza Cases ('000)\", color=color, fontsize=24)  # we already handled the x-label with ax1\n",
    "ax2.plot(x, z, color=color)\n",
    "ax2.tick_params(axis='y', labelcolor=color, labelsize=16)\n",
    "# ax2.set_ylim(0,2000)\n",
    "# top_lim = 2000\n",
    "# ax2.set_ylim(top=top_lim)\n",
    "\n",
    "for xx,zz in zip(x,z):\n",
    "    # label = f'{round(zz, 0):,}'\n",
    "    label = \"{:.0f}\".format(zz)\n",
    "    plt.annotate(label,(xx,zz),textcoords=\"offset points\",xytext=(0,10),ha='right', fontsize=20)\n",
    "\n",
    "\n",
    "fig.tight_layout()  \n",
    "plt.show()"
   ]
  }
 ],
 "metadata": {
  "kernelspec": {
   "display_name": "Python 3",
   "language": "python",
   "name": "python3"
  },
  "language_info": {
   "codemirror_mode": {
    "name": "ipython",
    "version": 3
   },
   "file_extension": ".py",
   "mimetype": "text/x-python",
   "name": "python",
   "nbconvert_exporter": "python",
   "pygments_lexer": "ipython3",
   "version": "3.8.5"
  }
 },
 "nbformat": 4,
 "nbformat_minor": 4
}
