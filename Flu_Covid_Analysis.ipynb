{
 "cells": [
  {
   "cell_type": "markdown",
   "metadata": {},
   "source": [
    "# Covid and Influenza - sick and death cases comparison"
   ]
  },
  {
   "cell_type": "markdown",
   "metadata": {},
   "source": [
    "**Sources:**\n",
    "- https://github.com/CSSEGISandData/COVID-19/tree/master/csse_covid_19_data\n",
    "- https://www.kaggle.com/sudalairajkumar/novel-corona-virus-2019-dataset\n",
    "- https://flunewseurope.org/VirusCharacteristics\n",
    "\n"
   ]
  },
  {
   "cell_type": "markdown",
   "metadata": {},
   "source": [
    "**Terms of Use:**\n",
    "1.\tThis data set is licensed under the Creative Commons Attribution 4.0 International (CC BY 4.0) by the Johns Hopkins University on behalf of its Center for Systems Science in Engineering. Copyright Johns Hopkins University 2020.\n",
    "2.\tAttribute the data as the \"COVID-19 Data Repository by the Center for Systems Science and Engineering (CSSE) at Johns Hopkins University\" or \"JHU CSSE COVID-19 Data\" for short, and the url: https://github.com/CSSEGISandData/COVID-19.\n",
    "3.\tFor publications that use the data, please cite the following publication: \"Dong E, Du H, Gardner L. An interactive web-based dashboard to track COVID-19 in real time. Lancet Inf Dis. 20(5):533-534. doi: 10.1016/S1473-3099(20)30120-1\""
   ]
  },
  {
   "cell_type": "markdown",
   "metadata": {},
   "source": [
    "### Notes:\n",
    "\n",
    "**Influenza:**\n",
    "- Add a description - where I found flu reports\n",
    "- “Influenza virus detections by type in Europe.xlsx”\n",
    "\n",
    "**Covid:** Use csv files from csse_covid_19_time_series folder\n",
    "- refresh this report: (https://github.com/CSSEGISandData/COVID-19/tree/master/csse_covid_19_data) and add README - description"
   ]
  },
  {
   "cell_type": "code",
   "execution_count": 1,
   "metadata": {},
   "outputs": [],
   "source": [
    "import pandas as pd\n",
    "import os\n",
    "from pathlib import Path\n",
    "\n",
    "\n",
    "from bs4 import BeautifulSoup\n",
    "import requests\n",
    "import re \n",
    "import io\n",
    "import numpy as np"
   ]
  },
  {
   "cell_type": "code",
   "execution_count": 2,
   "metadata": {},
   "outputs": [],
   "source": [
    "BASE_DIR = os.path.dirname(os.path.abspath(\"__file__\"))"
   ]
  },
  {
   "cell_type": "code",
   "execution_count": 3,
   "metadata": {},
   "outputs": [],
   "source": [
    "directory_flue = os.path.join(BASE_DIR, 'influenza')"
   ]
  },
  {
   "cell_type": "markdown",
   "metadata": {},
   "source": [
    "# 1. Influenza"
   ]
  },
  {
   "cell_type": "markdown",
   "metadata": {},
   "source": [
    "----------\n",
    "Influenza virus detections by type in Europe:"
   ]
  },
  {
   "cell_type": "code",
   "execution_count": 4,
   "metadata": {},
   "outputs": [],
   "source": [
    "ws = 'Influenza virus detections by type in Europe.xlsx'\n",
    "flu_detected = pd.read_excel(os.path.join(directory_flue, ws).replace('\\\\','/'))"
   ]
  },
  {
   "cell_type": "code",
   "execution_count": 5,
   "metadata": {},
   "outputs": [
    {
     "data": {
      "text/html": [
       "<div>\n",
       "<style scoped>\n",
       "    .dataframe tbody tr th:only-of-type {\n",
       "        vertical-align: middle;\n",
       "    }\n",
       "\n",
       "    .dataframe tbody tr th {\n",
       "        vertical-align: top;\n",
       "    }\n",
       "\n",
       "    .dataframe thead th {\n",
       "        text-align: right;\n",
       "    }\n",
       "</style>\n",
       "<table border=\"1\" class=\"dataframe\">\n",
       "  <thead>\n",
       "    <tr style=\"text-align: right;\">\n",
       "      <th></th>\n",
       "      <th>Season</th>\n",
       "      <th>Region</th>\n",
       "      <th>Country</th>\n",
       "      <th>Week</th>\n",
       "      <th>Surveillance System Type</th>\n",
       "      <th>A not subtyped</th>\n",
       "      <th>A(H1)pdm09</th>\n",
       "      <th>A(H3)</th>\n",
       "      <th>B lineage not determined</th>\n",
       "      <th>B/Vic</th>\n",
       "      <th>B/Yam</th>\n",
       "    </tr>\n",
       "  </thead>\n",
       "  <tbody>\n",
       "    <tr>\n",
       "      <th>0</th>\n",
       "      <td>2015/2016</td>\n",
       "      <td>EU/EEA</td>\n",
       "      <td>Austria</td>\n",
       "      <td>2015-W40</td>\n",
       "      <td>Non-sentinel</td>\n",
       "      <td>0</td>\n",
       "      <td>0</td>\n",
       "      <td>0</td>\n",
       "      <td>0</td>\n",
       "      <td>0</td>\n",
       "      <td>0</td>\n",
       "    </tr>\n",
       "    <tr>\n",
       "      <th>1</th>\n",
       "      <td>2015/2016</td>\n",
       "      <td>EU/EEA</td>\n",
       "      <td>Austria</td>\n",
       "      <td>2015-W44</td>\n",
       "      <td>Non-sentinel</td>\n",
       "      <td>1</td>\n",
       "      <td>0</td>\n",
       "      <td>0</td>\n",
       "      <td>0</td>\n",
       "      <td>0</td>\n",
       "      <td>0</td>\n",
       "    </tr>\n",
       "    <tr>\n",
       "      <th>2</th>\n",
       "      <td>2015/2016</td>\n",
       "      <td>EU/EEA</td>\n",
       "      <td>Austria</td>\n",
       "      <td>2015-W46</td>\n",
       "      <td>Non-sentinel</td>\n",
       "      <td>0</td>\n",
       "      <td>3</td>\n",
       "      <td>0</td>\n",
       "      <td>0</td>\n",
       "      <td>0</td>\n",
       "      <td>0</td>\n",
       "    </tr>\n",
       "    <tr>\n",
       "      <th>3</th>\n",
       "      <td>2015/2016</td>\n",
       "      <td>EU/EEA</td>\n",
       "      <td>Austria</td>\n",
       "      <td>2015-W47</td>\n",
       "      <td>Non-sentinel</td>\n",
       "      <td>0</td>\n",
       "      <td>3</td>\n",
       "      <td>2</td>\n",
       "      <td>0</td>\n",
       "      <td>0</td>\n",
       "      <td>0</td>\n",
       "    </tr>\n",
       "    <tr>\n",
       "      <th>4</th>\n",
       "      <td>2015/2016</td>\n",
       "      <td>EU/EEA</td>\n",
       "      <td>Austria</td>\n",
       "      <td>2015-W48</td>\n",
       "      <td>Non-sentinel</td>\n",
       "      <td>0</td>\n",
       "      <td>2</td>\n",
       "      <td>4</td>\n",
       "      <td>0</td>\n",
       "      <td>0</td>\n",
       "      <td>0</td>\n",
       "    </tr>\n",
       "  </tbody>\n",
       "</table>\n",
       "</div>"
      ],
      "text/plain": [
       "      Season  Region  Country      Week Surveillance System Type  \\\n",
       "0  2015/2016  EU/EEA  Austria  2015-W40             Non-sentinel   \n",
       "1  2015/2016  EU/EEA  Austria  2015-W44             Non-sentinel   \n",
       "2  2015/2016  EU/EEA  Austria  2015-W46             Non-sentinel   \n",
       "3  2015/2016  EU/EEA  Austria  2015-W47             Non-sentinel   \n",
       "4  2015/2016  EU/EEA  Austria  2015-W48             Non-sentinel   \n",
       "\n",
       "   A not subtyped  A(H1)pdm09  A(H3)  B lineage not determined  B/Vic  B/Yam  \n",
       "0               0           0      0                         0      0      0  \n",
       "1               1           0      0                         0      0      0  \n",
       "2               0           3      0                         0      0      0  \n",
       "3               0           3      2                         0      0      0  \n",
       "4               0           2      4                         0      0      0  "
      ]
     },
     "execution_count": 5,
     "metadata": {},
     "output_type": "execute_result"
    }
   ],
   "source": [
    "flu_detected.head()"
   ]
  },
  {
   "cell_type": "code",
   "execution_count": 6,
   "metadata": {},
   "outputs": [
    {
     "data": {
      "text/plain": [
       "array(['EU/EEA', 'WHO Europe'], dtype=object)"
      ]
     },
     "execution_count": 6,
     "metadata": {},
     "output_type": "execute_result"
    }
   ],
   "source": [
    "flu_detected['Region'].unique()"
   ]
  },
  {
   "cell_type": "code",
   "execution_count": 7,
   "metadata": {},
   "outputs": [
    {
     "data": {
      "text/html": [
       "<div>\n",
       "<style scoped>\n",
       "    .dataframe tbody tr th:only-of-type {\n",
       "        vertical-align: middle;\n",
       "    }\n",
       "\n",
       "    .dataframe tbody tr th {\n",
       "        vertical-align: top;\n",
       "    }\n",
       "\n",
       "    .dataframe thead th {\n",
       "        text-align: right;\n",
       "    }\n",
       "</style>\n",
       "<table border=\"1\" class=\"dataframe\">\n",
       "  <thead>\n",
       "    <tr style=\"text-align: right;\">\n",
       "      <th></th>\n",
       "      <th>Season</th>\n",
       "      <th>Region</th>\n",
       "      <th>Country</th>\n",
       "      <th>Week</th>\n",
       "      <th>Surveillance System Type</th>\n",
       "      <th>A not subtyped</th>\n",
       "      <th>A(H1)pdm09</th>\n",
       "      <th>A(H3)</th>\n",
       "      <th>B lineage not determined</th>\n",
       "      <th>B/Vic</th>\n",
       "      <th>B/Yam</th>\n",
       "    </tr>\n",
       "  </thead>\n",
       "  <tbody>\n",
       "    <tr>\n",
       "      <th>657</th>\n",
       "      <td>2015/2016</td>\n",
       "      <td>EU/EEA</td>\n",
       "      <td>Poland</td>\n",
       "      <td>2015-W40</td>\n",
       "      <td>Non-sentinel</td>\n",
       "      <td>1</td>\n",
       "      <td>0</td>\n",
       "      <td>0</td>\n",
       "      <td>0</td>\n",
       "      <td>0</td>\n",
       "      <td>0</td>\n",
       "    </tr>\n",
       "    <tr>\n",
       "      <th>1792</th>\n",
       "      <td>2015/2016</td>\n",
       "      <td>WHO Europe</td>\n",
       "      <td>Poland</td>\n",
       "      <td>2015-W40</td>\n",
       "      <td>Non-sentinel</td>\n",
       "      <td>1</td>\n",
       "      <td>0</td>\n",
       "      <td>0</td>\n",
       "      <td>0</td>\n",
       "      <td>0</td>\n",
       "      <td>0</td>\n",
       "    </tr>\n",
       "  </tbody>\n",
       "</table>\n",
       "</div>"
      ],
      "text/plain": [
       "         Season      Region Country      Week Surveillance System Type  \\\n",
       "657   2015/2016      EU/EEA  Poland  2015-W40             Non-sentinel   \n",
       "1792  2015/2016  WHO Europe  Poland  2015-W40             Non-sentinel   \n",
       "\n",
       "      A not subtyped  A(H1)pdm09  A(H3)  B lineage not determined  B/Vic  \\\n",
       "657                1           0      0                         0      0   \n",
       "1792               1           0      0                         0      0   \n",
       "\n",
       "      B/Yam  \n",
       "657       0  \n",
       "1792      0  "
      ]
     },
     "execution_count": 7,
     "metadata": {},
     "output_type": "execute_result"
    }
   ],
   "source": [
    "flu_detected[(flu_detected.Country=='Poland')&(flu_detected.Week=='2015-W40')]"
   ]
  },
  {
   "cell_type": "code",
   "execution_count": 8,
   "metadata": {},
   "outputs": [
    {
     "data": {
      "text/plain": [
       "291"
      ]
     },
     "execution_count": 8,
     "metadata": {},
     "output_type": "execute_result"
    }
   ],
   "source": [
    "len(flu_detected[(flu_detected.Country=='Poland')&(flu_detected.Region=='EU/EEA')])"
   ]
  },
  {
   "cell_type": "code",
   "execution_count": 9,
   "metadata": {},
   "outputs": [
    {
     "data": {
      "text/plain": [
       "291"
      ]
     },
     "execution_count": 9,
     "metadata": {},
     "output_type": "execute_result"
    }
   ],
   "source": [
    "len(flu_detected[(flu_detected.Country=='Poland')&(flu_detected.Region=='WHO Europe')])"
   ]
  },
  {
   "cell_type": "code",
   "execution_count": 10,
   "metadata": {},
   "outputs": [
    {
     "data": {
      "text/plain": [
       "7690"
      ]
     },
     "execution_count": 10,
     "metadata": {},
     "output_type": "execute_result"
    }
   ],
   "source": [
    "flu_detected[(flu_detected.Country=='Poland')&(flu_detected.Region=='WHO Europe')].iloc[:,5:].values.sum()"
   ]
  },
  {
   "cell_type": "code",
   "execution_count": 11,
   "metadata": {},
   "outputs": [
    {
     "data": {
      "text/plain": [
       "7690"
      ]
     },
     "execution_count": 11,
     "metadata": {},
     "output_type": "execute_result"
    }
   ],
   "source": [
    "flu_detected[(flu_detected.Country=='Poland')&(flu_detected.Region=='EU/EEA')].iloc[:,5:].values.sum()"
   ]
  },
  {
   "cell_type": "code",
   "execution_count": 12,
   "metadata": {},
   "outputs": [
    {
     "data": {
      "text/plain": [
       "5711"
      ]
     },
     "execution_count": 12,
     "metadata": {},
     "output_type": "execute_result"
    }
   ],
   "source": [
    "len(flu_detected[flu_detected.Region=='EU/EEA'])"
   ]
  },
  {
   "cell_type": "code",
   "execution_count": 13,
   "metadata": {},
   "outputs": [
    {
     "name": "stdout",
     "output_type": "stream",
     "text": [
      "In EEA we have 5711 records while in WHO Europe we have 9763 records\n"
     ]
    }
   ],
   "source": [
    "print(f\"In EEA we have {len(flu_detected[flu_detected.Region=='EU/EEA'])} records while in WHO Europe we have\"\n",
    "      f\" {len(flu_detected[flu_detected.Region=='WHO Europe'])} records\")"
   ]
  },
  {
   "cell_type": "code",
   "execution_count": 14,
   "metadata": {},
   "outputs": [],
   "source": [
    "flu_detected = flu_detected[flu_detected.Region == 'WHO Europe']"
   ]
  },
  {
   "cell_type": "code",
   "execution_count": 15,
   "metadata": {},
   "outputs": [
    {
     "name": "stdout",
     "output_type": "stream",
     "text": [
      "<class 'pandas.core.frame.DataFrame'>\n",
      "Int64Index: 9763 entries, 946 to 15473\n",
      "Data columns (total 11 columns):\n",
      " #   Column                    Non-Null Count  Dtype \n",
      "---  ------                    --------------  ----- \n",
      " 0   Season                    9763 non-null   object\n",
      " 1   Region                    9763 non-null   object\n",
      " 2   Country                   9763 non-null   object\n",
      " 3   Week                      9763 non-null   object\n",
      " 4   Surveillance System Type  9763 non-null   object\n",
      " 5   A not subtyped            9763 non-null   int64 \n",
      " 6   A(H1)pdm09                9763 non-null   int64 \n",
      " 7   A(H3)                     9763 non-null   int64 \n",
      " 8   B lineage not determined  9763 non-null   int64 \n",
      " 9   B/Vic                     9763 non-null   int64 \n",
      " 10  B/Yam                     9763 non-null   int64 \n",
      "dtypes: int64(6), object(5)\n",
      "memory usage: 915.3+ KB\n"
     ]
    }
   ],
   "source": [
    "flu_detected.info()"
   ]
  },
  {
   "cell_type": "markdown",
   "metadata": {},
   "source": [
    "## First conclusion:\n",
    "- Both tables looks similar\n",
    "- Change coumn name: YearWeek - Week\n",
    "- What is \"Surveillance System Type\" and do we need it?\n",
    "- Do we need \"Season\" and \"Region\" columns? If not then remove them\n",
    "- Create total cases for flu\n",
    "- Unpivot the table\n",
    "- Split YearWeek column into 2 separate"
   ]
  },
  {
   "cell_type": "code",
   "execution_count": 16,
   "metadata": {},
   "outputs": [],
   "source": [
    "flu_detected.rename(columns={'Week':'YearWeek'},inplace=True)"
   ]
  },
  {
   "cell_type": "code",
   "execution_count": 17,
   "metadata": {},
   "outputs": [
    {
     "data": {
      "text/plain": [
       "Index(['Season', 'Region', 'Country', 'YearWeek', 'Surveillance System Type',\n",
       "       'A not subtyped', 'A(H1)pdm09', 'A(H3)', 'B lineage not determined',\n",
       "       'B/Vic', 'B/Yam'],\n",
       "      dtype='object')"
      ]
     },
     "execution_count": 17,
     "metadata": {},
     "output_type": "execute_result"
    }
   ],
   "source": [
    "flu_detected.columns"
   ]
  },
  {
   "cell_type": "code",
   "execution_count": 18,
   "metadata": {},
   "outputs": [
    {
     "data": {
      "text/plain": [
       "array(['Non-sentinel'], dtype=object)"
      ]
     },
     "execution_count": 18,
     "metadata": {},
     "output_type": "execute_result"
    }
   ],
   "source": [
    "flu_detected['Surveillance System Type'].unique()"
   ]
  },
  {
   "cell_type": "code",
   "execution_count": 19,
   "metadata": {},
   "outputs": [
    {
     "data": {
      "text/plain": [
       "array(['2015/2016', '2016/2017', '2017/2018', '2018/2019', '2019/2020',\n",
       "       '2020/2021'], dtype=object)"
      ]
     },
     "execution_count": 19,
     "metadata": {},
     "output_type": "execute_result"
    }
   ],
   "source": [
    "flu_detected['Season'].unique()"
   ]
  },
  {
   "cell_type": "code",
   "execution_count": 20,
   "metadata": {},
   "outputs": [
    {
     "data": {
      "text/plain": [
       "array(['2016-W03', '2016-W07', '2015-W40', '2015-W44', '2015-W46'],\n",
       "      dtype=object)"
      ]
     },
     "execution_count": 20,
     "metadata": {},
     "output_type": "execute_result"
    }
   ],
   "source": [
    "flu_detected['YearWeek'].unique()[:5]"
   ]
  },
  {
   "cell_type": "markdown",
   "metadata": {},
   "source": [
    "So, I do not need columns \"Surveillance System Type\" (_one unique value: 'Non-sentinel'_), \"Season\" (_Week is more precise_) and \"Region\" (_only 'WHO Europe'_)"
   ]
  },
  {
   "cell_type": "markdown",
   "metadata": {},
   "source": [
    "-----------\n",
    "Now I will create 2 functions:\n",
    "1. Calculate total influenza cases\n",
    "2. Unpivot a table to keep it simple"
   ]
  },
  {
   "cell_type": "code",
   "execution_count": 21,
   "metadata": {},
   "outputs": [],
   "source": [
    "# this column is just in one table. So I did not have it in the above function\n",
    "flu_detected = flu_detected.drop(['Season','Region','Surveillance System Type'],axis=1) "
   ]
  },
  {
   "cell_type": "code",
   "execution_count": 22,
   "metadata": {},
   "outputs": [
    {
     "data": {
      "text/plain": [
       "Index(['Country', 'YearWeek', 'A not subtyped', 'A(H1)pdm09', 'A(H3)',\n",
       "       'B lineage not determined', 'B/Vic', 'B/Yam'],\n",
       "      dtype='object')"
      ]
     },
     "execution_count": 22,
     "metadata": {},
     "output_type": "execute_result"
    }
   ],
   "source": [
    "flu_detected.columns"
   ]
  },
  {
   "cell_type": "code",
   "execution_count": 23,
   "metadata": {},
   "outputs": [
    {
     "data": {
      "text/html": [
       "<div>\n",
       "<style scoped>\n",
       "    .dataframe tbody tr th:only-of-type {\n",
       "        vertical-align: middle;\n",
       "    }\n",
       "\n",
       "    .dataframe tbody tr th {\n",
       "        vertical-align: top;\n",
       "    }\n",
       "\n",
       "    .dataframe thead th {\n",
       "        text-align: right;\n",
       "    }\n",
       "</style>\n",
       "<table border=\"1\" class=\"dataframe\">\n",
       "  <thead>\n",
       "    <tr style=\"text-align: right;\">\n",
       "      <th></th>\n",
       "      <th>A not subtyped</th>\n",
       "      <th>A(H1)pdm09</th>\n",
       "      <th>A(H3)</th>\n",
       "      <th>B lineage not determined</th>\n",
       "      <th>B/Vic</th>\n",
       "      <th>B/Yam</th>\n",
       "    </tr>\n",
       "  </thead>\n",
       "  <tbody>\n",
       "    <tr>\n",
       "      <th>946</th>\n",
       "      <td>0</td>\n",
       "      <td>1</td>\n",
       "      <td>0</td>\n",
       "      <td>0</td>\n",
       "      <td>0</td>\n",
       "      <td>0</td>\n",
       "    </tr>\n",
       "    <tr>\n",
       "      <th>947</th>\n",
       "      <td>0</td>\n",
       "      <td>0</td>\n",
       "      <td>0</td>\n",
       "      <td>0</td>\n",
       "      <td>5</td>\n",
       "      <td>0</td>\n",
       "    </tr>\n",
       "    <tr>\n",
       "      <th>948</th>\n",
       "      <td>0</td>\n",
       "      <td>0</td>\n",
       "      <td>0</td>\n",
       "      <td>0</td>\n",
       "      <td>0</td>\n",
       "      <td>0</td>\n",
       "    </tr>\n",
       "    <tr>\n",
       "      <th>949</th>\n",
       "      <td>1</td>\n",
       "      <td>0</td>\n",
       "      <td>0</td>\n",
       "      <td>0</td>\n",
       "      <td>0</td>\n",
       "      <td>0</td>\n",
       "    </tr>\n",
       "    <tr>\n",
       "      <th>950</th>\n",
       "      <td>0</td>\n",
       "      <td>3</td>\n",
       "      <td>0</td>\n",
       "      <td>0</td>\n",
       "      <td>0</td>\n",
       "      <td>0</td>\n",
       "    </tr>\n",
       "    <tr>\n",
       "      <th>...</th>\n",
       "      <td>...</td>\n",
       "      <td>...</td>\n",
       "      <td>...</td>\n",
       "      <td>...</td>\n",
       "      <td>...</td>\n",
       "      <td>...</td>\n",
       "    </tr>\n",
       "    <tr>\n",
       "      <th>15469</th>\n",
       "      <td>0</td>\n",
       "      <td>0</td>\n",
       "      <td>0</td>\n",
       "      <td>0</td>\n",
       "      <td>0</td>\n",
       "      <td>0</td>\n",
       "    </tr>\n",
       "    <tr>\n",
       "      <th>15470</th>\n",
       "      <td>0</td>\n",
       "      <td>0</td>\n",
       "      <td>0</td>\n",
       "      <td>0</td>\n",
       "      <td>0</td>\n",
       "      <td>0</td>\n",
       "    </tr>\n",
       "    <tr>\n",
       "      <th>15471</th>\n",
       "      <td>0</td>\n",
       "      <td>0</td>\n",
       "      <td>0</td>\n",
       "      <td>0</td>\n",
       "      <td>0</td>\n",
       "      <td>0</td>\n",
       "    </tr>\n",
       "    <tr>\n",
       "      <th>15472</th>\n",
       "      <td>0</td>\n",
       "      <td>0</td>\n",
       "      <td>0</td>\n",
       "      <td>0</td>\n",
       "      <td>0</td>\n",
       "      <td>0</td>\n",
       "    </tr>\n",
       "    <tr>\n",
       "      <th>15473</th>\n",
       "      <td>0</td>\n",
       "      <td>0</td>\n",
       "      <td>0</td>\n",
       "      <td>0</td>\n",
       "      <td>0</td>\n",
       "      <td>0</td>\n",
       "    </tr>\n",
       "  </tbody>\n",
       "</table>\n",
       "<p>9763 rows × 6 columns</p>\n",
       "</div>"
      ],
      "text/plain": [
       "       A not subtyped  A(H1)pdm09  A(H3)  B lineage not determined  B/Vic  \\\n",
       "946                 0           1      0                         0      0   \n",
       "947                 0           0      0                         0      5   \n",
       "948                 0           0      0                         0      0   \n",
       "949                 1           0      0                         0      0   \n",
       "950                 0           3      0                         0      0   \n",
       "...               ...         ...    ...                       ...    ...   \n",
       "15469               0           0      0                         0      0   \n",
       "15470               0           0      0                         0      0   \n",
       "15471               0           0      0                         0      0   \n",
       "15472               0           0      0                         0      0   \n",
       "15473               0           0      0                         0      0   \n",
       "\n",
       "       B/Yam  \n",
       "946        0  \n",
       "947        0  \n",
       "948        0  \n",
       "949        0  \n",
       "950        0  \n",
       "...      ...  \n",
       "15469      0  \n",
       "15470      0  \n",
       "15471      0  \n",
       "15472      0  \n",
       "15473      0  \n",
       "\n",
       "[9763 rows x 6 columns]"
      ]
     },
     "execution_count": 23,
     "metadata": {},
     "output_type": "execute_result"
    }
   ],
   "source": [
    "flu_detected.iloc[:,2:] # we will summarize it from the third column"
   ]
  },
  {
   "cell_type": "code",
   "execution_count": 24,
   "metadata": {},
   "outputs": [
    {
     "data": {
      "text/html": [
       "<div>\n",
       "<style scoped>\n",
       "    .dataframe tbody tr th:only-of-type {\n",
       "        vertical-align: middle;\n",
       "    }\n",
       "\n",
       "    .dataframe tbody tr th {\n",
       "        vertical-align: top;\n",
       "    }\n",
       "\n",
       "    .dataframe thead th {\n",
       "        text-align: right;\n",
       "    }\n",
       "</style>\n",
       "<table border=\"1\" class=\"dataframe\">\n",
       "  <thead>\n",
       "    <tr style=\"text-align: right;\">\n",
       "      <th></th>\n",
       "      <th>Country</th>\n",
       "      <th>YearWeek</th>\n",
       "      <th>A not subtyped</th>\n",
       "      <th>A(H1)pdm09</th>\n",
       "      <th>A(H3)</th>\n",
       "      <th>B lineage not determined</th>\n",
       "      <th>B/Vic</th>\n",
       "      <th>B/Yam</th>\n",
       "      <th>Total Detected Cases</th>\n",
       "    </tr>\n",
       "  </thead>\n",
       "  <tbody>\n",
       "    <tr>\n",
       "      <th>946</th>\n",
       "      <td>Albania</td>\n",
       "      <td>2016-W03</td>\n",
       "      <td>0</td>\n",
       "      <td>1</td>\n",
       "      <td>0</td>\n",
       "      <td>0</td>\n",
       "      <td>0</td>\n",
       "      <td>0</td>\n",
       "      <td>1</td>\n",
       "    </tr>\n",
       "    <tr>\n",
       "      <th>947</th>\n",
       "      <td>Albania</td>\n",
       "      <td>2016-W07</td>\n",
       "      <td>0</td>\n",
       "      <td>0</td>\n",
       "      <td>0</td>\n",
       "      <td>0</td>\n",
       "      <td>5</td>\n",
       "      <td>0</td>\n",
       "      <td>5</td>\n",
       "    </tr>\n",
       "    <tr>\n",
       "      <th>948</th>\n",
       "      <td>Austria</td>\n",
       "      <td>2015-W40</td>\n",
       "      <td>0</td>\n",
       "      <td>0</td>\n",
       "      <td>0</td>\n",
       "      <td>0</td>\n",
       "      <td>0</td>\n",
       "      <td>0</td>\n",
       "      <td>0</td>\n",
       "    </tr>\n",
       "    <tr>\n",
       "      <th>949</th>\n",
       "      <td>Austria</td>\n",
       "      <td>2015-W44</td>\n",
       "      <td>1</td>\n",
       "      <td>0</td>\n",
       "      <td>0</td>\n",
       "      <td>0</td>\n",
       "      <td>0</td>\n",
       "      <td>0</td>\n",
       "      <td>1</td>\n",
       "    </tr>\n",
       "    <tr>\n",
       "      <th>950</th>\n",
       "      <td>Austria</td>\n",
       "      <td>2015-W46</td>\n",
       "      <td>0</td>\n",
       "      <td>3</td>\n",
       "      <td>0</td>\n",
       "      <td>0</td>\n",
       "      <td>0</td>\n",
       "      <td>0</td>\n",
       "      <td>3</td>\n",
       "    </tr>\n",
       "  </tbody>\n",
       "</table>\n",
       "</div>"
      ],
      "text/plain": [
       "     Country  YearWeek  A not subtyped  A(H1)pdm09  A(H3)  \\\n",
       "946  Albania  2016-W03               0           1      0   \n",
       "947  Albania  2016-W07               0           0      0   \n",
       "948  Austria  2015-W40               0           0      0   \n",
       "949  Austria  2015-W44               1           0      0   \n",
       "950  Austria  2015-W46               0           3      0   \n",
       "\n",
       "     B lineage not determined  B/Vic  B/Yam  Total Detected Cases  \n",
       "946                         0      0      0                     1  \n",
       "947                         0      5      0                     5  \n",
       "948                         0      0      0                     0  \n",
       "949                         0      0      0                     1  \n",
       "950                         0      0      0                     3  "
      ]
     },
     "execution_count": 24,
     "metadata": {},
     "output_type": "execute_result"
    }
   ],
   "source": [
    "flu_detected['Total Detected Cases'] = flu_detected.iloc[:,2:].sum(axis=1).values\n",
    "flu_detected.head()"
   ]
  },
  {
   "cell_type": "code",
   "execution_count": 25,
   "metadata": {},
   "outputs": [
    {
     "data": {
      "text/html": [
       "<div>\n",
       "<style scoped>\n",
       "    .dataframe tbody tr th:only-of-type {\n",
       "        vertical-align: middle;\n",
       "    }\n",
       "\n",
       "    .dataframe tbody tr th {\n",
       "        vertical-align: top;\n",
       "    }\n",
       "\n",
       "    .dataframe thead th {\n",
       "        text-align: right;\n",
       "    }\n",
       "</style>\n",
       "<table border=\"1\" class=\"dataframe\">\n",
       "  <thead>\n",
       "    <tr style=\"text-align: right;\">\n",
       "      <th></th>\n",
       "      <th>Country</th>\n",
       "      <th>YearWeek</th>\n",
       "      <th>A not subtyped</th>\n",
       "      <th>A(H1)pdm09</th>\n",
       "      <th>A(H3)</th>\n",
       "      <th>B lineage not determined</th>\n",
       "      <th>B/Vic</th>\n",
       "      <th>B/Yam</th>\n",
       "      <th>Total Detected Cases</th>\n",
       "    </tr>\n",
       "  </thead>\n",
       "  <tbody>\n",
       "    <tr>\n",
       "      <th>13846</th>\n",
       "      <td>Austria</td>\n",
       "      <td>2021-W01</td>\n",
       "      <td>0</td>\n",
       "      <td>0</td>\n",
       "      <td>0</td>\n",
       "      <td>1</td>\n",
       "      <td>1</td>\n",
       "      <td>0</td>\n",
       "      <td>2</td>\n",
       "    </tr>\n",
       "    <tr>\n",
       "      <th>14115</th>\n",
       "      <td>Denmark</td>\n",
       "      <td>2021-W01</td>\n",
       "      <td>3</td>\n",
       "      <td>0</td>\n",
       "      <td>0</td>\n",
       "      <td>4</td>\n",
       "      <td>0</td>\n",
       "      <td>0</td>\n",
       "      <td>7</td>\n",
       "    </tr>\n",
       "    <tr>\n",
       "      <th>14801</th>\n",
       "      <td>Norway</td>\n",
       "      <td>2021-W01</td>\n",
       "      <td>0</td>\n",
       "      <td>0</td>\n",
       "      <td>0</td>\n",
       "      <td>0</td>\n",
       "      <td>1</td>\n",
       "      <td>0</td>\n",
       "      <td>1</td>\n",
       "    </tr>\n",
       "    <tr>\n",
       "      <th>14999</th>\n",
       "      <td>Russian Federation</td>\n",
       "      <td>2021-W01</td>\n",
       "      <td>1</td>\n",
       "      <td>0</td>\n",
       "      <td>1</td>\n",
       "      <td>1</td>\n",
       "      <td>0</td>\n",
       "      <td>0</td>\n",
       "      <td>3</td>\n",
       "    </tr>\n",
       "    <tr>\n",
       "      <th>15131</th>\n",
       "      <td>Spain</td>\n",
       "      <td>2021-W01</td>\n",
       "      <td>1</td>\n",
       "      <td>0</td>\n",
       "      <td>0</td>\n",
       "      <td>0</td>\n",
       "      <td>0</td>\n",
       "      <td>0</td>\n",
       "      <td>1</td>\n",
       "    </tr>\n",
       "    <tr>\n",
       "      <th>15164</th>\n",
       "      <td>Sweden</td>\n",
       "      <td>2021-W01</td>\n",
       "      <td>0</td>\n",
       "      <td>0</td>\n",
       "      <td>1</td>\n",
       "      <td>0</td>\n",
       "      <td>0</td>\n",
       "      <td>0</td>\n",
       "      <td>1</td>\n",
       "    </tr>\n",
       "    <tr>\n",
       "      <th>15197</th>\n",
       "      <td>Switzerland</td>\n",
       "      <td>2021-W01</td>\n",
       "      <td>3</td>\n",
       "      <td>0</td>\n",
       "      <td>0</td>\n",
       "      <td>1</td>\n",
       "      <td>0</td>\n",
       "      <td>0</td>\n",
       "      <td>4</td>\n",
       "    </tr>\n",
       "    <tr>\n",
       "      <th>15339</th>\n",
       "      <td>United Kingdom - England</td>\n",
       "      <td>2021-W01</td>\n",
       "      <td>10</td>\n",
       "      <td>0</td>\n",
       "      <td>0</td>\n",
       "      <td>10</td>\n",
       "      <td>0</td>\n",
       "      <td>0</td>\n",
       "      <td>20</td>\n",
       "    </tr>\n",
       "    <tr>\n",
       "      <th>15405</th>\n",
       "      <td>United Kingdom - Scotland</td>\n",
       "      <td>2021-W01</td>\n",
       "      <td>0</td>\n",
       "      <td>0</td>\n",
       "      <td>1</td>\n",
       "      <td>2</td>\n",
       "      <td>0</td>\n",
       "      <td>0</td>\n",
       "      <td>3</td>\n",
       "    </tr>\n",
       "  </tbody>\n",
       "</table>\n",
       "</div>"
      ],
      "text/plain": [
       "                         Country  YearWeek  A not subtyped  A(H1)pdm09  A(H3)  \\\n",
       "13846                    Austria  2021-W01               0           0      0   \n",
       "14115                    Denmark  2021-W01               3           0      0   \n",
       "14801                     Norway  2021-W01               0           0      0   \n",
       "14999         Russian Federation  2021-W01               1           0      1   \n",
       "15131                      Spain  2021-W01               1           0      0   \n",
       "15164                     Sweden  2021-W01               0           0      1   \n",
       "15197                Switzerland  2021-W01               3           0      0   \n",
       "15339   United Kingdom - England  2021-W01              10           0      0   \n",
       "15405  United Kingdom - Scotland  2021-W01               0           0      1   \n",
       "\n",
       "       B lineage not determined  B/Vic  B/Yam  Total Detected Cases  \n",
       "13846                         1      1      0                     2  \n",
       "14115                         4      0      0                     7  \n",
       "14801                         0      1      0                     1  \n",
       "14999                         1      0      0                     3  \n",
       "15131                         0      0      0                     1  \n",
       "15164                         0      0      0                     1  \n",
       "15197                         1      0      0                     4  \n",
       "15339                        10      0      0                    20  \n",
       "15405                         2      0      0                     3  "
      ]
     },
     "execution_count": 25,
     "metadata": {},
     "output_type": "execute_result"
    }
   ],
   "source": [
    "flu_detected[(flu_detected['Total Detected Cases']>0)&(flu_detected.YearWeek=='2021-W01')]"
   ]
  },
  {
   "cell_type": "code",
   "execution_count": 26,
   "metadata": {},
   "outputs": [
    {
     "data": {
      "text/html": [
       "<div>\n",
       "<style scoped>\n",
       "    .dataframe tbody tr th:only-of-type {\n",
       "        vertical-align: middle;\n",
       "    }\n",
       "\n",
       "    .dataframe tbody tr th {\n",
       "        vertical-align: top;\n",
       "    }\n",
       "\n",
       "    .dataframe thead th {\n",
       "        text-align: right;\n",
       "    }\n",
       "</style>\n",
       "<table border=\"1\" class=\"dataframe\">\n",
       "  <thead>\n",
       "    <tr style=\"text-align: right;\">\n",
       "      <th></th>\n",
       "      <th>Country</th>\n",
       "      <th>YearWeek</th>\n",
       "      <th>A not subtyped</th>\n",
       "      <th>A(H1)pdm09</th>\n",
       "      <th>A(H3)</th>\n",
       "      <th>B lineage not determined</th>\n",
       "      <th>B/Vic</th>\n",
       "      <th>B/Yam</th>\n",
       "      <th>Total Detected Cases</th>\n",
       "    </tr>\n",
       "  </thead>\n",
       "  <tbody>\n",
       "    <tr>\n",
       "      <th>1809</th>\n",
       "      <td>Poland</td>\n",
       "      <td>2016-W04</td>\n",
       "      <td>4</td>\n",
       "      <td>37</td>\n",
       "      <td>0</td>\n",
       "      <td>4</td>\n",
       "      <td>0</td>\n",
       "      <td>0</td>\n",
       "      <td>45</td>\n",
       "    </tr>\n",
       "  </tbody>\n",
       "</table>\n",
       "</div>"
      ],
      "text/plain": [
       "     Country  YearWeek  A not subtyped  A(H1)pdm09  A(H3)  \\\n",
       "1809  Poland  2016-W04               4          37      0   \n",
       "\n",
       "      B lineage not determined  B/Vic  B/Yam  Total Detected Cases  \n",
       "1809                         4      0      0                    45  "
      ]
     },
     "execution_count": 26,
     "metadata": {},
     "output_type": "execute_result"
    }
   ],
   "source": [
    "flu_detected[(flu_detected.Country=='Poland')&(flu_detected.YearWeek=='2016-W04')] # looks ok"
   ]
  },
  {
   "cell_type": "code",
   "execution_count": 27,
   "metadata": {},
   "outputs": [],
   "source": [
    "# Unpivot table \n",
    "def FluPivot(df,colname):\n",
    "    x = pd.melt(df, id_vars=['Country', 'YearWeek'], var_name='Flu Type', value_name='Cases').sort_values(['YearWeek','Country'])\n",
    "    x[['Year', 'Week']] = x['YearWeek'].str.split('-', n=1, expand=True)\n",
    "    x = x.drop([\"YearWeek\"],axis=1)\n",
    "    x.rename(columns={'Cases':colname},inplace=True)\n",
    "    return x"
   ]
  },
  {
   "cell_type": "code",
   "execution_count": 28,
   "metadata": {},
   "outputs": [
    {
     "data": {
      "text/html": [
       "<div>\n",
       "<style scoped>\n",
       "    .dataframe tbody tr th:only-of-type {\n",
       "        vertical-align: middle;\n",
       "    }\n",
       "\n",
       "    .dataframe tbody tr th {\n",
       "        vertical-align: top;\n",
       "    }\n",
       "\n",
       "    .dataframe thead th {\n",
       "        text-align: right;\n",
       "    }\n",
       "</style>\n",
       "<table border=\"1\" class=\"dataframe\">\n",
       "  <thead>\n",
       "    <tr style=\"text-align: right;\">\n",
       "      <th></th>\n",
       "      <th>Country</th>\n",
       "      <th>Flu Type</th>\n",
       "      <th>Detected_Cases</th>\n",
       "      <th>Year</th>\n",
       "      <th>Week</th>\n",
       "    </tr>\n",
       "  </thead>\n",
       "  <tbody>\n",
       "    <tr>\n",
       "      <th>2</th>\n",
       "      <td>Austria</td>\n",
       "      <td>A not subtyped</td>\n",
       "      <td>0</td>\n",
       "      <td>2015</td>\n",
       "      <td>W40</td>\n",
       "    </tr>\n",
       "    <tr>\n",
       "      <th>9765</th>\n",
       "      <td>Austria</td>\n",
       "      <td>A(H1)pdm09</td>\n",
       "      <td>0</td>\n",
       "      <td>2015</td>\n",
       "      <td>W40</td>\n",
       "    </tr>\n",
       "    <tr>\n",
       "      <th>19528</th>\n",
       "      <td>Austria</td>\n",
       "      <td>A(H3)</td>\n",
       "      <td>0</td>\n",
       "      <td>2015</td>\n",
       "      <td>W40</td>\n",
       "    </tr>\n",
       "    <tr>\n",
       "      <th>29291</th>\n",
       "      <td>Austria</td>\n",
       "      <td>B lineage not determined</td>\n",
       "      <td>0</td>\n",
       "      <td>2015</td>\n",
       "      <td>W40</td>\n",
       "    </tr>\n",
       "    <tr>\n",
       "      <th>39054</th>\n",
       "      <td>Austria</td>\n",
       "      <td>B/Vic</td>\n",
       "      <td>0</td>\n",
       "      <td>2015</td>\n",
       "      <td>W40</td>\n",
       "    </tr>\n",
       "  </tbody>\n",
       "</table>\n",
       "</div>"
      ],
      "text/plain": [
       "       Country                  Flu Type  Detected_Cases  Year Week\n",
       "2      Austria            A not subtyped               0  2015  W40\n",
       "9765   Austria                A(H1)pdm09               0  2015  W40\n",
       "19528  Austria                     A(H3)               0  2015  W40\n",
       "29291  Austria  B lineage not determined               0  2015  W40\n",
       "39054  Austria                     B/Vic               0  2015  W40"
      ]
     },
     "execution_count": 28,
     "metadata": {},
     "output_type": "execute_result"
    }
   ],
   "source": [
    "flu_detected2 = FluPivot(flu_detected,'Detected_Cases')\n",
    "flu_detected2.head()"
   ]
  },
  {
   "cell_type": "code",
   "execution_count": 29,
   "metadata": {},
   "outputs": [
    {
     "data": {
      "text/plain": [
       "array(['A not subtyped', 'A(H1)pdm09', 'A(H3)',\n",
       "       'B lineage not determined', 'B/Vic', 'B/Yam',\n",
       "       'Total Detected Cases'], dtype=object)"
      ]
     },
     "execution_count": 29,
     "metadata": {},
     "output_type": "execute_result"
    }
   ],
   "source": [
    "flu_detected2['Flu Type'].unique()"
   ]
  },
  {
   "cell_type": "code",
   "execution_count": 30,
   "metadata": {},
   "outputs": [
    {
     "name": "stdout",
     "output_type": "stream",
     "text": [
      "<class 'pandas.core.frame.DataFrame'>\n",
      "Int64Index: 68341 entries, 2 to 68340\n",
      "Data columns (total 5 columns):\n",
      " #   Column          Non-Null Count  Dtype \n",
      "---  ------          --------------  ----- \n",
      " 0   Country         68341 non-null  object\n",
      " 1   Flu Type        68341 non-null  object\n",
      " 2   Detected_Cases  68341 non-null  int64 \n",
      " 3   Year            68341 non-null  object\n",
      " 4   Week            68341 non-null  object\n",
      "dtypes: int64(1), object(4)\n",
      "memory usage: 3.1+ MB\n"
     ]
    }
   ],
   "source": [
    "flu_detected2.info()"
   ]
  },
  {
   "cell_type": "code",
   "execution_count": 31,
   "metadata": {},
   "outputs": [
    {
     "data": {
      "text/plain": [
       "2573"
      ]
     },
     "execution_count": 31,
     "metadata": {},
     "output_type": "execute_result"
    }
   ],
   "source": [
    "flu_detected2[(flu_detected2.Country=='Poland')&(flu_detected2.Year=='2016')\\\n",
    "              &(flu_detected2['Flu Type']=='Total Detected Cases')]['Detected_Cases'].sum() # looks ok"
   ]
  },
  {
   "cell_type": "code",
   "execution_count": 32,
   "metadata": {},
   "outputs": [
    {
     "data": {
      "text/html": [
       "<div>\n",
       "<style scoped>\n",
       "    .dataframe tbody tr th:only-of-type {\n",
       "        vertical-align: middle;\n",
       "    }\n",
       "\n",
       "    .dataframe tbody tr th {\n",
       "        vertical-align: top;\n",
       "    }\n",
       "\n",
       "    .dataframe thead th {\n",
       "        text-align: right;\n",
       "    }\n",
       "</style>\n",
       "<table border=\"1\" class=\"dataframe\">\n",
       "  <thead>\n",
       "    <tr style=\"text-align: right;\">\n",
       "      <th></th>\n",
       "      <th>Country</th>\n",
       "      <th>Flu Type</th>\n",
       "      <th>Detected_Cases</th>\n",
       "      <th>Year</th>\n",
       "      <th>Week</th>\n",
       "    </tr>\n",
       "  </thead>\n",
       "  <tbody>\n",
       "    <tr>\n",
       "      <th>860</th>\n",
       "      <td>Poland</td>\n",
       "      <td>A not subtyped</td>\n",
       "      <td>0</td>\n",
       "      <td>2016</td>\n",
       "      <td>W01</td>\n",
       "    </tr>\n",
       "    <tr>\n",
       "      <th>10623</th>\n",
       "      <td>Poland</td>\n",
       "      <td>A(H1)pdm09</td>\n",
       "      <td>1</td>\n",
       "      <td>2016</td>\n",
       "      <td>W01</td>\n",
       "    </tr>\n",
       "    <tr>\n",
       "      <th>20386</th>\n",
       "      <td>Poland</td>\n",
       "      <td>A(H3)</td>\n",
       "      <td>0</td>\n",
       "      <td>2016</td>\n",
       "      <td>W01</td>\n",
       "    </tr>\n",
       "    <tr>\n",
       "      <th>30149</th>\n",
       "      <td>Poland</td>\n",
       "      <td>B lineage not determined</td>\n",
       "      <td>0</td>\n",
       "      <td>2016</td>\n",
       "      <td>W01</td>\n",
       "    </tr>\n",
       "    <tr>\n",
       "      <th>39912</th>\n",
       "      <td>Poland</td>\n",
       "      <td>B/Vic</td>\n",
       "      <td>0</td>\n",
       "      <td>2016</td>\n",
       "      <td>W01</td>\n",
       "    </tr>\n",
       "    <tr>\n",
       "      <th>...</th>\n",
       "      <td>...</td>\n",
       "      <td>...</td>\n",
       "      <td>...</td>\n",
       "      <td>...</td>\n",
       "      <td>...</td>\n",
       "    </tr>\n",
       "    <tr>\n",
       "      <th>21968</th>\n",
       "      <td>Poland</td>\n",
       "      <td>A(H3)</td>\n",
       "      <td>1</td>\n",
       "      <td>2016</td>\n",
       "      <td>W52</td>\n",
       "    </tr>\n",
       "    <tr>\n",
       "      <th>31731</th>\n",
       "      <td>Poland</td>\n",
       "      <td>B lineage not determined</td>\n",
       "      <td>0</td>\n",
       "      <td>2016</td>\n",
       "      <td>W52</td>\n",
       "    </tr>\n",
       "    <tr>\n",
       "      <th>41494</th>\n",
       "      <td>Poland</td>\n",
       "      <td>B/Vic</td>\n",
       "      <td>0</td>\n",
       "      <td>2016</td>\n",
       "      <td>W52</td>\n",
       "    </tr>\n",
       "    <tr>\n",
       "      <th>51257</th>\n",
       "      <td>Poland</td>\n",
       "      <td>B/Yam</td>\n",
       "      <td>0</td>\n",
       "      <td>2016</td>\n",
       "      <td>W52</td>\n",
       "    </tr>\n",
       "    <tr>\n",
       "      <th>61020</th>\n",
       "      <td>Poland</td>\n",
       "      <td>Total Detected Cases</td>\n",
       "      <td>13</td>\n",
       "      <td>2016</td>\n",
       "      <td>W52</td>\n",
       "    </tr>\n",
       "  </tbody>\n",
       "</table>\n",
       "<p>364 rows × 5 columns</p>\n",
       "</div>"
      ],
      "text/plain": [
       "      Country                  Flu Type  Detected_Cases  Year Week\n",
       "860    Poland            A not subtyped               0  2016  W01\n",
       "10623  Poland                A(H1)pdm09               1  2016  W01\n",
       "20386  Poland                     A(H3)               0  2016  W01\n",
       "30149  Poland  B lineage not determined               0  2016  W01\n",
       "39912  Poland                     B/Vic               0  2016  W01\n",
       "...       ...                       ...             ...   ...  ...\n",
       "21968  Poland                     A(H3)               1  2016  W52\n",
       "31731  Poland  B lineage not determined               0  2016  W52\n",
       "41494  Poland                     B/Vic               0  2016  W52\n",
       "51257  Poland                     B/Yam               0  2016  W52\n",
       "61020  Poland      Total Detected Cases              13  2016  W52\n",
       "\n",
       "[364 rows x 5 columns]"
      ]
     },
     "execution_count": 32,
     "metadata": {},
     "output_type": "execute_result"
    }
   ],
   "source": [
    "flu_detected2[(flu_detected2.Country=='Poland')&(flu_detected2.Year=='2016')]"
   ]
  },
  {
   "cell_type": "code",
   "execution_count": 33,
   "metadata": {},
   "outputs": [],
   "source": [
    "# Rename Flu Type names\n",
    "original_type_names = ['A not subtyped', 'A(H1)pdm09', 'A(H3)',\n",
    "       'B lineage not determined', 'B/Vic', 'B/Yam']\n",
    "\n",
    "new_type_names = ['A', 'A(H1)', 'A(H3)','B', 'B/Vic', 'B/Yam']\n",
    "\n",
    "for o, n in zip(original_type_names,new_type_names):\n",
    "    flu_detected2.loc[(flu_detected2['Flu Type'] == o),'Flu Type']=n"
   ]
  },
  {
   "cell_type": "code",
   "execution_count": 34,
   "metadata": {},
   "outputs": [
    {
     "data": {
      "text/html": [
       "<div>\n",
       "<style scoped>\n",
       "    .dataframe tbody tr th:only-of-type {\n",
       "        vertical-align: middle;\n",
       "    }\n",
       "\n",
       "    .dataframe tbody tr th {\n",
       "        vertical-align: top;\n",
       "    }\n",
       "\n",
       "    .dataframe thead th {\n",
       "        text-align: right;\n",
       "    }\n",
       "</style>\n",
       "<table border=\"1\" class=\"dataframe\">\n",
       "  <thead>\n",
       "    <tr style=\"text-align: right;\">\n",
       "      <th></th>\n",
       "      <th>Country</th>\n",
       "      <th>Flu Type</th>\n",
       "      <th>Detected_Cases</th>\n",
       "      <th>Year</th>\n",
       "      <th>Week</th>\n",
       "    </tr>\n",
       "  </thead>\n",
       "  <tbody>\n",
       "    <tr>\n",
       "      <th>2</th>\n",
       "      <td>Austria</td>\n",
       "      <td>A</td>\n",
       "      <td>0</td>\n",
       "      <td>2015</td>\n",
       "      <td>W40</td>\n",
       "    </tr>\n",
       "    <tr>\n",
       "      <th>9765</th>\n",
       "      <td>Austria</td>\n",
       "      <td>A(H1)</td>\n",
       "      <td>0</td>\n",
       "      <td>2015</td>\n",
       "      <td>W40</td>\n",
       "    </tr>\n",
       "    <tr>\n",
       "      <th>19528</th>\n",
       "      <td>Austria</td>\n",
       "      <td>A(H3)</td>\n",
       "      <td>0</td>\n",
       "      <td>2015</td>\n",
       "      <td>W40</td>\n",
       "    </tr>\n",
       "    <tr>\n",
       "      <th>29291</th>\n",
       "      <td>Austria</td>\n",
       "      <td>B</td>\n",
       "      <td>0</td>\n",
       "      <td>2015</td>\n",
       "      <td>W40</td>\n",
       "    </tr>\n",
       "    <tr>\n",
       "      <th>39054</th>\n",
       "      <td>Austria</td>\n",
       "      <td>B/Vic</td>\n",
       "      <td>0</td>\n",
       "      <td>2015</td>\n",
       "      <td>W40</td>\n",
       "    </tr>\n",
       "  </tbody>\n",
       "</table>\n",
       "</div>"
      ],
      "text/plain": [
       "       Country Flu Type  Detected_Cases  Year Week\n",
       "2      Austria        A               0  2015  W40\n",
       "9765   Austria    A(H1)               0  2015  W40\n",
       "19528  Austria    A(H3)               0  2015  W40\n",
       "29291  Austria        B               0  2015  W40\n",
       "39054  Austria    B/Vic               0  2015  W40"
      ]
     },
     "execution_count": 34,
     "metadata": {},
     "output_type": "execute_result"
    }
   ],
   "source": [
    "flu_detected2.head()"
   ]
  },
  {
   "cell_type": "code",
   "execution_count": 35,
   "metadata": {},
   "outputs": [],
   "source": [
    "import matplotlib.pyplot as plt"
   ]
  },
  {
   "cell_type": "code",
   "execution_count": 36,
   "metadata": {},
   "outputs": [
    {
     "name": "stdout",
     "output_type": "stream",
     "text": [
      "2015\n",
      "2016\n",
      "2017\n",
      "2018\n",
      "2019\n",
      "2020\n",
      "2021\n"
     ]
    }
   ],
   "source": [
    "for year in (flu_detected2.Year.unique()):\n",
    "    print(year)"
   ]
  },
  {
   "cell_type": "code",
   "execution_count": 37,
   "metadata": {
    "scrolled": false
   },
   "outputs": [
    {
     "data": {
      "image/png": "[encoded data removed]",
      "text/plain": [
       "<Figure size 432x288 with 1 Axes>"
      ]
     },
     "metadata": {
      "needs_background": "light"
     },
     "output_type": "display_data"
    },
    {
     "data": {
      "image/png": "[encoded data removed]",
      "text/plain": [
       "<Figure size 432x288 with 1 Axes>"
      ]
     },
     "metadata": {
      "needs_background": "light"
     },
     "output_type": "display_data"
    },
    {
     "data": {
      "image/png": "[encoded data removed]",
      "text/plain": [
       "<Figure size 432x288 with 1 Axes>"
      ]
     },
     "metadata": {
      "needs_background": "light"
     },
     "output_type": "display_data"
    },
    {
     "data": {
      "image/png": "[encoded data removed]",
      "text/plain": [
       "<Figure size 432x288 with 1 Axes>"
      ]
     },
     "metadata": {
      "needs_background": "light"
     },
     "output_type": "display_data"
    },
    {
     "data": {
      "image/png": "[encoded data removed]",
      "text/plain": [
       "<Figure size 432x288 with 1 Axes>"
      ]
     },
     "metadata": {
      "needs_background": "light"
     },
     "output_type": "display_data"
    },
    {
     "data": {
      "image/png": "[encoded data removed]",
      "text/plain": [
       "<Figure size 432x288 with 1 Axes>"
      ]
     },
     "metadata": {
      "needs_background": "light"
     },
     "output_type": "display_data"
    },
    {
     "data": {
      "image/png": "[encoded data removed]",
      "text/plain": [
       "<Figure size 432x288 with 1 Axes>"
      ]
     },
     "metadata": {
      "needs_background": "light"
     },
     "output_type": "display_data"
    }
   ],
   "source": [
    "for year in (flu_detected2.Year.unique()):\n",
    "    fd2 = flu_detected2[(flu_detected2.Year==year)&(flu_detected2['Flu Type']!='Total Detected Cases')].groupby(['Flu Type'])['Detected_Cases'].sum().sort_values().reset_index()\n",
    "\n",
    "    fig, ax = plt.subplots()\n",
    "    types = fd2['Flu Type']\n",
    "    cases = fd2.Detected_Cases\n",
    "    result = ax.bar(types,cases)\n",
    "\n",
    "    ax.set_ylabel('Total Cases')\n",
    "    ax.set_xlabel('Flu Types')\n",
    "    ax.set_title(f'Detected Influenza Cases per type - {year}')\n",
    "\n",
    "    plt.show()"
   ]
  },
  {
   "cell_type": "code",
   "execution_count": 38,
   "metadata": {},
   "outputs": [
    {
     "data": {
      "text/html": [
       "<div>\n",
       "<style scoped>\n",
       "    .dataframe tbody tr th:only-of-type {\n",
       "        vertical-align: middle;\n",
       "    }\n",
       "\n",
       "    .dataframe tbody tr th {\n",
       "        vertical-align: top;\n",
       "    }\n",
       "\n",
       "    .dataframe thead th {\n",
       "        text-align: right;\n",
       "    }\n",
       "</style>\n",
       "<table border=\"1\" class=\"dataframe\">\n",
       "  <thead>\n",
       "    <tr style=\"text-align: right;\">\n",
       "      <th></th>\n",
       "      <th>Flu Type</th>\n",
       "      <th>Year</th>\n",
       "      <th>Detected_Cases</th>\n",
       "    </tr>\n",
       "  </thead>\n",
       "  <tbody>\n",
       "    <tr>\n",
       "      <th>0</th>\n",
       "      <td>Total Detected Cases</td>\n",
       "      <td>2015</td>\n",
       "      <td>5433</td>\n",
       "    </tr>\n",
       "    <tr>\n",
       "      <th>1</th>\n",
       "      <td>Total Detected Cases</td>\n",
       "      <td>2016</td>\n",
       "      <td>151914</td>\n",
       "    </tr>\n",
       "    <tr>\n",
       "      <th>2</th>\n",
       "      <td>Total Detected Cases</td>\n",
       "      <td>2017</td>\n",
       "      <td>125321</td>\n",
       "    </tr>\n",
       "    <tr>\n",
       "      <th>3</th>\n",
       "      <td>Total Detected Cases</td>\n",
       "      <td>2018</td>\n",
       "      <td>215683</td>\n",
       "    </tr>\n",
       "    <tr>\n",
       "      <th>4</th>\n",
       "      <td>Total Detected Cases</td>\n",
       "      <td>2019</td>\n",
       "      <td>217645</td>\n",
       "    </tr>\n",
       "    <tr>\n",
       "      <th>5</th>\n",
       "      <td>Total Detected Cases</td>\n",
       "      <td>2020</td>\n",
       "      <td>116834</td>\n",
       "    </tr>\n",
       "    <tr>\n",
       "      <th>6</th>\n",
       "      <td>Total Detected Cases</td>\n",
       "      <td>2021</td>\n",
       "      <td>388</td>\n",
       "    </tr>\n",
       "  </tbody>\n",
       "</table>\n",
       "</div>"
      ],
      "text/plain": [
       "               Flu Type  Year  Detected_Cases\n",
       "0  Total Detected Cases  2015            5433\n",
       "1  Total Detected Cases  2016          151914\n",
       "2  Total Detected Cases  2017          125321\n",
       "3  Total Detected Cases  2018          215683\n",
       "4  Total Detected Cases  2019          217645\n",
       "5  Total Detected Cases  2020          116834\n",
       "6  Total Detected Cases  2021             388"
      ]
     },
     "execution_count": 38,
     "metadata": {},
     "output_type": "execute_result"
    }
   ],
   "source": [
    "# Amount od total cases\n",
    "flu_detected2[(flu_detected2['Flu Type']=='Total Detected Cases')].sort_values(['Year']).groupby(['Flu Type','Year'])\\\n",
    "['Detected_Cases'].sum().reset_index()"
   ]
  },
  {
   "cell_type": "code",
   "execution_count": 39,
   "metadata": {},
   "outputs": [
    {
     "data": {
      "text/plain": [
       "Year\n",
       "2015     406\n",
       "2016    1645\n",
       "2017    1637\n",
       "2018    1731\n",
       "2019    1677\n",
       "2020    1707\n",
       "2021     960\n",
       "Name: Flu Type, dtype: int64"
      ]
     },
     "execution_count": 39,
     "metadata": {},
     "output_type": "execute_result"
    }
   ],
   "source": [
    "# Amount of records\n",
    "flu_detected2[(flu_detected2['Flu Type']=='Total Detected Cases')].groupby('Year')['Flu Type'].count()"
   ]
  },
  {
   "cell_type": "code",
   "execution_count": 40,
   "metadata": {},
   "outputs": [
    {
     "name": "stdout",
     "output_type": "stream",
     "text": [
      "In 2015 we have 14 weeks\n",
      "In 2016 we have 52 weeks\n",
      "In 2017 we have 52 weeks\n",
      "In 2018 we have 52 weeks\n",
      "In 2019 we have 52 weeks\n",
      "In 2020 we have 53 weeks\n",
      "In 2021 we have 19 weeks\n"
     ]
    }
   ],
   "source": [
    "years = flu_detected2.Year.unique()\n",
    "for year in years:\n",
    "    print(f'In {year} we have {len(flu_detected2[flu_detected2.Year==year].Week.unique())} weeks')"
   ]
  },
  {
   "cell_type": "code",
   "execution_count": 41,
   "metadata": {},
   "outputs": [],
   "source": [
    "# remove unnecesary weeks\n",
    "# flu_detected2 = flu_detected2[flu_detected2.Year!='2015']\n",
    "years_list = ['2016','2017','2018','2019','2020', '2021'] # we keep 2021 as covid data are available for this year\n",
    "flu_detected2 = flu_detected2[flu_detected2['Year'].isin(years_list)]"
   ]
  },
  {
   "cell_type": "code",
   "execution_count": 42,
   "metadata": {},
   "outputs": [
    {
     "data": {
      "text/html": [
       "<div>\n",
       "<style scoped>\n",
       "    .dataframe tbody tr th:only-of-type {\n",
       "        vertical-align: middle;\n",
       "    }\n",
       "\n",
       "    .dataframe tbody tr th {\n",
       "        vertical-align: top;\n",
       "    }\n",
       "\n",
       "    .dataframe thead th {\n",
       "        text-align: right;\n",
       "    }\n",
       "</style>\n",
       "<table border=\"1\" class=\"dataframe\">\n",
       "  <thead>\n",
       "    <tr style=\"text-align: right;\">\n",
       "      <th></th>\n",
       "      <th>Flu Type</th>\n",
       "      <th>Year</th>\n",
       "      <th>Detected_Cases</th>\n",
       "    </tr>\n",
       "  </thead>\n",
       "  <tbody>\n",
       "    <tr>\n",
       "      <th>0</th>\n",
       "      <td>Total Detected Cases</td>\n",
       "      <td>2016</td>\n",
       "      <td>2573</td>\n",
       "    </tr>\n",
       "    <tr>\n",
       "      <th>1</th>\n",
       "      <td>Total Detected Cases</td>\n",
       "      <td>2017</td>\n",
       "      <td>982</td>\n",
       "    </tr>\n",
       "    <tr>\n",
       "      <th>2</th>\n",
       "      <td>Total Detected Cases</td>\n",
       "      <td>2018</td>\n",
       "      <td>1678</td>\n",
       "    </tr>\n",
       "    <tr>\n",
       "      <th>3</th>\n",
       "      <td>Total Detected Cases</td>\n",
       "      <td>2019</td>\n",
       "      <td>1441</td>\n",
       "    </tr>\n",
       "    <tr>\n",
       "      <th>4</th>\n",
       "      <td>Total Detected Cases</td>\n",
       "      <td>2020</td>\n",
       "      <td>995</td>\n",
       "    </tr>\n",
       "    <tr>\n",
       "      <th>5</th>\n",
       "      <td>Total Detected Cases</td>\n",
       "      <td>2021</td>\n",
       "      <td>0</td>\n",
       "    </tr>\n",
       "  </tbody>\n",
       "</table>\n",
       "</div>"
      ],
      "text/plain": [
       "               Flu Type  Year  Detected_Cases\n",
       "0  Total Detected Cases  2016            2573\n",
       "1  Total Detected Cases  2017             982\n",
       "2  Total Detected Cases  2018            1678\n",
       "3  Total Detected Cases  2019            1441\n",
       "4  Total Detected Cases  2020             995\n",
       "5  Total Detected Cases  2021               0"
      ]
     },
     "execution_count": 42,
     "metadata": {},
     "output_type": "execute_result"
    }
   ],
   "source": [
    "flu_detected2[(flu_detected2.Country=='Poland')&(flu_detected2['Flu Type']=='Total Detected Cases')].sort_values(['Year'])\\\n",
    ".groupby(['Flu Type','Year'])['Detected_Cases'].sum().reset_index()"
   ]
  },
  {
   "cell_type": "code",
   "execution_count": 49,
   "metadata": {},
   "outputs": [],
   "source": [
    "df_flu = flu_detected2[(flu_detected2['Flu Type']=='Total Detected Cases')].sort_values(['Year'])\\\n",
    ".groupby(['Country','Year', 'Week'])['Detected_Cases'].sum().reset_index()"
   ]
  },
  {
   "cell_type": "code",
   "execution_count": 55,
   "metadata": {},
   "outputs": [
    {
     "data": {
      "image/png": "[encoded data removed]",
      "text/plain": [
       "<Figure size 1080x720 with 1 Axes>"
      ]
     },
     "metadata": {
      "needs_background": "light"
     },
     "output_type": "display_data"
    }
   ],
   "source": [
    "xs = df_flu.groupby('Year')['Detected_Cases'].sum().reset_index()['Year']\n",
    "ys = df_flu.groupby('Year')['Detected_Cases'].sum().reset_index().Detected_Cases.values\n",
    "\n",
    "plt.rcParams[\"figure.figsize\"] = (15,10)\n",
    "plt.plot(xs,ys,'bo-')\n",
    "\n",
    "for x,y in zip(xs,ys):\n",
    "\n",
    "    #label = \"{:.0f}\".format(y)\n",
    "    label = f'{y:,}'\n",
    "    plt.annotate(label, # this is the text\n",
    "                 (x,y), # this is the point to label\n",
    "                 textcoords=\"offset points\", # how to position the text\n",
    "                 xytext=(0,10), # distance from text to points (x,y)\n",
    "                 ha='center') # horizontal alignment can be left, right or center\n",
    "plt.grid(color = 'green', linestyle = '--', linewidth = 0.5)\n",
    "\n",
    "plt.show()"
   ]
  },
  {
   "cell_type": "code",
   "execution_count": 56,
   "metadata": {
    "scrolled": true
   },
   "outputs": [
    {
     "data": {
      "text/html": [
       "<div>\n",
       "<style scoped>\n",
       "    .dataframe tbody tr th:only-of-type {\n",
       "        vertical-align: middle;\n",
       "    }\n",
       "\n",
       "    .dataframe tbody tr th {\n",
       "        vertical-align: top;\n",
       "    }\n",
       "\n",
       "    .dataframe thead th {\n",
       "        text-align: right;\n",
       "    }\n",
       "</style>\n",
       "<table border=\"1\" class=\"dataframe\">\n",
       "  <thead>\n",
       "    <tr style=\"text-align: right;\">\n",
       "      <th></th>\n",
       "      <th>Country</th>\n",
       "      <th>Year</th>\n",
       "      <th>Week</th>\n",
       "      <th>Detected_Cases</th>\n",
       "    </tr>\n",
       "  </thead>\n",
       "  <tbody>\n",
       "    <tr>\n",
       "      <th>0</th>\n",
       "      <td>Albania</td>\n",
       "      <td>2016</td>\n",
       "      <td>W03</td>\n",
       "      <td>1</td>\n",
       "    </tr>\n",
       "    <tr>\n",
       "      <th>1</th>\n",
       "      <td>Albania</td>\n",
       "      <td>2016</td>\n",
       "      <td>W07</td>\n",
       "      <td>5</td>\n",
       "    </tr>\n",
       "    <tr>\n",
       "      <th>2</th>\n",
       "      <td>Albania</td>\n",
       "      <td>2017</td>\n",
       "      <td>W43</td>\n",
       "      <td>0</td>\n",
       "    </tr>\n",
       "    <tr>\n",
       "      <th>3</th>\n",
       "      <td>Albania</td>\n",
       "      <td>2017</td>\n",
       "      <td>W44</td>\n",
       "      <td>0</td>\n",
       "    </tr>\n",
       "    <tr>\n",
       "      <th>4</th>\n",
       "      <td>Albania</td>\n",
       "      <td>2018</td>\n",
       "      <td>W02</td>\n",
       "      <td>1</td>\n",
       "    </tr>\n",
       "    <tr>\n",
       "      <th>...</th>\n",
       "      <td>...</td>\n",
       "      <td>...</td>\n",
       "      <td>...</td>\n",
       "      <td>...</td>\n",
       "    </tr>\n",
       "    <tr>\n",
       "      <th>9352</th>\n",
       "      <td>Uzbekistan</td>\n",
       "      <td>2021</td>\n",
       "      <td>W15</td>\n",
       "      <td>0</td>\n",
       "    </tr>\n",
       "    <tr>\n",
       "      <th>9353</th>\n",
       "      <td>Uzbekistan</td>\n",
       "      <td>2021</td>\n",
       "      <td>W16</td>\n",
       "      <td>0</td>\n",
       "    </tr>\n",
       "    <tr>\n",
       "      <th>9354</th>\n",
       "      <td>Uzbekistan</td>\n",
       "      <td>2021</td>\n",
       "      <td>W17</td>\n",
       "      <td>0</td>\n",
       "    </tr>\n",
       "    <tr>\n",
       "      <th>9355</th>\n",
       "      <td>Uzbekistan</td>\n",
       "      <td>2021</td>\n",
       "      <td>W18</td>\n",
       "      <td>0</td>\n",
       "    </tr>\n",
       "    <tr>\n",
       "      <th>9356</th>\n",
       "      <td>Uzbekistan</td>\n",
       "      <td>2021</td>\n",
       "      <td>W19</td>\n",
       "      <td>0</td>\n",
       "    </tr>\n",
       "  </tbody>\n",
       "</table>\n",
       "<p>9357 rows × 4 columns</p>\n",
       "</div>"
      ],
      "text/plain": [
       "         Country  Year Week  Detected_Cases\n",
       "0        Albania  2016  W03               1\n",
       "1        Albania  2016  W07               5\n",
       "2        Albania  2017  W43               0\n",
       "3        Albania  2017  W44               0\n",
       "4        Albania  2018  W02               1\n",
       "...          ...   ...  ...             ...\n",
       "9352  Uzbekistan  2021  W15               0\n",
       "9353  Uzbekistan  2021  W16               0\n",
       "9354  Uzbekistan  2021  W17               0\n",
       "9355  Uzbekistan  2021  W18               0\n",
       "9356  Uzbekistan  2021  W19               0\n",
       "\n",
       "[9357 rows x 4 columns]"
      ]
     },
     "execution_count": 56,
     "metadata": {},
     "output_type": "execute_result"
    }
   ],
   "source": [
    "df_flu"
   ]
  },
  {
   "cell_type": "code",
   "execution_count": 57,
   "metadata": {},
   "outputs": [],
   "source": [
    "df_flu['Week'] = df_flu['Week'].map(lambda x: x.lstrip('W'))\n",
    "df_flu['Week'] = df_flu['Week'].astype('int')\n",
    "df_flu['Year'] = df_flu['Year'].astype('int')"
   ]
  },
  {
   "cell_type": "code",
   "execution_count": 58,
   "metadata": {},
   "outputs": [
    {
     "name": "stdout",
     "output_type": "stream",
     "text": [
      "<class 'pandas.core.frame.DataFrame'>\n",
      "RangeIndex: 9357 entries, 0 to 9356\n",
      "Data columns (total 4 columns):\n",
      " #   Column          Non-Null Count  Dtype \n",
      "---  ------          --------------  ----- \n",
      " 0   Country         9357 non-null   object\n",
      " 1   Year            9357 non-null   int32 \n",
      " 2   Week            9357 non-null   int32 \n",
      " 3   Detected_Cases  9357 non-null   int64 \n",
      "dtypes: int32(2), int64(1), object(1)\n",
      "memory usage: 219.4+ KB\n"
     ]
    }
   ],
   "source": [
    "df_flu.info()"
   ]
  },
  {
   "cell_type": "code",
   "execution_count": 59,
   "metadata": {},
   "outputs": [
    {
     "data": {
      "text/html": [
       "<div>\n",
       "<style scoped>\n",
       "    .dataframe tbody tr th:only-of-type {\n",
       "        vertical-align: middle;\n",
       "    }\n",
       "\n",
       "    .dataframe tbody tr th {\n",
       "        vertical-align: top;\n",
       "    }\n",
       "\n",
       "    .dataframe thead th {\n",
       "        text-align: right;\n",
       "    }\n",
       "</style>\n",
       "<table border=\"1\" class=\"dataframe\">\n",
       "  <thead>\n",
       "    <tr style=\"text-align: right;\">\n",
       "      <th></th>\n",
       "      <th>Country</th>\n",
       "      <th>Year</th>\n",
       "      <th>Week</th>\n",
       "      <th>Detected_Cases</th>\n",
       "    </tr>\n",
       "  </thead>\n",
       "  <tbody>\n",
       "    <tr>\n",
       "      <th>81</th>\n",
       "      <td>Austria</td>\n",
       "      <td>2016</td>\n",
       "      <td>1</td>\n",
       "      <td>38</td>\n",
       "    </tr>\n",
       "    <tr>\n",
       "      <th>215</th>\n",
       "      <td>Azerbaijan</td>\n",
       "      <td>2016</td>\n",
       "      <td>1</td>\n",
       "      <td>9</td>\n",
       "    </tr>\n",
       "    <tr>\n",
       "      <th>396</th>\n",
       "      <td>Belarus</td>\n",
       "      <td>2016</td>\n",
       "      <td>1</td>\n",
       "      <td>5</td>\n",
       "    </tr>\n",
       "    <tr>\n",
       "      <th>673</th>\n",
       "      <td>Bulgaria</td>\n",
       "      <td>2016</td>\n",
       "      <td>1</td>\n",
       "      <td>3</td>\n",
       "    </tr>\n",
       "    <tr>\n",
       "      <th>787</th>\n",
       "      <td>Croatia</td>\n",
       "      <td>2016</td>\n",
       "      <td>1</td>\n",
       "      <td>7</td>\n",
       "    </tr>\n",
       "    <tr>\n",
       "      <th>1007</th>\n",
       "      <td>Czechia</td>\n",
       "      <td>2016</td>\n",
       "      <td>1</td>\n",
       "      <td>1</td>\n",
       "    </tr>\n",
       "    <tr>\n",
       "      <th>1179</th>\n",
       "      <td>Denmark</td>\n",
       "      <td>2016</td>\n",
       "      <td>1</td>\n",
       "      <td>30</td>\n",
       "    </tr>\n",
       "    <tr>\n",
       "      <th>1457</th>\n",
       "      <td>Estonia</td>\n",
       "      <td>2016</td>\n",
       "      <td>1</td>\n",
       "      <td>6</td>\n",
       "    </tr>\n",
       "    <tr>\n",
       "      <th>1696</th>\n",
       "      <td>Finland</td>\n",
       "      <td>2016</td>\n",
       "      <td>1</td>\n",
       "      <td>5</td>\n",
       "    </tr>\n",
       "    <tr>\n",
       "      <th>1976</th>\n",
       "      <td>France</td>\n",
       "      <td>2016</td>\n",
       "      <td>1</td>\n",
       "      <td>75</td>\n",
       "    </tr>\n",
       "  </tbody>\n",
       "</table>\n",
       "</div>"
      ],
      "text/plain": [
       "         Country  Year  Week  Detected_Cases\n",
       "81       Austria  2016     1              38\n",
       "215   Azerbaijan  2016     1               9\n",
       "396      Belarus  2016     1               5\n",
       "673     Bulgaria  2016     1               3\n",
       "787      Croatia  2016     1               7\n",
       "1007     Czechia  2016     1               1\n",
       "1179     Denmark  2016     1              30\n",
       "1457     Estonia  2016     1               6\n",
       "1696     Finland  2016     1               5\n",
       "1976      France  2016     1              75"
      ]
     },
     "execution_count": 59,
     "metadata": {},
     "output_type": "execute_result"
    }
   ],
   "source": [
    "df_flu.sort_values(['Year','Week']).head(10)"
   ]
  },
  {
   "cell_type": "code",
   "execution_count": 61,
   "metadata": {},
   "outputs": [
    {
     "data": {
      "text/html": [
       "<div>\n",
       "<style scoped>\n",
       "    .dataframe tbody tr th:only-of-type {\n",
       "        vertical-align: middle;\n",
       "    }\n",
       "\n",
       "    .dataframe tbody tr th {\n",
       "        vertical-align: top;\n",
       "    }\n",
       "\n",
       "    .dataframe thead th {\n",
       "        text-align: right;\n",
       "    }\n",
       "</style>\n",
       "<table border=\"1\" class=\"dataframe\">\n",
       "  <thead>\n",
       "    <tr style=\"text-align: right;\">\n",
       "      <th></th>\n",
       "      <th>Year</th>\n",
       "      <th>Detected_Cases</th>\n",
       "    </tr>\n",
       "  </thead>\n",
       "  <tbody>\n",
       "    <tr>\n",
       "      <th>0</th>\n",
       "      <td>2016</td>\n",
       "      <td>2573</td>\n",
       "    </tr>\n",
       "    <tr>\n",
       "      <th>1</th>\n",
       "      <td>2017</td>\n",
       "      <td>982</td>\n",
       "    </tr>\n",
       "    <tr>\n",
       "      <th>2</th>\n",
       "      <td>2018</td>\n",
       "      <td>1678</td>\n",
       "    </tr>\n",
       "    <tr>\n",
       "      <th>3</th>\n",
       "      <td>2019</td>\n",
       "      <td>1441</td>\n",
       "    </tr>\n",
       "    <tr>\n",
       "      <th>4</th>\n",
       "      <td>2020</td>\n",
       "      <td>995</td>\n",
       "    </tr>\n",
       "    <tr>\n",
       "      <th>5</th>\n",
       "      <td>2021</td>\n",
       "      <td>0</td>\n",
       "    </tr>\n",
       "  </tbody>\n",
       "</table>\n",
       "</div>"
      ],
      "text/plain": [
       "   Year  Detected_Cases\n",
       "0  2016            2573\n",
       "1  2017             982\n",
       "2  2018            1678\n",
       "3  2019            1441\n",
       "4  2020             995\n",
       "5  2021               0"
      ]
     },
     "execution_count": 61,
     "metadata": {},
     "output_type": "execute_result"
    }
   ],
   "source": [
    "df_flu[(df_flu.Country=='Poland')].sort_values(['Year'])\\\n",
    ".groupby(['Year'])['Detected_Cases'].sum().reset_index()"
   ]
  },
  {
   "cell_type": "markdown",
   "metadata": {},
   "source": [
    "-----\n",
    "## Import Covid tables down below"
   ]
  },
  {
   "cell_type": "markdown",
   "metadata": {},
   "source": [
    "## [Daily reports (csse_covid_19_daily_reports)](https://github.com/CSSEGISandData/COVID-19/tree/master/csse_covid_19_data/csse_covid_19_daily_reports)\n",
    "\n",
    "This folder contains daily case reports. All timestamps are in UTC (GMT+0).\n",
    "\n",
    "### File naming convention\n",
    "MM-DD-YYYY.csv in UTC.\n",
    "\n",
    "### Field description\n",
    "* <b>FIPS</b>: US only. Federal Information Processing Standards code that uniquely identifies counties within the USA.\n",
    "* <b>Admin2</b>: County name. US only.\n",
    "* <b>Province_State</b>: Province, state or dependency name.\n",
    "* <b>Country_Region</b>: Country, region or sovereignty name. The names of locations included on the Website correspond with the official designations used by the U.S. Department of State.\n",
    "* <b>Last Update</b>: MM/DD/YYYY HH:mm:ss  (24 hour format, in UTC).\n",
    "* <b>Lat</b> and <b>Long_</b>: Dot locations on the dashboard. All points (except for Australia) shown on the map are based on geographic centroids, and are not representative of a specific address, building or any location at a spatial scale finer than a province/state. Australian dots are located at the centroid of the largest city in each state.\n",
    "* <b>Confirmed</b>: Counts include confirmed and probable (where reported).\n",
    "* <b>Deaths</b>: Counts include confirmed and probable (where reported).\n",
    "* <b>Recovered</b>: Recovered cases are estimates based on local media reports, and state and local reporting when available, and therefore may be substantially lower than the true number. US state-level recovered cases are from [COVID Tracking Project](https://covidtracking.com/).\n",
    "* <b>Active:</b> Active cases = total cases - total recovered - total deaths.\n",
    "* <b>Incident_Rate</b>: Incidence Rate = cases per 100,000 persons.\n",
    "* <b>Case_Fatality_Ratio (%)</b>: Case-Fatality Ratio (%) = Number recorded deaths / Number cases.\n",
    "* All cases, deaths, and recoveries reported are based on the date of initial report. Exceptions to this are noted in the \"Data Modification\" and \"Retrospective reporting of (probable) cases and deaths\" subsections below.  \n"
   ]
  },
  {
   "cell_type": "markdown",
   "metadata": {},
   "source": [
    "What do we need:\n",
    "\n",
    "* <b>Country_Region</b>: Country, region or sovereignty name. The names of locations included on the Website correspond with the official designations used by the U.S. Department of State.\n",
    "* <b>Last Update</b>: MM/DD/YYYY HH:mm:ss  (24 hour format, in UTC).\n",
    "* <b>Lat</b> and <b>Long_</b>: Dot locations on the dashboard. All points (except for Australia) shown on the map are based on geographic centroids, and are not representative of a specific address, building or any location at a spatial scale finer than a province/state. Australian dots are located at the centroid of the largest city in each state.\n",
    "* <b>Confirmed</b>: Counts include confirmed and probable (where reported).\n",
    "* <b>Deaths</b>: Counts include confirmed and probable (where reported).\n",
    "* <b>Recovered</b>: Recovered cases are estimates based on local media reports, and state and local reporting when available, and therefore may be substantially lower than the true number. US state-level recovered cases are from [COVID Tracking Project](https://covidtracking.com/).\n",
    "* <b>Active:</b> Active cases = total cases - total recovered - total deaths.\n",
    "* <b>Incident_Rate</b>: Incidence Rate = cases per 100,000 persons.\n",
    "* <b>Case_Fatality_Ratio (%)</b>: Case-Fatality Ratio (%) = Number recorded deaths / Number cases.\n",
    "* All cases, deaths, and recoveries reported are based on the date of initial report. Exceptions to this are noted in the \"Data Modification\" and \"Retrospective reporting of (probable) cases and deaths\" subsections below.  \n"
   ]
  },
  {
   "cell_type": "code",
   "execution_count": null,
   "metadata": {},
   "outputs": [],
   "source": [
    "url = \"https://github.com/CSSEGISandData/COVID-19/tree/master/csse_covid_19_data/csse_covid_19_daily_reports\"\n",
    "r = requests.get(url)"
   ]
  },
  {
   "cell_type": "code",
   "execution_count": null,
   "metadata": {},
   "outputs": [],
   "source": [
    "html_doc = r.text\n",
    "soup = BeautifulSoup(html_doc)\n",
    "a_tags = soup.find_all('a')\n",
    "\n",
    "# Store a list of urls ending in .csv: urls => list\n",
    "urls = ['https://raw.githubusercontent.com'+re.sub('/blob', '', link.get('href'))\n",
    "        for link in a_tags  if '.csv' in link.get('href')]\n",
    "\n",
    "# Store a list of Data Frame names to be assigned to the list: df_list_names => list\n",
    "df_list_names = [url.split('.csv')[0].split('/')[url.count('/')] for url in urls]"
   ]
  },
  {
   "cell_type": "code",
   "execution_count": null,
   "metadata": {},
   "outputs": [],
   "source": [
    "urls[:5]"
   ]
  },
  {
   "cell_type": "code",
   "execution_count": null,
   "metadata": {},
   "outputs": [],
   "source": [
    "df_list_names[:5]"
   ]
  },
  {
   "cell_type": "code",
   "execution_count": null,
   "metadata": {},
   "outputs": [],
   "source": [
    "comments = pd.DataFrame(columns=['File_Name','Added','Not_Added'])\n",
    "comments.head()"
   ]
  },
  {
   "cell_type": "code",
   "execution_count": null,
   "metadata": {},
   "outputs": [],
   "source": [
    "len(urls)"
   ]
  },
  {
   "cell_type": "code",
   "execution_count": null,
   "metadata": {},
   "outputs": [],
   "source": [
    "cols = ['Country_Region','Last_Update','Lat','Long_','Confirmed','Deaths','Recovered','File_Name']\n",
    "\n",
    "covid_table = pd.DataFrame(columns = cols)\n",
    "covid_table.head()"
   ]
  },
  {
   "cell_type": "code",
   "execution_count": null,
   "metadata": {},
   "outputs": [],
   "source": [
    "def Add_Comment(url_name, is_ok, is_not_ok):\n",
    "    data = [[url_name,is_ok,is_not_ok]]\n",
    "    comment_note = pd.DataFrame(data, columns = ['File_Name','Added','Not_Added'])\n",
    "    return comment_note"
   ]
  },
  {
   "cell_type": "code",
   "execution_count": null,
   "metadata": {},
   "outputs": [],
   "source": [
    "# some tables have a bit different column names, if so then I keep only the below names\n",
    "col_names1 = ['Country_Region','Last_Update','Lat','Long_','Confirmed','Deaths','Recovered']\n",
    "col_names2 = ['Country/Region','Last Update','Latitude','Longitude','Confirmed','Deaths','Recovered']\n",
    "col_names3 = ['Country/Region','Last Update','Confirmed','Deaths','Recovered']"
   ]
  },
  {
   "cell_type": "code",
   "execution_count": null,
   "metadata": {
    "scrolled": true
   },
   "outputs": [],
   "source": [
    "url"
   ]
  },
  {
   "cell_type": "code",
   "execution_count": null,
   "metadata": {},
   "outputs": [],
   "source": [
    "for count, url in enumerate(urls):\n",
    "    download = requests.get(url).content\n",
    "    # Reading the downloaded content and turning it into a pandas dataframe\n",
    "    df = pd.read_csv(io.StringIO(download.decode('utf-8')))\n",
    "    if (df.shape[1] == 14) | (df.shape[1] == 12):\n",
    "        df = df[col_names1]\n",
    "    elif df.shape[1] == 8:\n",
    "        df = df[col_names2]\n",
    "    elif df.shape[1] == 6:\n",
    "        df = df[col_names3]\n",
    "        df['Lat'] = 0\n",
    "        df['Long_'] = 0\n",
    "        df = df[['Country/Region','Last Update','Lat','Long_','Confirmed','Deaths','Recovered']]\n",
    "    else:\n",
    "        print(f'We have {df.shape[1]} columns in {url} file')\n",
    "    \n",
    "    df['File_Name'] = df_list_names[count]        \n",
    "    try:\n",
    "        df.columns = cols # renaming the columns\n",
    "        covid_table = covid_table.append(df, ignore_index=True)\n",
    "        comment = Add_Comment(df_list_names[count], 1, 0)\n",
    "        comments = comments.append(comment, ignore_index=True)\n",
    "    except:\n",
    "        comment = Add_Comment(df_list_names[count], 0, 1)\n",
    "        comments = comments.append(comment, ignore_index=True)\n",
    "        pass"
   ]
  },
  {
   "cell_type": "code",
   "execution_count": null,
   "metadata": {},
   "outputs": [],
   "source": [
    "df.head()"
   ]
  },
  {
   "cell_type": "code",
   "execution_count": null,
   "metadata": {},
   "outputs": [],
   "source": [
    "covid_table.head()"
   ]
  },
  {
   "cell_type": "code",
   "execution_count": null,
   "metadata": {},
   "outputs": [],
   "source": [
    "covid_table.info()"
   ]
  },
  {
   "cell_type": "code",
   "execution_count": null,
   "metadata": {},
   "outputs": [],
   "source": [
    "comments[['Added','Not_Added']].sum().plot(kind='bar')"
   ]
  },
  {
   "cell_type": "markdown",
   "metadata": {},
   "source": [
    "## Save the file\n",
    "to safe my time for loading data from the internet"
   ]
  },
  {
   "cell_type": "code",
   "execution_count": null,
   "metadata": {},
   "outputs": [],
   "source": [
    "covid_table.to_csv('covid_summary.csv',index=False)"
   ]
  },
  {
   "cell_type": "code",
   "execution_count": null,
   "metadata": {},
   "outputs": [],
   "source": [
    "df_covid = pd.read_csv('covid_summary.csv')\n",
    "# df_covid = covid_table.copy()"
   ]
  },
  {
   "cell_type": "markdown",
   "metadata": {},
   "source": [
    "## Covid Table Analyzing"
   ]
  },
  {
   "cell_type": "code",
   "execution_count": 62,
   "metadata": {},
   "outputs": [],
   "source": [
    "df_covid = pd.read_csv('covid_summary.csv')"
   ]
  },
  {
   "cell_type": "code",
   "execution_count": 63,
   "metadata": {},
   "outputs": [],
   "source": [
    "df_covid['File_Name'] = pd.to_datetime(df_covid['File_Name']).dt.date\n",
    "df_covid['Last_Update'] = pd.to_datetime(df_covid['Last_Update']).dt.date"
   ]
  },
  {
   "cell_type": "code",
   "execution_count": 64,
   "metadata": {},
   "outputs": [],
   "source": [
    "df_covid.fillna({'Deaths':0,'Confirmed':0,'Recovered':0},inplace=True)"
   ]
  },
  {
   "cell_type": "code",
   "execution_count": 65,
   "metadata": {},
   "outputs": [],
   "source": [
    "covid_cases_list = ['Confirmed','Deaths','Recovered']\n",
    "for case in covid_cases_list:\n",
    "    df_covid[case] = df_covid[case].astype(float)"
   ]
  },
  {
   "cell_type": "code",
   "execution_count": 66,
   "metadata": {
    "scrolled": true
   },
   "outputs": [
    {
     "name": "stdout",
     "output_type": "stream",
     "text": [
      "<class 'pandas.core.frame.DataFrame'>\n",
      "RangeIndex: 1645514 entries, 0 to 1645513\n",
      "Data columns (total 8 columns):\n",
      " #   Column          Non-Null Count    Dtype  \n",
      "---  ------          --------------    -----  \n",
      " 0   Country_Region  1645514 non-null  object \n",
      " 1   Last_Update     1645514 non-null  object \n",
      " 2   Lat             1611454 non-null  float64\n",
      " 3   Long_           1611454 non-null  float64\n",
      " 4   Confirmed       1645514 non-null  float64\n",
      " 5   Deaths          1645514 non-null  float64\n",
      " 6   Recovered       1645514 non-null  float64\n",
      " 7   File_Name       1645514 non-null  object \n",
      "dtypes: float64(5), object(3)\n",
      "memory usage: 100.4+ MB\n"
     ]
    }
   ],
   "source": [
    "df_covid.info()"
   ]
  },
  {
   "cell_type": "code",
   "execution_count": 67,
   "metadata": {},
   "outputs": [
    {
     "data": {
      "text/html": [
       "<div>\n",
       "<style scoped>\n",
       "    .dataframe tbody tr th:only-of-type {\n",
       "        vertical-align: middle;\n",
       "    }\n",
       "\n",
       "    .dataframe tbody tr th {\n",
       "        vertical-align: top;\n",
       "    }\n",
       "\n",
       "    .dataframe thead th {\n",
       "        text-align: right;\n",
       "    }\n",
       "</style>\n",
       "<table border=\"1\" class=\"dataframe\">\n",
       "  <thead>\n",
       "    <tr style=\"text-align: right;\">\n",
       "      <th></th>\n",
       "      <th>Country_Region</th>\n",
       "      <th>Last_Update</th>\n",
       "      <th>Lat</th>\n",
       "      <th>Long_</th>\n",
       "      <th>Confirmed</th>\n",
       "      <th>Deaths</th>\n",
       "      <th>Recovered</th>\n",
       "      <th>File_Name</th>\n",
       "    </tr>\n",
       "  </thead>\n",
       "  <tbody>\n",
       "    <tr>\n",
       "      <th>0</th>\n",
       "      <td>Afghanistan</td>\n",
       "      <td>2021-01-02</td>\n",
       "      <td>33.93911</td>\n",
       "      <td>67.709953</td>\n",
       "      <td>51526.0</td>\n",
       "      <td>2191.0</td>\n",
       "      <td>41727.0</td>\n",
       "      <td>2021-01-01</td>\n",
       "    </tr>\n",
       "    <tr>\n",
       "      <th>1</th>\n",
       "      <td>Albania</td>\n",
       "      <td>2021-01-02</td>\n",
       "      <td>41.15330</td>\n",
       "      <td>20.168300</td>\n",
       "      <td>58316.0</td>\n",
       "      <td>1181.0</td>\n",
       "      <td>33634.0</td>\n",
       "      <td>2021-01-01</td>\n",
       "    </tr>\n",
       "    <tr>\n",
       "      <th>2</th>\n",
       "      <td>Algeria</td>\n",
       "      <td>2021-01-02</td>\n",
       "      <td>28.03390</td>\n",
       "      <td>1.659600</td>\n",
       "      <td>99897.0</td>\n",
       "      <td>2762.0</td>\n",
       "      <td>67395.0</td>\n",
       "      <td>2021-01-01</td>\n",
       "    </tr>\n",
       "    <tr>\n",
       "      <th>3</th>\n",
       "      <td>Andorra</td>\n",
       "      <td>2021-01-02</td>\n",
       "      <td>42.50630</td>\n",
       "      <td>1.521800</td>\n",
       "      <td>8117.0</td>\n",
       "      <td>84.0</td>\n",
       "      <td>7463.0</td>\n",
       "      <td>2021-01-01</td>\n",
       "    </tr>\n",
       "    <tr>\n",
       "      <th>4</th>\n",
       "      <td>Angola</td>\n",
       "      <td>2021-01-02</td>\n",
       "      <td>-11.20270</td>\n",
       "      <td>17.873900</td>\n",
       "      <td>17568.0</td>\n",
       "      <td>405.0</td>\n",
       "      <td>11146.0</td>\n",
       "      <td>2021-01-01</td>\n",
       "    </tr>\n",
       "  </tbody>\n",
       "</table>\n",
       "</div>"
      ],
      "text/plain": [
       "  Country_Region Last_Update       Lat      Long_  Confirmed  Deaths  \\\n",
       "0    Afghanistan  2021-01-02  33.93911  67.709953    51526.0  2191.0   \n",
       "1        Albania  2021-01-02  41.15330  20.168300    58316.0  1181.0   \n",
       "2        Algeria  2021-01-02  28.03390   1.659600    99897.0  2762.0   \n",
       "3        Andorra  2021-01-02  42.50630   1.521800     8117.0    84.0   \n",
       "4         Angola  2021-01-02 -11.20270  17.873900    17568.0   405.0   \n",
       "\n",
       "   Recovered   File_Name  \n",
       "0    41727.0  2021-01-01  \n",
       "1    33634.0  2021-01-01  \n",
       "2    67395.0  2021-01-01  \n",
       "3     7463.0  2021-01-01  \n",
       "4    11146.0  2021-01-01  "
      ]
     },
     "execution_count": 67,
     "metadata": {},
     "output_type": "execute_result"
    }
   ],
   "source": [
    "df_covid.head()"
   ]
  },
  {
   "cell_type": "code",
   "execution_count": 68,
   "metadata": {},
   "outputs": [],
   "source": [
    "df_covid = df_covid.groupby(['Country_Region','Last_Update']).agg({'Confirmed':'sum','Deaths':'sum','Recovered':'sum'}).reset_index()"
   ]
  },
  {
   "cell_type": "code",
   "execution_count": 69,
   "metadata": {},
   "outputs": [
    {
     "data": {
      "text/html": [
       "<div>\n",
       "<style scoped>\n",
       "    .dataframe tbody tr th:only-of-type {\n",
       "        vertical-align: middle;\n",
       "    }\n",
       "\n",
       "    .dataframe tbody tr th {\n",
       "        vertical-align: top;\n",
       "    }\n",
       "\n",
       "    .dataframe thead th {\n",
       "        text-align: right;\n",
       "    }\n",
       "</style>\n",
       "<table border=\"1\" class=\"dataframe\">\n",
       "  <thead>\n",
       "    <tr style=\"text-align: right;\">\n",
       "      <th></th>\n",
       "      <th>Country_Region</th>\n",
       "      <th>Last_Update</th>\n",
       "      <th>Confirmed</th>\n",
       "      <th>Deaths</th>\n",
       "      <th>Recovered</th>\n",
       "    </tr>\n",
       "  </thead>\n",
       "  <tbody>\n",
       "    <tr>\n",
       "      <th>0</th>\n",
       "      <td>Azerbaijan</td>\n",
       "      <td>2020-02-28</td>\n",
       "      <td>1.0</td>\n",
       "      <td>0.0</td>\n",
       "      <td>0.0</td>\n",
       "    </tr>\n",
       "    <tr>\n",
       "      <th>1</th>\n",
       "      <td>Afghanistan</td>\n",
       "      <td>2020-02-24</td>\n",
       "      <td>26.0</td>\n",
       "      <td>0.0</td>\n",
       "      <td>0.0</td>\n",
       "    </tr>\n",
       "    <tr>\n",
       "      <th>2</th>\n",
       "      <td>Afghanistan</td>\n",
       "      <td>2020-03-08</td>\n",
       "      <td>12.0</td>\n",
       "      <td>0.0</td>\n",
       "      <td>0.0</td>\n",
       "    </tr>\n",
       "    <tr>\n",
       "      <th>3</th>\n",
       "      <td>Afghanistan</td>\n",
       "      <td>2020-03-10</td>\n",
       "      <td>8.0</td>\n",
       "      <td>0.0</td>\n",
       "      <td>0.0</td>\n",
       "    </tr>\n",
       "    <tr>\n",
       "      <th>4</th>\n",
       "      <td>Afghanistan</td>\n",
       "      <td>2020-03-11</td>\n",
       "      <td>36.0</td>\n",
       "      <td>0.0</td>\n",
       "      <td>0.0</td>\n",
       "    </tr>\n",
       "  </tbody>\n",
       "</table>\n",
       "</div>"
      ],
      "text/plain": [
       "  Country_Region Last_Update  Confirmed  Deaths  Recovered\n",
       "0     Azerbaijan  2020-02-28        1.0     0.0        0.0\n",
       "1    Afghanistan  2020-02-24       26.0     0.0        0.0\n",
       "2    Afghanistan  2020-03-08       12.0     0.0        0.0\n",
       "3    Afghanistan  2020-03-10        8.0     0.0        0.0\n",
       "4    Afghanistan  2020-03-11       36.0     0.0        0.0"
      ]
     },
     "execution_count": 69,
     "metadata": {},
     "output_type": "execute_result"
    }
   ],
   "source": [
    "df_covid.head()"
   ]
  },
  {
   "cell_type": "code",
   "execution_count": 70,
   "metadata": {},
   "outputs": [],
   "source": [
    "# getting week/year as numbers\n",
    "week_no = []\n",
    "year_no = []\n",
    "for value in df_covid['Last_Update']:\n",
    "    week_no.append(value.isocalendar()[1])\n",
    "    year_no.append(value.isocalendar()[0])\n",
    "\n",
    "df_covid['Week'] = week_no\n",
    "df_covid['Year'] = year_no"
   ]
  },
  {
   "cell_type": "code",
   "execution_count": 71,
   "metadata": {},
   "outputs": [
    {
     "data": {
      "text/html": [
       "<div>\n",
       "<style scoped>\n",
       "    .dataframe tbody tr th:only-of-type {\n",
       "        vertical-align: middle;\n",
       "    }\n",
       "\n",
       "    .dataframe tbody tr th {\n",
       "        vertical-align: top;\n",
       "    }\n",
       "\n",
       "    .dataframe thead th {\n",
       "        text-align: right;\n",
       "    }\n",
       "</style>\n",
       "<table border=\"1\" class=\"dataframe\">\n",
       "  <thead>\n",
       "    <tr style=\"text-align: right;\">\n",
       "      <th></th>\n",
       "      <th>Country_Region</th>\n",
       "      <th>Last_Update</th>\n",
       "      <th>Confirmed</th>\n",
       "      <th>Deaths</th>\n",
       "      <th>Recovered</th>\n",
       "      <th>Week</th>\n",
       "      <th>Year</th>\n",
       "    </tr>\n",
       "  </thead>\n",
       "  <tbody>\n",
       "    <tr>\n",
       "      <th>29440</th>\n",
       "      <td>Germany</td>\n",
       "      <td>2021-05-24</td>\n",
       "      <td>3657662.0</td>\n",
       "      <td>87429.0</td>\n",
       "      <td>3410040.0</td>\n",
       "      <td>21</td>\n",
       "      <td>2021</td>\n",
       "    </tr>\n",
       "    <tr>\n",
       "      <th>29441</th>\n",
       "      <td>Germany</td>\n",
       "      <td>2021-05-25</td>\n",
       "      <td>3659990.0</td>\n",
       "      <td>87461.0</td>\n",
       "      <td>3425380.0</td>\n",
       "      <td>21</td>\n",
       "      <td>2021</td>\n",
       "    </tr>\n",
       "  </tbody>\n",
       "</table>\n",
       "</div>"
      ],
      "text/plain": [
       "      Country_Region Last_Update  Confirmed   Deaths  Recovered  Week  Year\n",
       "29440        Germany  2021-05-24  3657662.0  87429.0  3410040.0    21  2021\n",
       "29441        Germany  2021-05-25  3659990.0  87461.0  3425380.0    21  2021"
      ]
     },
     "execution_count": 71,
     "metadata": {},
     "output_type": "execute_result"
    }
   ],
   "source": [
    "df_covid[(df_covid.Country_Region=='Germany')&(df_covid.Week==21)&(df_covid.Year==2021)]"
   ]
  },
  {
   "cell_type": "code",
   "execution_count": 72,
   "metadata": {},
   "outputs": [],
   "source": [
    "df_covid = df_covid.groupby(['Country_Region','Week','Year'], sort=False).agg({'Confirmed':'max','Deaths':'max','Recovered':'max'}).reset_index()"
   ]
  },
  {
   "cell_type": "code",
   "execution_count": 73,
   "metadata": {},
   "outputs": [
    {
     "data": {
      "text/html": [
       "<div>\n",
       "<style scoped>\n",
       "    .dataframe tbody tr th:only-of-type {\n",
       "        vertical-align: middle;\n",
       "    }\n",
       "\n",
       "    .dataframe tbody tr th {\n",
       "        vertical-align: top;\n",
       "    }\n",
       "\n",
       "    .dataframe thead th {\n",
       "        text-align: right;\n",
       "    }\n",
       "</style>\n",
       "<table border=\"1\" class=\"dataframe\">\n",
       "  <thead>\n",
       "    <tr style=\"text-align: right;\">\n",
       "      <th></th>\n",
       "      <th>Country_Region</th>\n",
       "      <th>Week</th>\n",
       "      <th>Year</th>\n",
       "      <th>Confirmed</th>\n",
       "      <th>Deaths</th>\n",
       "      <th>Recovered</th>\n",
       "    </tr>\n",
       "  </thead>\n",
       "  <tbody>\n",
       "    <tr>\n",
       "      <th>4362</th>\n",
       "      <td>Germany</td>\n",
       "      <td>20</td>\n",
       "      <td>2021</td>\n",
       "      <td>3653019.0</td>\n",
       "      <td>87385.0</td>\n",
       "      <td>3398700.0</td>\n",
       "    </tr>\n",
       "  </tbody>\n",
       "</table>\n",
       "</div>"
      ],
      "text/plain": [
       "     Country_Region  Week  Year  Confirmed   Deaths  Recovered\n",
       "4362        Germany    20  2021  3653019.0  87385.0  3398700.0"
      ]
     },
     "execution_count": 73,
     "metadata": {},
     "output_type": "execute_result"
    }
   ],
   "source": [
    "df_covid[(df_covid.Country_Region=='Germany')&(df_covid.Week==20)&(df_covid.Year==2021)]"
   ]
  },
  {
   "cell_type": "code",
   "execution_count": 74,
   "metadata": {},
   "outputs": [
    {
     "data": {
      "text/plain": [
       "2866181.0"
      ]
     },
     "execution_count": 74,
     "metadata": {},
     "output_type": "execute_result"
    }
   ],
   "source": [
    "df_covid[(df_covid.Country_Region=='Poland')]['Confirmed'].max()"
   ]
  },
  {
   "cell_type": "code",
   "execution_count": 75,
   "metadata": {},
   "outputs": [
    {
     "data": {
      "text/plain": [
       "array([2020, 2021], dtype=int64)"
      ]
     },
     "execution_count": 75,
     "metadata": {},
     "output_type": "execute_result"
    }
   ],
   "source": [
    "df_covid.Year.unique()"
   ]
  },
  {
   "cell_type": "markdown",
   "metadata": {},
   "source": [
    "## Comparison"
   ]
  },
  {
   "cell_type": "code",
   "execution_count": 76,
   "metadata": {},
   "outputs": [],
   "source": [
    "df_covid.rename(columns={'Country_Region':'Country'},inplace=True)"
   ]
  },
  {
   "cell_type": "code",
   "execution_count": 77,
   "metadata": {},
   "outputs": [
    {
     "name": "stdout",
     "output_type": "stream",
     "text": [
      "<class 'pandas.core.frame.DataFrame'>\n",
      "RangeIndex: 12389 entries, 0 to 12388\n",
      "Data columns (total 6 columns):\n",
      " #   Column     Non-Null Count  Dtype  \n",
      "---  ------     --------------  -----  \n",
      " 0   Country    12389 non-null  object \n",
      " 1   Week       12389 non-null  int64  \n",
      " 2   Year       12389 non-null  int64  \n",
      " 3   Confirmed  12389 non-null  float64\n",
      " 4   Deaths     12389 non-null  float64\n",
      " 5   Recovered  12389 non-null  float64\n",
      "dtypes: float64(3), int64(2), object(1)\n",
      "memory usage: 580.9+ KB\n"
     ]
    }
   ],
   "source": [
    "df_covid.info()"
   ]
  },
  {
   "cell_type": "code",
   "execution_count": 78,
   "metadata": {},
   "outputs": [
    {
     "name": "stdout",
     "output_type": "stream",
     "text": [
      "<class 'pandas.core.frame.DataFrame'>\n",
      "RangeIndex: 9357 entries, 0 to 9356\n",
      "Data columns (total 4 columns):\n",
      " #   Column          Non-Null Count  Dtype \n",
      "---  ------          --------------  ----- \n",
      " 0   Country         9357 non-null   object\n",
      " 1   Year            9357 non-null   int32 \n",
      " 2   Week            9357 non-null   int32 \n",
      " 3   Detected_Cases  9357 non-null   int64 \n",
      "dtypes: int32(2), int64(1), object(1)\n",
      "memory usage: 219.4+ KB\n"
     ]
    }
   ],
   "source": [
    "df_flu.info()"
   ]
  },
  {
   "cell_type": "code",
   "execution_count": 79,
   "metadata": {},
   "outputs": [
    {
     "data": {
      "text/html": [
       "<div>\n",
       "<style scoped>\n",
       "    .dataframe tbody tr th:only-of-type {\n",
       "        vertical-align: middle;\n",
       "    }\n",
       "\n",
       "    .dataframe tbody tr th {\n",
       "        vertical-align: top;\n",
       "    }\n",
       "\n",
       "    .dataframe thead th {\n",
       "        text-align: right;\n",
       "    }\n",
       "</style>\n",
       "<table border=\"1\" class=\"dataframe\">\n",
       "  <thead>\n",
       "    <tr style=\"text-align: right;\">\n",
       "      <th></th>\n",
       "      <th>Country</th>\n",
       "      <th>Week</th>\n",
       "      <th>Year</th>\n",
       "      <th>Confirmed</th>\n",
       "      <th>Deaths</th>\n",
       "      <th>Recovered</th>\n",
       "    </tr>\n",
       "  </thead>\n",
       "  <tbody>\n",
       "    <tr>\n",
       "      <th>0</th>\n",
       "      <td>Azerbaijan</td>\n",
       "      <td>9</td>\n",
       "      <td>2020</td>\n",
       "      <td>1.0</td>\n",
       "      <td>0.0</td>\n",
       "      <td>0.0</td>\n",
       "    </tr>\n",
       "    <tr>\n",
       "      <th>1</th>\n",
       "      <td>Afghanistan</td>\n",
       "      <td>9</td>\n",
       "      <td>2020</td>\n",
       "      <td>26.0</td>\n",
       "      <td>0.0</td>\n",
       "      <td>0.0</td>\n",
       "    </tr>\n",
       "    <tr>\n",
       "      <th>2</th>\n",
       "      <td>Afghanistan</td>\n",
       "      <td>10</td>\n",
       "      <td>2020</td>\n",
       "      <td>12.0</td>\n",
       "      <td>0.0</td>\n",
       "      <td>0.0</td>\n",
       "    </tr>\n",
       "    <tr>\n",
       "      <th>3</th>\n",
       "      <td>Afghanistan</td>\n",
       "      <td>11</td>\n",
       "      <td>2020</td>\n",
       "      <td>36.0</td>\n",
       "      <td>0.0</td>\n",
       "      <td>0.0</td>\n",
       "    </tr>\n",
       "    <tr>\n",
       "      <th>4</th>\n",
       "      <td>Afghanistan</td>\n",
       "      <td>12</td>\n",
       "      <td>2020</td>\n",
       "      <td>69.0</td>\n",
       "      <td>1.0</td>\n",
       "      <td>3.0</td>\n",
       "    </tr>\n",
       "  </tbody>\n",
       "</table>\n",
       "</div>"
      ],
      "text/plain": [
       "       Country  Week  Year  Confirmed  Deaths  Recovered\n",
       "0   Azerbaijan     9  2020        1.0     0.0        0.0\n",
       "1  Afghanistan     9  2020       26.0     0.0        0.0\n",
       "2  Afghanistan    10  2020       12.0     0.0        0.0\n",
       "3  Afghanistan    11  2020       36.0     0.0        0.0\n",
       "4  Afghanistan    12  2020       69.0     1.0        3.0"
      ]
     },
     "execution_count": 79,
     "metadata": {},
     "output_type": "execute_result"
    }
   ],
   "source": [
    "df_covid.head()"
   ]
  },
  {
   "cell_type": "code",
   "execution_count": 80,
   "metadata": {},
   "outputs": [
    {
     "data": {
      "text/html": [
       "<div>\n",
       "<style scoped>\n",
       "    .dataframe tbody tr th:only-of-type {\n",
       "        vertical-align: middle;\n",
       "    }\n",
       "\n",
       "    .dataframe tbody tr th {\n",
       "        vertical-align: top;\n",
       "    }\n",
       "\n",
       "    .dataframe thead th {\n",
       "        text-align: right;\n",
       "    }\n",
       "</style>\n",
       "<table border=\"1\" class=\"dataframe\">\n",
       "  <thead>\n",
       "    <tr style=\"text-align: right;\">\n",
       "      <th></th>\n",
       "      <th>Country</th>\n",
       "      <th>Year</th>\n",
       "      <th>Week</th>\n",
       "      <th>Detected_Cases</th>\n",
       "    </tr>\n",
       "  </thead>\n",
       "  <tbody>\n",
       "    <tr>\n",
       "      <th>0</th>\n",
       "      <td>Albania</td>\n",
       "      <td>2016</td>\n",
       "      <td>3</td>\n",
       "      <td>1</td>\n",
       "    </tr>\n",
       "    <tr>\n",
       "      <th>1</th>\n",
       "      <td>Albania</td>\n",
       "      <td>2016</td>\n",
       "      <td>7</td>\n",
       "      <td>5</td>\n",
       "    </tr>\n",
       "    <tr>\n",
       "      <th>2</th>\n",
       "      <td>Albania</td>\n",
       "      <td>2017</td>\n",
       "      <td>43</td>\n",
       "      <td>0</td>\n",
       "    </tr>\n",
       "    <tr>\n",
       "      <th>3</th>\n",
       "      <td>Albania</td>\n",
       "      <td>2017</td>\n",
       "      <td>44</td>\n",
       "      <td>0</td>\n",
       "    </tr>\n",
       "    <tr>\n",
       "      <th>4</th>\n",
       "      <td>Albania</td>\n",
       "      <td>2018</td>\n",
       "      <td>2</td>\n",
       "      <td>1</td>\n",
       "    </tr>\n",
       "  </tbody>\n",
       "</table>\n",
       "</div>"
      ],
      "text/plain": [
       "   Country  Year  Week  Detected_Cases\n",
       "0  Albania  2016     3               1\n",
       "1  Albania  2016     7               5\n",
       "2  Albania  2017    43               0\n",
       "3  Albania  2017    44               0\n",
       "4  Albania  2018     2               1"
      ]
     },
     "execution_count": 80,
     "metadata": {},
     "output_type": "execute_result"
    }
   ],
   "source": [
    "df_flu.head()"
   ]
  },
  {
   "cell_type": "code",
   "execution_count": 81,
   "metadata": {},
   "outputs": [],
   "source": [
    "flu_countries = df_flu[['Country']].drop_duplicates()\n",
    "flu_countries['flu'] = 1\n",
    "cov_countries = df_covid[['Country']].drop_duplicates()\n",
    "cov_countries['cov'] = 1"
   ]
  },
  {
   "cell_type": "code",
   "execution_count": 82,
   "metadata": {},
   "outputs": [],
   "source": [
    "countries = pd.merge(flu_countries,cov_countries,on='Country',how='outer')"
   ]
  },
  {
   "cell_type": "code",
   "execution_count": 83,
   "metadata": {},
   "outputs": [
    {
     "data": {
      "text/html": [
       "<div>\n",
       "<style scoped>\n",
       "    .dataframe tbody tr th:only-of-type {\n",
       "        vertical-align: middle;\n",
       "    }\n",
       "\n",
       "    .dataframe tbody tr th {\n",
       "        vertical-align: top;\n",
       "    }\n",
       "\n",
       "    .dataframe thead th {\n",
       "        text-align: right;\n",
       "    }\n",
       "</style>\n",
       "<table border=\"1\" class=\"dataframe\">\n",
       "  <thead>\n",
       "    <tr style=\"text-align: right;\">\n",
       "      <th></th>\n",
       "      <th>Country</th>\n",
       "      <th>flu</th>\n",
       "      <th>cov</th>\n",
       "    </tr>\n",
       "  </thead>\n",
       "  <tbody>\n",
       "    <tr>\n",
       "      <th>6</th>\n",
       "      <td>Bosnia And Herzegovina</td>\n",
       "      <td>1.0</td>\n",
       "      <td>NaN</td>\n",
       "    </tr>\n",
       "    <tr>\n",
       "      <th>24</th>\n",
       "      <td>Kosovo*</td>\n",
       "      <td>1.0</td>\n",
       "      <td>NaN</td>\n",
       "    </tr>\n",
       "    <tr>\n",
       "      <th>35</th>\n",
       "      <td>Republic Of Moldova</td>\n",
       "      <td>1.0</td>\n",
       "      <td>NaN</td>\n",
       "    </tr>\n",
       "    <tr>\n",
       "      <th>36</th>\n",
       "      <td>Republic Of North Macedonia</td>\n",
       "      <td>1.0</td>\n",
       "      <td>NaN</td>\n",
       "    </tr>\n",
       "    <tr>\n",
       "      <th>47</th>\n",
       "      <td>Turkmenistan</td>\n",
       "      <td>1.0</td>\n",
       "      <td>NaN</td>\n",
       "    </tr>\n",
       "    <tr>\n",
       "      <th>49</th>\n",
       "      <td>United Kingdom - England</td>\n",
       "      <td>1.0</td>\n",
       "      <td>NaN</td>\n",
       "    </tr>\n",
       "    <tr>\n",
       "      <th>50</th>\n",
       "      <td>United Kingdom - North Ireland</td>\n",
       "      <td>1.0</td>\n",
       "      <td>NaN</td>\n",
       "    </tr>\n",
       "    <tr>\n",
       "      <th>51</th>\n",
       "      <td>United Kingdom - Scotland</td>\n",
       "      <td>1.0</td>\n",
       "      <td>NaN</td>\n",
       "    </tr>\n",
       "    <tr>\n",
       "      <th>52</th>\n",
       "      <td>United Kingdom - Wales</td>\n",
       "      <td>1.0</td>\n",
       "      <td>NaN</td>\n",
       "    </tr>\n",
       "  </tbody>\n",
       "</table>\n",
       "</div>"
      ],
      "text/plain": [
       "                           Country  flu  cov\n",
       "6           Bosnia And Herzegovina  1.0  NaN\n",
       "24                         Kosovo*  1.0  NaN\n",
       "35             Republic Of Moldova  1.0  NaN\n",
       "36     Republic Of North Macedonia  1.0  NaN\n",
       "47                    Turkmenistan  1.0  NaN\n",
       "49        United Kingdom - England  1.0  NaN\n",
       "50  United Kingdom - North Ireland  1.0  NaN\n",
       "51       United Kingdom - Scotland  1.0  NaN\n",
       "52          United Kingdom - Wales  1.0  NaN"
      ]
     },
     "execution_count": 83,
     "metadata": {},
     "output_type": "execute_result"
    }
   ],
   "source": [
    "countries[countries['cov'].isnull()]"
   ]
  },
  {
   "cell_type": "markdown",
   "metadata": {},
   "source": [
    "----\n",
    "Now we can see countries names which are different in both tables. I am going to change them "
   ]
  },
  {
   "cell_type": "code",
   "execution_count": 84,
   "metadata": {},
   "outputs": [
    {
     "name": "stdout",
     "output_type": "stream",
     "text": [
      "Covid:\n",
      "['Bosnia and Herzegovina']\n",
      "['Kosovo']\n",
      "['Moldova' 'Republic of Moldova']\n",
      "['North Macedonia']\n",
      "[]\n",
      "['United Kingdom']\n",
      "\n",
      "Influenza:\n",
      "['Bosnia And Herzegovina']\n",
      "['Kosovo*']\n",
      "['Republic Of Moldova']\n",
      "['Republic Of North Macedonia']\n",
      "['Turkmenistan']\n",
      "['United Kingdom - England' 'United Kingdom - North Ireland'\n",
      " 'United Kingdom - Scotland' 'United Kingdom - Wales']\n"
     ]
    }
   ],
   "source": [
    "missing_countries = ['Herzego','Koso','Mold','Mace','Turkm','Kingdom']\n",
    "print('Covid:')\n",
    "for c in missing_countries:\n",
    "    print(df_covid[df_covid.Country.str.contains(c)].Country.unique()) #flu_df2\n",
    "    \n",
    "print('\\nInfluenza:')\n",
    "for c in missing_countries:\n",
    "    print(df_flu[df_flu.Country.str.contains(c)].Country.unique()) #flu_df2"
   ]
  },
  {
   "cell_type": "code",
   "execution_count": 85,
   "metadata": {},
   "outputs": [],
   "source": [
    "missing_countries = ['Herzego','Koso','Mold','Mace','Kingdom', 'Rus']\n",
    "new_countries = ['Bosnia and Herzegovina','Kosovo','Moldova','Macedonia','United Kingdom', 'Russia'] \n",
    "\n",
    "for old,new in zip(missing_countries,new_countries):\n",
    "    df_covid.loc[df_covid.Country.str.contains(old), 'Country'] = new\n",
    "    df_flu.loc[df_flu.Country.str.contains(old), 'Country'] = new"
   ]
  },
  {
   "cell_type": "code",
   "execution_count": 86,
   "metadata": {},
   "outputs": [
    {
     "name": "stdout",
     "output_type": "stream",
     "text": [
      "Covid:\n",
      "['Bosnia and Herzegovina']\n",
      "['Kosovo']\n",
      "['Moldova']\n",
      "['Macedonia']\n",
      "['United Kingdom']\n",
      "['Russia']\n",
      "\n",
      "Influenza:\n",
      "['Bosnia and Herzegovina']\n",
      "['Kosovo']\n",
      "['Moldova']\n",
      "['Macedonia']\n",
      "['United Kingdom']\n",
      "['Russia']\n"
     ]
    }
   ],
   "source": [
    "print('Covid:')\n",
    "for c in missing_countries:\n",
    "    print(df_covid[df_covid.Country.str.contains(c)].Country.unique()) #flu_df2\n",
    "    \n",
    "print('\\nInfluenza:')\n",
    "for c in missing_countries:\n",
    "    print(df_flu[df_flu.Country.str.contains(c)].Country.unique()) #flu_df2"
   ]
  },
  {
   "cell_type": "markdown",
   "metadata": {},
   "source": [
    "Now the coutries names are the same (Turkmenistan is missing in Covid table)"
   ]
  },
  {
   "cell_type": "code",
   "execution_count": 87,
   "metadata": {},
   "outputs": [
    {
     "data": {
      "text/html": [
       "<div>\n",
       "<style scoped>\n",
       "    .dataframe tbody tr th:only-of-type {\n",
       "        vertical-align: middle;\n",
       "    }\n",
       "\n",
       "    .dataframe tbody tr th {\n",
       "        vertical-align: top;\n",
       "    }\n",
       "\n",
       "    .dataframe thead th {\n",
       "        text-align: right;\n",
       "    }\n",
       "</style>\n",
       "<table border=\"1\" class=\"dataframe\">\n",
       "  <thead>\n",
       "    <tr style=\"text-align: right;\">\n",
       "      <th></th>\n",
       "      <th>Country</th>\n",
       "      <th>Week</th>\n",
       "      <th>Year</th>\n",
       "      <th>Confirmed</th>\n",
       "      <th>Deaths</th>\n",
       "      <th>Recovered</th>\n",
       "    </tr>\n",
       "  </thead>\n",
       "  <tbody>\n",
       "    <tr>\n",
       "      <th>0</th>\n",
       "      <td>Azerbaijan</td>\n",
       "      <td>9</td>\n",
       "      <td>2020</td>\n",
       "      <td>1.0</td>\n",
       "      <td>0.0</td>\n",
       "      <td>0.0</td>\n",
       "    </tr>\n",
       "    <tr>\n",
       "      <th>1</th>\n",
       "      <td>Afghanistan</td>\n",
       "      <td>9</td>\n",
       "      <td>2020</td>\n",
       "      <td>26.0</td>\n",
       "      <td>0.0</td>\n",
       "      <td>0.0</td>\n",
       "    </tr>\n",
       "    <tr>\n",
       "      <th>2</th>\n",
       "      <td>Afghanistan</td>\n",
       "      <td>10</td>\n",
       "      <td>2020</td>\n",
       "      <td>12.0</td>\n",
       "      <td>0.0</td>\n",
       "      <td>0.0</td>\n",
       "    </tr>\n",
       "    <tr>\n",
       "      <th>3</th>\n",
       "      <td>Afghanistan</td>\n",
       "      <td>11</td>\n",
       "      <td>2020</td>\n",
       "      <td>36.0</td>\n",
       "      <td>0.0</td>\n",
       "      <td>0.0</td>\n",
       "    </tr>\n",
       "    <tr>\n",
       "      <th>4</th>\n",
       "      <td>Afghanistan</td>\n",
       "      <td>12</td>\n",
       "      <td>2020</td>\n",
       "      <td>69.0</td>\n",
       "      <td>1.0</td>\n",
       "      <td>3.0</td>\n",
       "    </tr>\n",
       "  </tbody>\n",
       "</table>\n",
       "</div>"
      ],
      "text/plain": [
       "       Country  Week  Year  Confirmed  Deaths  Recovered\n",
       "0   Azerbaijan     9  2020        1.0     0.0        0.0\n",
       "1  Afghanistan     9  2020       26.0     0.0        0.0\n",
       "2  Afghanistan    10  2020       12.0     0.0        0.0\n",
       "3  Afghanistan    11  2020       36.0     0.0        0.0\n",
       "4  Afghanistan    12  2020       69.0     1.0        3.0"
      ]
     },
     "execution_count": 87,
     "metadata": {},
     "output_type": "execute_result"
    }
   ],
   "source": [
    "df_covid.head()"
   ]
  },
  {
   "cell_type": "code",
   "execution_count": 88,
   "metadata": {},
   "outputs": [
    {
     "data": {
      "text/plain": [
       "(12389, 6)"
      ]
     },
     "execution_count": 88,
     "metadata": {},
     "output_type": "execute_result"
    }
   ],
   "source": [
    "df_covid.shape"
   ]
  },
  {
   "cell_type": "code",
   "execution_count": 89,
   "metadata": {},
   "outputs": [],
   "source": [
    "df_flu.rename(columns={'Detected_Cases':'Detected_FluCases'},inplace=True)"
   ]
  },
  {
   "cell_type": "code",
   "execution_count": 90,
   "metadata": {},
   "outputs": [
    {
     "data": {
      "text/html": [
       "<div>\n",
       "<style scoped>\n",
       "    .dataframe tbody tr th:only-of-type {\n",
       "        vertical-align: middle;\n",
       "    }\n",
       "\n",
       "    .dataframe tbody tr th {\n",
       "        vertical-align: top;\n",
       "    }\n",
       "\n",
       "    .dataframe thead th {\n",
       "        text-align: right;\n",
       "    }\n",
       "</style>\n",
       "<table border=\"1\" class=\"dataframe\">\n",
       "  <thead>\n",
       "    <tr style=\"text-align: right;\">\n",
       "      <th></th>\n",
       "      <th>Country</th>\n",
       "      <th>Year</th>\n",
       "      <th>Week</th>\n",
       "      <th>Detected_FluCases</th>\n",
       "    </tr>\n",
       "  </thead>\n",
       "  <tbody>\n",
       "    <tr>\n",
       "      <th>0</th>\n",
       "      <td>Albania</td>\n",
       "      <td>2016</td>\n",
       "      <td>3</td>\n",
       "      <td>1</td>\n",
       "    </tr>\n",
       "    <tr>\n",
       "      <th>1</th>\n",
       "      <td>Albania</td>\n",
       "      <td>2016</td>\n",
       "      <td>7</td>\n",
       "      <td>5</td>\n",
       "    </tr>\n",
       "    <tr>\n",
       "      <th>2</th>\n",
       "      <td>Albania</td>\n",
       "      <td>2017</td>\n",
       "      <td>43</td>\n",
       "      <td>0</td>\n",
       "    </tr>\n",
       "    <tr>\n",
       "      <th>3</th>\n",
       "      <td>Albania</td>\n",
       "      <td>2017</td>\n",
       "      <td>44</td>\n",
       "      <td>0</td>\n",
       "    </tr>\n",
       "    <tr>\n",
       "      <th>4</th>\n",
       "      <td>Albania</td>\n",
       "      <td>2018</td>\n",
       "      <td>2</td>\n",
       "      <td>1</td>\n",
       "    </tr>\n",
       "  </tbody>\n",
       "</table>\n",
       "</div>"
      ],
      "text/plain": [
       "   Country  Year  Week  Detected_FluCases\n",
       "0  Albania  2016     3                  1\n",
       "1  Albania  2016     7                  5\n",
       "2  Albania  2017    43                  0\n",
       "3  Albania  2017    44                  0\n",
       "4  Albania  2018     2                  1"
      ]
     },
     "execution_count": 90,
     "metadata": {},
     "output_type": "execute_result"
    }
   ],
   "source": [
    "df_flu.head()"
   ]
  },
  {
   "cell_type": "code",
   "execution_count": 91,
   "metadata": {},
   "outputs": [
    {
     "data": {
      "text/plain": [
       "(9357, 4)"
      ]
     },
     "execution_count": 91,
     "metadata": {},
     "output_type": "execute_result"
    }
   ],
   "source": [
    "df_flu.shape"
   ]
  },
  {
   "cell_type": "code",
   "execution_count": 92,
   "metadata": {},
   "outputs": [],
   "source": [
    "final_df = pd.merge(df_covid,df_flu,on=['Country','Year','Week'],how='right').sort_values(['Year','Week','Country'])"
   ]
  },
  {
   "cell_type": "code",
   "execution_count": 93,
   "metadata": {},
   "outputs": [
    {
     "data": {
      "text/plain": [
       "(9359, 7)"
      ]
     },
     "execution_count": 93,
     "metadata": {},
     "output_type": "execute_result"
    }
   ],
   "source": [
    "final_df.shape"
   ]
  },
  {
   "cell_type": "code",
   "execution_count": 94,
   "metadata": {},
   "outputs": [
    {
     "data": {
      "text/html": [
       "<div>\n",
       "<style scoped>\n",
       "    .dataframe tbody tr th:only-of-type {\n",
       "        vertical-align: middle;\n",
       "    }\n",
       "\n",
       "    .dataframe tbody tr th {\n",
       "        vertical-align: top;\n",
       "    }\n",
       "\n",
       "    .dataframe thead th {\n",
       "        text-align: right;\n",
       "    }\n",
       "</style>\n",
       "<table border=\"1\" class=\"dataframe\">\n",
       "  <thead>\n",
       "    <tr style=\"text-align: right;\">\n",
       "      <th></th>\n",
       "      <th>Country</th>\n",
       "      <th>Week</th>\n",
       "      <th>Year</th>\n",
       "      <th>Confirmed</th>\n",
       "      <th>Deaths</th>\n",
       "      <th>Recovered</th>\n",
       "      <th>Detected_FluCases</th>\n",
       "    </tr>\n",
       "  </thead>\n",
       "  <tbody>\n",
       "    <tr>\n",
       "      <th>81</th>\n",
       "      <td>Austria</td>\n",
       "      <td>1</td>\n",
       "      <td>2016</td>\n",
       "      <td>NaN</td>\n",
       "      <td>NaN</td>\n",
       "      <td>NaN</td>\n",
       "      <td>38</td>\n",
       "    </tr>\n",
       "    <tr>\n",
       "      <th>215</th>\n",
       "      <td>Azerbaijan</td>\n",
       "      <td>1</td>\n",
       "      <td>2016</td>\n",
       "      <td>NaN</td>\n",
       "      <td>NaN</td>\n",
       "      <td>NaN</td>\n",
       "      <td>9</td>\n",
       "    </tr>\n",
       "    <tr>\n",
       "      <th>396</th>\n",
       "      <td>Belarus</td>\n",
       "      <td>1</td>\n",
       "      <td>2016</td>\n",
       "      <td>NaN</td>\n",
       "      <td>NaN</td>\n",
       "      <td>NaN</td>\n",
       "      <td>5</td>\n",
       "    </tr>\n",
       "    <tr>\n",
       "      <th>673</th>\n",
       "      <td>Bulgaria</td>\n",
       "      <td>1</td>\n",
       "      <td>2016</td>\n",
       "      <td>NaN</td>\n",
       "      <td>NaN</td>\n",
       "      <td>NaN</td>\n",
       "      <td>3</td>\n",
       "    </tr>\n",
       "    <tr>\n",
       "      <th>787</th>\n",
       "      <td>Croatia</td>\n",
       "      <td>1</td>\n",
       "      <td>2016</td>\n",
       "      <td>NaN</td>\n",
       "      <td>NaN</td>\n",
       "      <td>NaN</td>\n",
       "      <td>7</td>\n",
       "    </tr>\n",
       "  </tbody>\n",
       "</table>\n",
       "</div>"
      ],
      "text/plain": [
       "        Country  Week  Year  Confirmed  Deaths  Recovered  Detected_FluCases\n",
       "81      Austria     1  2016        NaN     NaN        NaN                 38\n",
       "215  Azerbaijan     1  2016        NaN     NaN        NaN                  9\n",
       "396     Belarus     1  2016        NaN     NaN        NaN                  5\n",
       "673    Bulgaria     1  2016        NaN     NaN        NaN                  3\n",
       "787     Croatia     1  2016        NaN     NaN        NaN                  7"
      ]
     },
     "execution_count": 94,
     "metadata": {},
     "output_type": "execute_result"
    }
   ],
   "source": [
    "final_df.head()"
   ]
  },
  {
   "cell_type": "code",
   "execution_count": 95,
   "metadata": {},
   "outputs": [
    {
     "data": {
      "text/html": [
       "<div>\n",
       "<style scoped>\n",
       "    .dataframe tbody tr th:only-of-type {\n",
       "        vertical-align: middle;\n",
       "    }\n",
       "\n",
       "    .dataframe tbody tr th {\n",
       "        vertical-align: top;\n",
       "    }\n",
       "\n",
       "    .dataframe thead th {\n",
       "        text-align: right;\n",
       "    }\n",
       "</style>\n",
       "<table border=\"1\" class=\"dataframe\">\n",
       "  <thead>\n",
       "    <tr style=\"text-align: right;\">\n",
       "      <th></th>\n",
       "      <th>Country</th>\n",
       "      <th>Week</th>\n",
       "      <th>Year</th>\n",
       "      <th>Confirmed</th>\n",
       "      <th>Deaths</th>\n",
       "      <th>Recovered</th>\n",
       "      <th>Detected_FluCases</th>\n",
       "    </tr>\n",
       "  </thead>\n",
       "  <tbody>\n",
       "    <tr>\n",
       "      <th>8057</th>\n",
       "      <td>Turkmenistan</td>\n",
       "      <td>1</td>\n",
       "      <td>2021</td>\n",
       "      <td>NaN</td>\n",
       "      <td>NaN</td>\n",
       "      <td>NaN</td>\n",
       "      <td>0</td>\n",
       "    </tr>\n",
       "    <tr>\n",
       "      <th>8058</th>\n",
       "      <td>Turkmenistan</td>\n",
       "      <td>2</td>\n",
       "      <td>2021</td>\n",
       "      <td>NaN</td>\n",
       "      <td>NaN</td>\n",
       "      <td>NaN</td>\n",
       "      <td>0</td>\n",
       "    </tr>\n",
       "  </tbody>\n",
       "</table>\n",
       "</div>"
      ],
      "text/plain": [
       "           Country  Week  Year  Confirmed  Deaths  Recovered  \\\n",
       "8057  Turkmenistan     1  2021        NaN     NaN        NaN   \n",
       "8058  Turkmenistan     2  2021        NaN     NaN        NaN   \n",
       "\n",
       "      Detected_FluCases  \n",
       "8057                  0  \n",
       "8058                  0  "
      ]
     },
     "execution_count": 95,
     "metadata": {},
     "output_type": "execute_result"
    }
   ],
   "source": [
    "final_df[(final_df.Year==2021) & (final_df.Confirmed.isnull())]"
   ]
  },
  {
   "cell_type": "markdown",
   "metadata": {},
   "source": [
    "Seems everything is ok so we can change NaN into 0 for covid"
   ]
  },
  {
   "cell_type": "code",
   "execution_count": 96,
   "metadata": {},
   "outputs": [],
   "source": [
    "final_df.fillna({'Deaths':0,'Confirmed':0,'Recovered':0},inplace=True)"
   ]
  },
  {
   "cell_type": "code",
   "execution_count": 97,
   "metadata": {},
   "outputs": [
    {
     "name": "stdout",
     "output_type": "stream",
     "text": [
      "<class 'pandas.core.frame.DataFrame'>\n",
      "Int64Index: 9359 entries, 81 to 9358\n",
      "Data columns (total 7 columns):\n",
      " #   Column             Non-Null Count  Dtype  \n",
      "---  ------             --------------  -----  \n",
      " 0   Country            9359 non-null   object \n",
      " 1   Week               9359 non-null   int64  \n",
      " 2   Year               9359 non-null   int64  \n",
      " 3   Confirmed          9359 non-null   float64\n",
      " 4   Deaths             9359 non-null   float64\n",
      " 5   Recovered          9359 non-null   float64\n",
      " 6   Detected_FluCases  9359 non-null   int64  \n",
      "dtypes: float64(3), int64(3), object(1)\n",
      "memory usage: 584.9+ KB\n"
     ]
    }
   ],
   "source": [
    "final_df.info()"
   ]
  },
  {
   "cell_type": "code",
   "execution_count": 98,
   "metadata": {},
   "outputs": [
    {
     "data": {
      "text/html": [
       "<div>\n",
       "<style scoped>\n",
       "    .dataframe tbody tr th:only-of-type {\n",
       "        vertical-align: middle;\n",
       "    }\n",
       "\n",
       "    .dataframe tbody tr th {\n",
       "        vertical-align: top;\n",
       "    }\n",
       "\n",
       "    .dataframe thead th {\n",
       "        text-align: right;\n",
       "    }\n",
       "</style>\n",
       "<table border=\"1\" class=\"dataframe\">\n",
       "  <thead>\n",
       "    <tr style=\"text-align: right;\">\n",
       "      <th></th>\n",
       "      <th>Week</th>\n",
       "      <th>Year</th>\n",
       "      <th>Confirmed</th>\n",
       "      <th>Deaths</th>\n",
       "      <th>Recovered</th>\n",
       "      <th>Detected_FluCases</th>\n",
       "    </tr>\n",
       "  </thead>\n",
       "  <tbody>\n",
       "    <tr>\n",
       "      <th>count</th>\n",
       "      <td>9359.000000</td>\n",
       "      <td>9359.000000</td>\n",
       "      <td>9.359000e+03</td>\n",
       "      <td>9359.000000</td>\n",
       "      <td>9.359000e+03</td>\n",
       "      <td>9359.000000</td>\n",
       "    </tr>\n",
       "    <tr>\n",
       "      <th>mean</th>\n",
       "      <td>23.914521</td>\n",
       "      <td>2018.325676</td>\n",
       "      <td>1.363787e+05</td>\n",
       "      <td>3590.474410</td>\n",
       "      <td>5.874108e+04</td>\n",
       "      <td>88.585639</td>\n",
       "    </tr>\n",
       "    <tr>\n",
       "      <th>std</th>\n",
       "      <td>16.913302</td>\n",
       "      <td>1.613993</td>\n",
       "      <td>5.579842e+05</td>\n",
       "      <td>14632.529104</td>\n",
       "      <td>3.045605e+05</td>\n",
       "      <td>291.256140</td>\n",
       "    </tr>\n",
       "    <tr>\n",
       "      <th>min</th>\n",
       "      <td>1.000000</td>\n",
       "      <td>2016.000000</td>\n",
       "      <td>0.000000e+00</td>\n",
       "      <td>0.000000</td>\n",
       "      <td>0.000000e+00</td>\n",
       "      <td>0.000000</td>\n",
       "    </tr>\n",
       "    <tr>\n",
       "      <th>25%</th>\n",
       "      <td>9.000000</td>\n",
       "      <td>2017.000000</td>\n",
       "      <td>0.000000e+00</td>\n",
       "      <td>0.000000</td>\n",
       "      <td>0.000000e+00</td>\n",
       "      <td>0.000000</td>\n",
       "    </tr>\n",
       "    <tr>\n",
       "      <th>50%</th>\n",
       "      <td>19.000000</td>\n",
       "      <td>2018.000000</td>\n",
       "      <td>0.000000e+00</td>\n",
       "      <td>0.000000</td>\n",
       "      <td>0.000000e+00</td>\n",
       "      <td>2.000000</td>\n",
       "    </tr>\n",
       "    <tr>\n",
       "      <th>75%</th>\n",
       "      <td>42.000000</td>\n",
       "      <td>2020.000000</td>\n",
       "      <td>0.000000e+00</td>\n",
       "      <td>0.000000</td>\n",
       "      <td>0.000000e+00</td>\n",
       "      <td>31.000000</td>\n",
       "    </tr>\n",
       "    <tr>\n",
       "      <th>max</th>\n",
       "      <td>53.000000</td>\n",
       "      <td>2021.000000</td>\n",
       "      <td>5.925071e+06</td>\n",
       "      <td>127937.000000</td>\n",
       "      <td>4.495406e+06</td>\n",
       "      <td>4341.000000</td>\n",
       "    </tr>\n",
       "  </tbody>\n",
       "</table>\n",
       "</div>"
      ],
      "text/plain": [
       "              Week         Year     Confirmed         Deaths     Recovered  \\\n",
       "count  9359.000000  9359.000000  9.359000e+03    9359.000000  9.359000e+03   \n",
       "mean     23.914521  2018.325676  1.363787e+05    3590.474410  5.874108e+04   \n",
       "std      16.913302     1.613993  5.579842e+05   14632.529104  3.045605e+05   \n",
       "min       1.000000  2016.000000  0.000000e+00       0.000000  0.000000e+00   \n",
       "25%       9.000000  2017.000000  0.000000e+00       0.000000  0.000000e+00   \n",
       "50%      19.000000  2018.000000  0.000000e+00       0.000000  0.000000e+00   \n",
       "75%      42.000000  2020.000000  0.000000e+00       0.000000  0.000000e+00   \n",
       "max      53.000000  2021.000000  5.925071e+06  127937.000000  4.495406e+06   \n",
       "\n",
       "       Detected_FluCases  \n",
       "count        9359.000000  \n",
       "mean           88.585639  \n",
       "std           291.256140  \n",
       "min             0.000000  \n",
       "25%             0.000000  \n",
       "50%             2.000000  \n",
       "75%            31.000000  \n",
       "max          4341.000000  "
      ]
     },
     "execution_count": 98,
     "metadata": {},
     "output_type": "execute_result"
    }
   ],
   "source": [
    "final_df.describe()"
   ]
  },
  {
   "cell_type": "code",
   "execution_count": 99,
   "metadata": {},
   "outputs": [
    {
     "data": {
      "text/plain": [
       "array([ 1,  2,  3,  4,  5,  6,  7,  8,  9, 10, 11, 12, 13, 14, 15, 16, 17,\n",
       "       18, 19, 20, 21, 22, 23, 24, 25, 26, 27, 28, 29, 30, 31, 32, 33, 34,\n",
       "       35, 36, 37, 38, 39, 40, 41, 42, 43, 44, 45, 46, 47, 48, 49, 50, 51,\n",
       "       52, 53], dtype=int64)"
      ]
     },
     "execution_count": 99,
     "metadata": {},
     "output_type": "execute_result"
    }
   ],
   "source": [
    "final_df.Week.unique()"
   ]
  },
  {
   "cell_type": "code",
   "execution_count": 100,
   "metadata": {},
   "outputs": [],
   "source": [
    "quarters = pd.DataFrame(columns={\"Week\",\"Quarter\"})\n",
    "def quarter(x): \n",
    "    if (x <= 13):\n",
    "        return 1\n",
    "    elif (x <= 26):\n",
    "        return 2\n",
    "    elif (x <= 39):\n",
    "        return 3\n",
    "    else:\n",
    "        return 4\n",
    "\n",
    "quarters['Week'] = final_df.Week.unique()\n",
    "quarters['Quarter'] = quarters['Week'].apply(quarter)"
   ]
  },
  {
   "cell_type": "code",
   "execution_count": 101,
   "metadata": {},
   "outputs": [],
   "source": [
    "final_df = final_df.merge(quarters,on='Week',how='inner')"
   ]
  },
  {
   "cell_type": "code",
   "execution_count": 102,
   "metadata": {},
   "outputs": [
    {
     "data": {
      "text/plain": [
       "(9359, 8)"
      ]
     },
     "execution_count": 102,
     "metadata": {},
     "output_type": "execute_result"
    }
   ],
   "source": [
    "final_df.shape"
   ]
  },
  {
   "cell_type": "code",
   "execution_count": 103,
   "metadata": {},
   "outputs": [
    {
     "data": {
      "text/plain": [
       "Index(['Country', 'Week', 'Year', 'Confirmed', 'Deaths', 'Recovered',\n",
       "       'Detected_FluCases', 'Quarter'],\n",
       "      dtype='object')"
      ]
     },
     "execution_count": 103,
     "metadata": {},
     "output_type": "execute_result"
    }
   ],
   "source": [
    "final_df.columns"
   ]
  },
  {
   "cell_type": "code",
   "execution_count": 104,
   "metadata": {},
   "outputs": [
    {
     "data": {
      "text/plain": [
       "array([1, 2, 3, 4], dtype=int64)"
      ]
     },
     "execution_count": 104,
     "metadata": {},
     "output_type": "execute_result"
    }
   ],
   "source": [
    "final_df.Quarter.unique()"
   ]
  },
  {
   "cell_type": "code",
   "execution_count": 105,
   "metadata": {},
   "outputs": [
    {
     "data": {
      "text/html": [
       "<div>\n",
       "<style scoped>\n",
       "    .dataframe tbody tr th:only-of-type {\n",
       "        vertical-align: middle;\n",
       "    }\n",
       "\n",
       "    .dataframe tbody tr th {\n",
       "        vertical-align: top;\n",
       "    }\n",
       "\n",
       "    .dataframe thead th {\n",
       "        text-align: right;\n",
       "    }\n",
       "</style>\n",
       "<table border=\"1\" class=\"dataframe\">\n",
       "  <thead>\n",
       "    <tr style=\"text-align: right;\">\n",
       "      <th></th>\n",
       "      <th>Country</th>\n",
       "      <th>Week</th>\n",
       "      <th>Year</th>\n",
       "      <th>Confirmed</th>\n",
       "      <th>Deaths</th>\n",
       "      <th>Recovered</th>\n",
       "      <th>Detected_FluCases</th>\n",
       "      <th>Quarter</th>\n",
       "    </tr>\n",
       "  </thead>\n",
       "  <tbody>\n",
       "    <tr>\n",
       "      <th>1943</th>\n",
       "      <td>United Kingdom</td>\n",
       "      <td>7</td>\n",
       "      <td>2021</td>\n",
       "      <td>4117743.0</td>\n",
       "      <td>120593.0</td>\n",
       "      <td>11297.0</td>\n",
       "      <td>20</td>\n",
       "      <td>1</td>\n",
       "    </tr>\n",
       "    <tr>\n",
       "      <th>273</th>\n",
       "      <td>United Kingdom</td>\n",
       "      <td>1</td>\n",
       "      <td>2021</td>\n",
       "      <td>3026346.0</td>\n",
       "      <td>81000.0</td>\n",
       "      <td>6855.0</td>\n",
       "      <td>20</td>\n",
       "      <td>1</td>\n",
       "    </tr>\n",
       "    <tr>\n",
       "      <th>1387</th>\n",
       "      <td>United Kingdom</td>\n",
       "      <td>5</td>\n",
       "      <td>2021</td>\n",
       "      <td>3941277.0</td>\n",
       "      <td>112305.0</td>\n",
       "      <td>10186.0</td>\n",
       "      <td>17</td>\n",
       "      <td>1</td>\n",
       "    </tr>\n",
       "    <tr>\n",
       "      <th>4858</th>\n",
       "      <td>United Kingdom</td>\n",
       "      <td>19</td>\n",
       "      <td>2021</td>\n",
       "      <td>4464663.0</td>\n",
       "      <td>127937.0</td>\n",
       "      <td>15254.0</td>\n",
       "      <td>14</td>\n",
       "      <td>2</td>\n",
       "    </tr>\n",
       "    <tr>\n",
       "      <th>4249</th>\n",
       "      <td>United Kingdom</td>\n",
       "      <td>16</td>\n",
       "      <td>2021</td>\n",
       "      <td>4418710.0</td>\n",
       "      <td>127670.0</td>\n",
       "      <td>14388.0</td>\n",
       "      <td>14</td>\n",
       "      <td>2</td>\n",
       "    </tr>\n",
       "    <tr>\n",
       "      <th>...</th>\n",
       "      <td>...</td>\n",
       "      <td>...</td>\n",
       "      <td>...</td>\n",
       "      <td>...</td>\n",
       "      <td>...</td>\n",
       "      <td>...</td>\n",
       "      <td>...</td>\n",
       "      <td>...</td>\n",
       "    </tr>\n",
       "    <tr>\n",
       "      <th>1111</th>\n",
       "      <td>United Kingdom</td>\n",
       "      <td>4</td>\n",
       "      <td>2021</td>\n",
       "      <td>3806997.0</td>\n",
       "      <td>105777.0</td>\n",
       "      <td>9584.0</td>\n",
       "      <td>1</td>\n",
       "      <td>1</td>\n",
       "    </tr>\n",
       "    <tr>\n",
       "      <th>3530</th>\n",
       "      <td>United Kingdom</td>\n",
       "      <td>13</td>\n",
       "      <td>2021</td>\n",
       "      <td>4371389.0</td>\n",
       "      <td>127068.0</td>\n",
       "      <td>13218.0</td>\n",
       "      <td>1</td>\n",
       "      <td>1</td>\n",
       "    </tr>\n",
       "    <tr>\n",
       "      <th>3771</th>\n",
       "      <td>Sweden</td>\n",
       "      <td>14</td>\n",
       "      <td>2021</td>\n",
       "      <td>857401.0</td>\n",
       "      <td>13621.0</td>\n",
       "      <td>0.0</td>\n",
       "      <td>1</td>\n",
       "      <td>2</td>\n",
       "    </tr>\n",
       "    <tr>\n",
       "      <th>2454</th>\n",
       "      <td>Germany</td>\n",
       "      <td>9</td>\n",
       "      <td>2021</td>\n",
       "      <td>2502151.0</td>\n",
       "      <td>71951.0</td>\n",
       "      <td>2308094.0</td>\n",
       "      <td>1</td>\n",
       "      <td>1</td>\n",
       "    </tr>\n",
       "    <tr>\n",
       "      <th>4860</th>\n",
       "      <td>United Kingdom</td>\n",
       "      <td>19</td>\n",
       "      <td>2021</td>\n",
       "      <td>4464663.0</td>\n",
       "      <td>127937.0</td>\n",
       "      <td>15254.0</td>\n",
       "      <td>1</td>\n",
       "      <td>2</td>\n",
       "    </tr>\n",
       "  </tbody>\n",
       "</table>\n",
       "<p>122 rows × 8 columns</p>\n",
       "</div>"
      ],
      "text/plain": [
       "             Country  Week  Year  Confirmed    Deaths  Recovered  \\\n",
       "1943  United Kingdom     7  2021  4117743.0  120593.0    11297.0   \n",
       "273   United Kingdom     1  2021  3026346.0   81000.0     6855.0   \n",
       "1387  United Kingdom     5  2021  3941277.0  112305.0    10186.0   \n",
       "4858  United Kingdom    19  2021  4464663.0  127937.0    15254.0   \n",
       "4249  United Kingdom    16  2021  4418710.0  127670.0    14388.0   \n",
       "...              ...   ...   ...        ...       ...        ...   \n",
       "1111  United Kingdom     4  2021  3806997.0  105777.0     9584.0   \n",
       "3530  United Kingdom    13  2021  4371389.0  127068.0    13218.0   \n",
       "3771          Sweden    14  2021   857401.0   13621.0        0.0   \n",
       "2454         Germany     9  2021  2502151.0   71951.0  2308094.0   \n",
       "4860  United Kingdom    19  2021  4464663.0  127937.0    15254.0   \n",
       "\n",
       "      Detected_FluCases  Quarter  \n",
       "1943                 20        1  \n",
       "273                  20        1  \n",
       "1387                 17        1  \n",
       "4858                 14        2  \n",
       "4249                 14        2  \n",
       "...                 ...      ...  \n",
       "1111                  1        1  \n",
       "3530                  1        1  \n",
       "3771                  1        2  \n",
       "2454                  1        1  \n",
       "4860                  1        2  \n",
       "\n",
       "[122 rows x 8 columns]"
      ]
     },
     "execution_count": 105,
     "metadata": {},
     "output_type": "execute_result"
    }
   ],
   "source": [
    "final_df[(final_df.Detected_FluCases>0)&(final_df.Year==2021)].sort_values('Detected_FluCases',ascending=False)"
   ]
  },
  {
   "cell_type": "code",
   "execution_count": 106,
   "metadata": {},
   "outputs": [
    {
     "data": {
      "text/plain": [
       "2851911.0"
      ]
     },
     "execution_count": 106,
     "metadata": {},
     "output_type": "execute_result"
    }
   ],
   "source": [
    "final_df[(final_df.Country=='Poland')]['Confirmed'].max()"
   ]
  },
  {
   "cell_type": "code",
   "execution_count": 110,
   "metadata": {},
   "outputs": [
    {
     "data": {
      "text/html": [
       "<div>\n",
       "<style scoped>\n",
       "    .dataframe tbody tr th:only-of-type {\n",
       "        vertical-align: middle;\n",
       "    }\n",
       "\n",
       "    .dataframe tbody tr th {\n",
       "        vertical-align: top;\n",
       "    }\n",
       "\n",
       "    .dataframe thead th {\n",
       "        text-align: right;\n",
       "    }\n",
       "</style>\n",
       "<table border=\"1\" class=\"dataframe\">\n",
       "  <thead>\n",
       "    <tr style=\"text-align: right;\">\n",
       "      <th></th>\n",
       "      <th>Year</th>\n",
       "      <th>Quarter</th>\n",
       "      <th>Confirmed</th>\n",
       "      <th>Deaths</th>\n",
       "      <th>Recovered</th>\n",
       "      <th>Detected_FluCases</th>\n",
       "    </tr>\n",
       "  </thead>\n",
       "  <tbody>\n",
       "    <tr>\n",
       "      <th>0</th>\n",
       "      <td>2016</td>\n",
       "      <td>1</td>\n",
       "      <td>0.0</td>\n",
       "      <td>0.0</td>\n",
       "      <td>0.0</td>\n",
       "      <td>2377</td>\n",
       "    </tr>\n",
       "    <tr>\n",
       "      <th>1</th>\n",
       "      <td>2016</td>\n",
       "      <td>2</td>\n",
       "      <td>0.0</td>\n",
       "      <td>0.0</td>\n",
       "      <td>0.0</td>\n",
       "      <td>158</td>\n",
       "    </tr>\n",
       "    <tr>\n",
       "      <th>2</th>\n",
       "      <td>2016</td>\n",
       "      <td>3</td>\n",
       "      <td>0.0</td>\n",
       "      <td>0.0</td>\n",
       "      <td>0.0</td>\n",
       "      <td>10</td>\n",
       "    </tr>\n",
       "    <tr>\n",
       "      <th>3</th>\n",
       "      <td>2016</td>\n",
       "      <td>4</td>\n",
       "      <td>0.0</td>\n",
       "      <td>0.0</td>\n",
       "      <td>0.0</td>\n",
       "      <td>28</td>\n",
       "    </tr>\n",
       "  </tbody>\n",
       "</table>\n",
       "</div>"
      ],
      "text/plain": [
       "   Year  Quarter  Confirmed  Deaths  Recovered  Detected_FluCases\n",
       "0  2016        1        0.0     0.0        0.0               2377\n",
       "1  2016        2        0.0     0.0        0.0                158\n",
       "2  2016        3        0.0     0.0        0.0                 10\n",
       "3  2016        4        0.0     0.0        0.0                 28"
      ]
     },
     "execution_count": 110,
     "metadata": {},
     "output_type": "execute_result"
    }
   ],
   "source": [
    "final_df.loc[(final_df.Country=='Poland'),('Country', 'Year', 'Confirmed', 'Deaths', 'Recovered',\n",
    "       'Detected_FluCases', 'Quarter')].groupby(['Year','Quarter']).agg({'Confirmed':'max', 'Deaths':'max', 'Recovered':'max',\n",
    "       'Detected_FluCases':'sum'}).sort_values(['Year','Quarter']).reset_index().head(4)"
   ]
  },
  {
   "cell_type": "code",
   "execution_count": null,
   "metadata": {},
   "outputs": [],
   "source": [
    "# final_df_grouped = final_df[['Country', 'Year', 'Confirmed', 'Deaths', 'Recovered',\n",
    "#        'Detected_FluCases', 'Quarter']].groupby(['Year','Quarter']).sum().sort_values(['Year','Quarter']).reset_index()"
   ]
  },
  {
   "cell_type": "code",
   "execution_count": 114,
   "metadata": {},
   "outputs": [],
   "source": [
    "def CovidCasesDevider(df):\n",
    "    covid_cases_list_mln = ['Confirmed_(mln)','Deaths_(mln)','Recovered_(mln)']\n",
    "    for case, case_mln in zip(covid_cases_list,covid_cases_list_mln):\n",
    "        df.rename(columns={case:case_mln},inplace=True)\n",
    "    \n",
    "    for col in covid_cases_list_mln:\n",
    "        for value in range(len(df)):\n",
    "            df.loc[value,(col)] = df.loc[value,(col)] / 1000000\n",
    "    return df"
   ]
  },
  {
   "cell_type": "code",
   "execution_count": 130,
   "metadata": {},
   "outputs": [],
   "source": [
    "final_df_quarter = final_df[['Country', 'Year', 'Confirmed', 'Deaths', 'Recovered',\n",
    "       'Detected_FluCases', 'Quarter']].groupby(['Country','Year','Quarter']).agg({'Confirmed':'max', 'Deaths':'max', 'Recovered':'max',\n",
    "       'Detected_FluCases':'sum'}).sort_values(['Country','Year','Quarter']).reset_index()"
   ]
  },
  {
   "cell_type": "code",
   "execution_count": 132,
   "metadata": {},
   "outputs": [
    {
     "data": {
      "text/html": [
       "<div>\n",
       "<style scoped>\n",
       "    .dataframe tbody tr th:only-of-type {\n",
       "        vertical-align: middle;\n",
       "    }\n",
       "\n",
       "    .dataframe tbody tr th {\n",
       "        vertical-align: top;\n",
       "    }\n",
       "\n",
       "    .dataframe thead th {\n",
       "        text-align: right;\n",
       "    }\n",
       "</style>\n",
       "<table border=\"1\" class=\"dataframe\">\n",
       "  <thead>\n",
       "    <tr style=\"text-align: right;\">\n",
       "      <th></th>\n",
       "      <th>Country</th>\n",
       "      <th>Year</th>\n",
       "      <th>Quarter</th>\n",
       "      <th>Confirmed</th>\n",
       "      <th>Deaths</th>\n",
       "      <th>Recovered</th>\n",
       "      <th>Detected_FluCases</th>\n",
       "    </tr>\n",
       "  </thead>\n",
       "  <tbody>\n",
       "    <tr>\n",
       "      <th>569</th>\n",
       "      <td>Poland</td>\n",
       "      <td>2016</td>\n",
       "      <td>1</td>\n",
       "      <td>0.0</td>\n",
       "      <td>0.0</td>\n",
       "      <td>0.0</td>\n",
       "      <td>2377</td>\n",
       "    </tr>\n",
       "    <tr>\n",
       "      <th>570</th>\n",
       "      <td>Poland</td>\n",
       "      <td>2016</td>\n",
       "      <td>2</td>\n",
       "      <td>0.0</td>\n",
       "      <td>0.0</td>\n",
       "      <td>0.0</td>\n",
       "      <td>158</td>\n",
       "    </tr>\n",
       "    <tr>\n",
       "      <th>571</th>\n",
       "      <td>Poland</td>\n",
       "      <td>2016</td>\n",
       "      <td>3</td>\n",
       "      <td>0.0</td>\n",
       "      <td>0.0</td>\n",
       "      <td>0.0</td>\n",
       "      <td>10</td>\n",
       "    </tr>\n",
       "    <tr>\n",
       "      <th>572</th>\n",
       "      <td>Poland</td>\n",
       "      <td>2016</td>\n",
       "      <td>4</td>\n",
       "      <td>0.0</td>\n",
       "      <td>0.0</td>\n",
       "      <td>0.0</td>\n",
       "      <td>28</td>\n",
       "    </tr>\n",
       "    <tr>\n",
       "      <th>573</th>\n",
       "      <td>Poland</td>\n",
       "      <td>2017</td>\n",
       "      <td>1</td>\n",
       "      <td>0.0</td>\n",
       "      <td>0.0</td>\n",
       "      <td>0.0</td>\n",
       "      <td>944</td>\n",
       "    </tr>\n",
       "    <tr>\n",
       "      <th>574</th>\n",
       "      <td>Poland</td>\n",
       "      <td>2017</td>\n",
       "      <td>2</td>\n",
       "      <td>0.0</td>\n",
       "      <td>0.0</td>\n",
       "      <td>0.0</td>\n",
       "      <td>4</td>\n",
       "    </tr>\n",
       "    <tr>\n",
       "      <th>575</th>\n",
       "      <td>Poland</td>\n",
       "      <td>2017</td>\n",
       "      <td>3</td>\n",
       "      <td>0.0</td>\n",
       "      <td>0.0</td>\n",
       "      <td>0.0</td>\n",
       "      <td>1</td>\n",
       "    </tr>\n",
       "    <tr>\n",
       "      <th>576</th>\n",
       "      <td>Poland</td>\n",
       "      <td>2017</td>\n",
       "      <td>4</td>\n",
       "      <td>0.0</td>\n",
       "      <td>0.0</td>\n",
       "      <td>0.0</td>\n",
       "      <td>33</td>\n",
       "    </tr>\n",
       "    <tr>\n",
       "      <th>577</th>\n",
       "      <td>Poland</td>\n",
       "      <td>2018</td>\n",
       "      <td>1</td>\n",
       "      <td>0.0</td>\n",
       "      <td>0.0</td>\n",
       "      <td>0.0</td>\n",
       "      <td>1554</td>\n",
       "    </tr>\n",
       "    <tr>\n",
       "      <th>578</th>\n",
       "      <td>Poland</td>\n",
       "      <td>2018</td>\n",
       "      <td>2</td>\n",
       "      <td>0.0</td>\n",
       "      <td>0.0</td>\n",
       "      <td>0.0</td>\n",
       "      <td>117</td>\n",
       "    </tr>\n",
       "    <tr>\n",
       "      <th>579</th>\n",
       "      <td>Poland</td>\n",
       "      <td>2018</td>\n",
       "      <td>3</td>\n",
       "      <td>0.0</td>\n",
       "      <td>0.0</td>\n",
       "      <td>0.0</td>\n",
       "      <td>2</td>\n",
       "    </tr>\n",
       "    <tr>\n",
       "      <th>580</th>\n",
       "      <td>Poland</td>\n",
       "      <td>2018</td>\n",
       "      <td>4</td>\n",
       "      <td>0.0</td>\n",
       "      <td>0.0</td>\n",
       "      <td>0.0</td>\n",
       "      <td>5</td>\n",
       "    </tr>\n",
       "    <tr>\n",
       "      <th>581</th>\n",
       "      <td>Poland</td>\n",
       "      <td>2019</td>\n",
       "      <td>1</td>\n",
       "      <td>0.0</td>\n",
       "      <td>0.0</td>\n",
       "      <td>0.0</td>\n",
       "      <td>1368</td>\n",
       "    </tr>\n",
       "    <tr>\n",
       "      <th>582</th>\n",
       "      <td>Poland</td>\n",
       "      <td>2019</td>\n",
       "      <td>2</td>\n",
       "      <td>0.0</td>\n",
       "      <td>0.0</td>\n",
       "      <td>0.0</td>\n",
       "      <td>56</td>\n",
       "    </tr>\n",
       "    <tr>\n",
       "      <th>583</th>\n",
       "      <td>Poland</td>\n",
       "      <td>2019</td>\n",
       "      <td>3</td>\n",
       "      <td>0.0</td>\n",
       "      <td>0.0</td>\n",
       "      <td>0.0</td>\n",
       "      <td>0</td>\n",
       "    </tr>\n",
       "    <tr>\n",
       "      <th>584</th>\n",
       "      <td>Poland</td>\n",
       "      <td>2019</td>\n",
       "      <td>4</td>\n",
       "      <td>0.0</td>\n",
       "      <td>0.0</td>\n",
       "      <td>0.0</td>\n",
       "      <td>17</td>\n",
       "    </tr>\n",
       "    <tr>\n",
       "      <th>585</th>\n",
       "      <td>Poland</td>\n",
       "      <td>2020</td>\n",
       "      <td>1</td>\n",
       "      <td>634.0</td>\n",
       "      <td>7.0</td>\n",
       "      <td>13.0</td>\n",
       "      <td>982</td>\n",
       "    </tr>\n",
       "    <tr>\n",
       "      <th>586</th>\n",
       "      <td>Poland</td>\n",
       "      <td>2020</td>\n",
       "      <td>2</td>\n",
       "      <td>33714.0</td>\n",
       "      <td>1435.0</td>\n",
       "      <td>19972.0</td>\n",
       "      <td>13</td>\n",
       "    </tr>\n",
       "    <tr>\n",
       "      <th>587</th>\n",
       "      <td>Poland</td>\n",
       "      <td>2020</td>\n",
       "      <td>3</td>\n",
       "      <td>85980.0</td>\n",
       "      <td>2424.0</td>\n",
       "      <td>67326.0</td>\n",
       "      <td>0</td>\n",
       "    </tr>\n",
       "    <tr>\n",
       "      <th>588</th>\n",
       "      <td>Poland</td>\n",
       "      <td>2020</td>\n",
       "      <td>4</td>\n",
       "      <td>1312780.0</td>\n",
       "      <td>29058.0</td>\n",
       "      <td>1055436.0</td>\n",
       "      <td>0</td>\n",
       "    </tr>\n",
       "    <tr>\n",
       "      <th>589</th>\n",
       "      <td>Poland</td>\n",
       "      <td>2021</td>\n",
       "      <td>1</td>\n",
       "      <td>2415584.0</td>\n",
       "      <td>54737.0</td>\n",
       "      <td>1945994.0</td>\n",
       "      <td>0</td>\n",
       "    </tr>\n",
       "    <tr>\n",
       "      <th>590</th>\n",
       "      <td>Poland</td>\n",
       "      <td>2021</td>\n",
       "      <td>2</td>\n",
       "      <td>2851911.0</td>\n",
       "      <td>71609.0</td>\n",
       "      <td>2595635.0</td>\n",
       "      <td>0</td>\n",
       "    </tr>\n",
       "  </tbody>\n",
       "</table>\n",
       "</div>"
      ],
      "text/plain": [
       "    Country  Year  Quarter  Confirmed   Deaths  Recovered  Detected_FluCases\n",
       "569  Poland  2016        1        0.0      0.0        0.0               2377\n",
       "570  Poland  2016        2        0.0      0.0        0.0                158\n",
       "571  Poland  2016        3        0.0      0.0        0.0                 10\n",
       "572  Poland  2016        4        0.0      0.0        0.0                 28\n",
       "573  Poland  2017        1        0.0      0.0        0.0                944\n",
       "574  Poland  2017        2        0.0      0.0        0.0                  4\n",
       "575  Poland  2017        3        0.0      0.0        0.0                  1\n",
       "576  Poland  2017        4        0.0      0.0        0.0                 33\n",
       "577  Poland  2018        1        0.0      0.0        0.0               1554\n",
       "578  Poland  2018        2        0.0      0.0        0.0                117\n",
       "579  Poland  2018        3        0.0      0.0        0.0                  2\n",
       "580  Poland  2018        4        0.0      0.0        0.0                  5\n",
       "581  Poland  2019        1        0.0      0.0        0.0               1368\n",
       "582  Poland  2019        2        0.0      0.0        0.0                 56\n",
       "583  Poland  2019        3        0.0      0.0        0.0                  0\n",
       "584  Poland  2019        4        0.0      0.0        0.0                 17\n",
       "585  Poland  2020        1      634.0      7.0       13.0                982\n",
       "586  Poland  2020        2    33714.0   1435.0    19972.0                 13\n",
       "587  Poland  2020        3    85980.0   2424.0    67326.0                  0\n",
       "588  Poland  2020        4  1312780.0  29058.0  1055436.0                  0\n",
       "589  Poland  2021        1  2415584.0  54737.0  1945994.0                  0\n",
       "590  Poland  2021        2  2851911.0  71609.0  2595635.0                  0"
      ]
     },
     "execution_count": 132,
     "metadata": {},
     "output_type": "execute_result"
    }
   ],
   "source": [
    "final_df_quarter[final_df_quarter.Country=='Poland']"
   ]
  },
  {
   "cell_type": "code",
   "execution_count": 197,
   "metadata": {},
   "outputs": [],
   "source": [
    "final_df_grouped = final_df_quarter.groupby(['Year','Quarter']).agg({'Confirmed':'sum', 'Deaths':'sum', 'Recovered':'sum',\n",
    "       'Detected_FluCases':'sum'}).sort_values(['Year','Quarter']).reset_index()"
   ]
  },
  {
   "cell_type": "code",
   "execution_count": 198,
   "metadata": {},
   "outputs": [],
   "source": [
    "final_df_grouped = CovidCasesDevider(final_df_grouped)"
   ]
  },
  {
   "cell_type": "code",
   "execution_count": 199,
   "metadata": {},
   "outputs": [
    {
     "data": {
      "text/html": [
       "<div>\n",
       "<style scoped>\n",
       "    .dataframe tbody tr th:only-of-type {\n",
       "        vertical-align: middle;\n",
       "    }\n",
       "\n",
       "    .dataframe tbody tr th {\n",
       "        vertical-align: top;\n",
       "    }\n",
       "\n",
       "    .dataframe thead th {\n",
       "        text-align: right;\n",
       "    }\n",
       "</style>\n",
       "<table border=\"1\" class=\"dataframe\">\n",
       "  <thead>\n",
       "    <tr style=\"text-align: right;\">\n",
       "      <th></th>\n",
       "      <th>Year</th>\n",
       "      <th>Quarter</th>\n",
       "      <th>Confirmed_(mln)</th>\n",
       "      <th>Deaths_(mln)</th>\n",
       "      <th>Recovered_(mln)</th>\n",
       "      <th>Detected_FluCases</th>\n",
       "    </tr>\n",
       "  </thead>\n",
       "  <tbody>\n",
       "    <tr>\n",
       "      <th>18</th>\n",
       "      <td>2020</td>\n",
       "      <td>3</td>\n",
       "      <td>3.219257</td>\n",
       "      <td>0.155972</td>\n",
       "      <td>1.707565</td>\n",
       "      <td>30</td>\n",
       "    </tr>\n",
       "    <tr>\n",
       "      <th>19</th>\n",
       "      <td>2020</td>\n",
       "      <td>4</td>\n",
       "      <td>27.767411</td>\n",
       "      <td>0.587637</td>\n",
       "      <td>14.976806</td>\n",
       "      <td>469</td>\n",
       "    </tr>\n",
       "    <tr>\n",
       "      <th>20</th>\n",
       "      <td>2021</td>\n",
       "      <td>1</td>\n",
       "      <td>45.922689</td>\n",
       "      <td>0.979964</td>\n",
       "      <td>25.727631</td>\n",
       "      <td>294</td>\n",
       "    </tr>\n",
       "    <tr>\n",
       "      <th>21</th>\n",
       "      <td>2021</td>\n",
       "      <td>2</td>\n",
       "      <td>52.285204</td>\n",
       "      <td>1.097960</td>\n",
       "      <td>30.258658</td>\n",
       "      <td>94</td>\n",
       "    </tr>\n",
       "  </tbody>\n",
       "</table>\n",
       "</div>"
      ],
      "text/plain": [
       "    Year  Quarter  Confirmed_(mln)  Deaths_(mln)  Recovered_(mln)  \\\n",
       "18  2020        3         3.219257      0.155972         1.707565   \n",
       "19  2020        4        27.767411      0.587637        14.976806   \n",
       "20  2021        1        45.922689      0.979964        25.727631   \n",
       "21  2021        2        52.285204      1.097960        30.258658   \n",
       "\n",
       "    Detected_FluCases  \n",
       "18                 30  \n",
       "19                469  \n",
       "20                294  \n",
       "21                 94  "
      ]
     },
     "execution_count": 199,
     "metadata": {},
     "output_type": "execute_result"
    }
   ],
   "source": [
    "final_df_grouped.tail(4)"
   ]
  },
  {
   "cell_type": "markdown",
   "metadata": {},
   "source": [
    "### in the covid_df table we need to rename countries from this list: countries[countries['cov'].isnull()] "
   ]
  },
  {
   "cell_type": "markdown",
   "metadata": {},
   "source": [
    "### Dodaj ponizej porownanie"
   ]
  },
  {
   "cell_type": "code",
   "execution_count": 212,
   "metadata": {
    "scrolled": false
   },
   "outputs": [
    {
     "data": {
      "image/png": "[encoded data removed]",
      "text/plain": [
       "<Figure size 1800x1080 with 2 Axes>"
      ]
     },
     "metadata": {
      "needs_background": "light"
     },
     "output_type": "display_data"
    }
   ],
   "source": [
    "chart = final_df_grouped.copy()\n",
    "chart['YearQuater'] = chart.Year.astype(str)+'-Q'+chart.Quarter.astype(str)\n",
    "chart = chart.drop([\"Year\",\"Quarter\"],axis=1)\n",
    "\n",
    "fig, ax1 = plt.subplots()\n",
    "plt.rcParams[\"figure.figsize\"] = (25,15)\n",
    "plt.xticks(fontsize=16, rotation=45)\n",
    "plt.grid(color = 'green', linestyle = '--', linewidth = 0.5)\n",
    "\n",
    "y = chart['Confirmed_(mln)']\n",
    "x = chart.YearQuater.unique()\n",
    "z = chart.Detected_FluCases\n",
    "\n",
    "ax1.set_title(f'Confirmed Covid Cases per week', fontsize=24)\n",
    "\n",
    "color = 'tab:red'\n",
    "ax1.set_xlabel('Periods', fontsize=20)\n",
    "ax1.set_ylabel('Confirmed Covid19 Cases (mln)', color=color, fontsize=20)\n",
    "ax1.plot(x, y, color=color)\n",
    "ax1.tick_params(axis='y', labelcolor=color, labelsize = 16)\n",
    "\n",
    "for xx,yy in zip(x,y):\n",
    "    label = \"{:.0f}\".format(yy)\n",
    "    plt.annotate(label, (xx,yy), textcoords=\"offset points\", xytext=(0,10), ha='center',fontsize=18) \n",
    "\n",
    "ax2 = ax1.twinx()  # instantiate a second axes that shares the same x-axis\n",
    "color = 'tab:blue'\n",
    "ax2.set_ylabel('Detected Inluenza Cases', color=color, fontsize=20)  # we already handled the x-label with ax1\n",
    "ax2.plot(x, z, color=color)\n",
    "ax2.tick_params(axis='y', labelcolor=color, labelsize=16)\n",
    "\n",
    "for xx,zz in zip(x,z):\n",
    "    #label = round(zz, 2)\n",
    "    label = f'{round(zz, 0):,}'\n",
    "    plt.annotate(label,(xx,zz),textcoords=\"offset points\",xytext=(0,10),ha='center',fontsize=18)\n",
    "\n",
    "\n",
    "fig.tight_layout()  # otherwise the right y-label is slightly clipped\n",
    "plt.show()"
   ]
  },
  {
   "cell_type": "markdown",
   "metadata": {},
   "source": [
    "## Per country"
   ]
  },
  {
   "cell_type": "code",
   "execution_count": 149,
   "metadata": {},
   "outputs": [],
   "source": [
    "chosen_country = 'Poland'"
   ]
  },
  {
   "cell_type": "code",
   "execution_count": 156,
   "metadata": {},
   "outputs": [],
   "source": [
    "final_df_grouped_country = final_df_quarter[final_df_quarter.Country==chosen_country].groupby(['Year','Quarter']).agg({'Confirmed':'sum', 'Deaths':'sum', 'Recovered':'sum',\n",
    "       'Detected_FluCases':'sum'}).sort_values(['Year','Quarter']).reset_index()"
   ]
  },
  {
   "cell_type": "code",
   "execution_count": 158,
   "metadata": {},
   "outputs": [],
   "source": [
    "final_df_grouped_country = CovidCasesDevider(final_df_grouped_country)"
   ]
  },
  {
   "cell_type": "code",
   "execution_count": 159,
   "metadata": {},
   "outputs": [
    {
     "data": {
      "text/html": [
       "<div>\n",
       "<style scoped>\n",
       "    .dataframe tbody tr th:only-of-type {\n",
       "        vertical-align: middle;\n",
       "    }\n",
       "\n",
       "    .dataframe tbody tr th {\n",
       "        vertical-align: top;\n",
       "    }\n",
       "\n",
       "    .dataframe thead th {\n",
       "        text-align: right;\n",
       "    }\n",
       "</style>\n",
       "<table border=\"1\" class=\"dataframe\">\n",
       "  <thead>\n",
       "    <tr style=\"text-align: right;\">\n",
       "      <th></th>\n",
       "      <th>Year</th>\n",
       "      <th>Quarter</th>\n",
       "      <th>Confirmed_(mln)</th>\n",
       "      <th>Deaths_(mln)</th>\n",
       "      <th>Recovered_(mln)</th>\n",
       "      <th>Detected_FluCases</th>\n",
       "    </tr>\n",
       "  </thead>\n",
       "  <tbody>\n",
       "    <tr>\n",
       "      <th>17</th>\n",
       "      <td>2020</td>\n",
       "      <td>2</td>\n",
       "      <td>0.033714</td>\n",
       "      <td>0.001435</td>\n",
       "      <td>0.019972</td>\n",
       "      <td>13</td>\n",
       "    </tr>\n",
       "    <tr>\n",
       "      <th>18</th>\n",
       "      <td>2020</td>\n",
       "      <td>3</td>\n",
       "      <td>0.085980</td>\n",
       "      <td>0.002424</td>\n",
       "      <td>0.067326</td>\n",
       "      <td>0</td>\n",
       "    </tr>\n",
       "    <tr>\n",
       "      <th>19</th>\n",
       "      <td>2020</td>\n",
       "      <td>4</td>\n",
       "      <td>1.312780</td>\n",
       "      <td>0.029058</td>\n",
       "      <td>1.055436</td>\n",
       "      <td>0</td>\n",
       "    </tr>\n",
       "    <tr>\n",
       "      <th>20</th>\n",
       "      <td>2021</td>\n",
       "      <td>1</td>\n",
       "      <td>2.415584</td>\n",
       "      <td>0.054737</td>\n",
       "      <td>1.945994</td>\n",
       "      <td>0</td>\n",
       "    </tr>\n",
       "    <tr>\n",
       "      <th>21</th>\n",
       "      <td>2021</td>\n",
       "      <td>2</td>\n",
       "      <td>2.851911</td>\n",
       "      <td>0.071609</td>\n",
       "      <td>2.595635</td>\n",
       "      <td>0</td>\n",
       "    </tr>\n",
       "  </tbody>\n",
       "</table>\n",
       "</div>"
      ],
      "text/plain": [
       "    Year  Quarter  Confirmed_(mln)  Deaths_(mln)  Recovered_(mln)  \\\n",
       "17  2020        2         0.033714      0.001435         0.019972   \n",
       "18  2020        3         0.085980      0.002424         0.067326   \n",
       "19  2020        4         1.312780      0.029058         1.055436   \n",
       "20  2021        1         2.415584      0.054737         1.945994   \n",
       "21  2021        2         2.851911      0.071609         2.595635   \n",
       "\n",
       "    Detected_FluCases  \n",
       "17                 13  \n",
       "18                  0  \n",
       "19                  0  \n",
       "20                  0  \n",
       "21                  0  "
      ]
     },
     "execution_count": 159,
     "metadata": {},
     "output_type": "execute_result"
    }
   ],
   "source": [
    "final_df_grouped_country.tail()"
   ]
  },
  {
   "cell_type": "code",
   "execution_count": 161,
   "metadata": {
    "scrolled": false
   },
   "outputs": [
    {
     "data": {
      "image/png": "[encoded data removed]",
      "text/plain": [
       "<Figure size 1440x720 with 2 Axes>"
      ]
     },
     "metadata": {
      "needs_background": "light"
     },
     "output_type": "display_data"
    }
   ],
   "source": [
    "chart = final_df_grouped_country.copy()\n",
    "chart['YearQuater'] = chart.Year.astype(str)+'-Q'+chart.Quarter.astype(str)\n",
    "chart = chart.drop([\"Year\",\"Quarter\"],axis=1)\n",
    "\n",
    "chart = CovidCasesDevider(chart)\n",
    "\n",
    "fig, ax1 = plt.subplots()\n",
    "plt.rcParams[\"figure.figsize\"] = (20,10)\n",
    "plt.xticks(fontsize=16, rotation=45)\n",
    "plt.grid(color = 'green', linestyle = '--', linewidth = 0.5)\n",
    "\n",
    "y = chart['Confirmed_(mln)']\n",
    "x = chart.YearQuater.unique()\n",
    "z = chart.Detected_FluCases\n",
    "\n",
    "ax1.set_title(f'Confirmed Covid Cases per quarter - {chosen_country}', fontsize=24)\n",
    "\n",
    "color = 'tab:red'\n",
    "ax1.set_xlabel('Periods', fontsize=20)\n",
    "ax1.set_ylabel('Confirmed Covid19 Cases (mln)', color=color, fontsize=20)\n",
    "ax1.plot(x, y, color=color)\n",
    "ax1.tick_params(axis='y', labelcolor=color, labelsize = 16)\n",
    "\n",
    "ax2 = ax1.twinx()  # instantiate a second axes that shares the same x-axis\n",
    "color = 'tab:blue'\n",
    "ax2.set_ylabel('Detected Inluenza Cases', color=color, fontsize=20)  # we already handled the x-label with ax1\n",
    "ax2.plot(x, z, color=color)\n",
    "ax2.tick_params(axis='y', labelcolor=color, labelsize = 16)\n",
    "\n",
    "\n",
    "fig.tight_layout()  # otherwise the right y-label is slightly clipped\n",
    "plt.show()"
   ]
  }
 ],
 "metadata": {
  "kernelspec": {
   "display_name": "Python 3",
   "language": "python",
   "name": "python3"
  },
  "language_info": {
   "codemirror_mode": {
    "name": "ipython",
    "version": 3
   },
   "file_extension": ".py",
   "mimetype": "text/x-python",
   "name": "python",
   "nbconvert_exporter": "python",
   "pygments_lexer": "ipython3",
   "version": "3.8.5"
  }
 },
 "nbformat": 4,
 "nbformat_minor": 4
}
