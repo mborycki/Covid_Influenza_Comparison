{
 "cells": [
  {
   "cell_type": "markdown",
   "metadata": {},
   "source": [
    "# Covid and Influenza - sick and death cases comparison\n",
    "\n",
    "**Part 2 - Analysis** \n",
    "\n",
    "The first part has been done in other file: _\"Flu_Covid_Cleaning.ipynb\"_"
   ]
  },
  {
   "cell_type": "code",
   "execution_count": null,
   "metadata": {},
   "outputs": [],
   "source": [
    "import pandas as pd\n",
    "import matplotlib.pyplot as plt"
   ]
  },
  {
   "cell_type": "code",
   "execution_count": null,
   "metadata": {},
   "outputs": [],
   "source": [
    "url = \"https://raw.githubusercontent.com/mborycki/Covid_Influenza_Comparison/main/Covid_and_Influenza.csv\""
   ]
  },
  {
   "cell_type": "code",
   "execution_count": null,
   "metadata": {},
   "outputs": [],
   "source": [
    "df = pd.read_csv(url)"
   ]
  },
  {
   "cell_type": "code",
   "execution_count": null,
   "metadata": {},
   "outputs": [],
   "source": [
    "df.head()"
   ]
  },
  {
   "cell_type": "code",
   "execution_count": null,
   "metadata": {},
   "outputs": [],
   "source": [
    "df.info()"
   ]
  },
  {
   "cell_type": "markdown",
   "metadata": {},
   "source": [
    "We can see we have 9359 records and 8 columns without NULL values.\n",
    "\n",
    "----\n",
    "**Column Description:**\n",
    "* <b>Country</b>: Country name\n",
    "* <b>Week</b>: Week number within a year\n",
    "* <b>Confirmed</b>: Counts include confirmed and probable (Covid).\n",
    "* <b>Deaths</b>: Counts include confirmed and probable (Covid).\n",
    "* <b>Recovered</b>: Recovered cases are estimates based on local media reports, and state and local reporting when available, and therefore may be substantially lower than the true number (Covid).\n",
    "* <b>Detected_FluCases</b>: Counts of detected influenza cases.\n",
    "* <b>Quarter</b>: Quarter number within a year (1-4 quarters)."
   ]
  },
  {
   "cell_type": "markdown",
   "metadata": {},
   "source": [
    "# Analysis / Visualisation\n",
    "\n",
    "Now, we are ready to check the outputs we have.\n",
    "\n",
    "---\n",
    "Objectives: What I am interested in to see: \n",
    "1. How the influenza fluctuation looked in a weekly level (for Europe and Poland)\n",
    "1. How the covid fluctuaction looks in a weekly level (for Europe and Poland)\n",
    "1. Top 10 countries with Flu / Covid\n",
    "1. When we have the biggest increase of inluenza cases (which period)\n",
    "1. When we had the biggest increas of covid cases (Europe and Poland)\n",
    "1. Finally, check how many cases of flu we had once the covid came"
   ]
  },
  {
   "cell_type": "code",
   "execution_count": null,
   "metadata": {},
   "outputs": [],
   "source": [
    "def WeeklyFluChart(table, where):\n",
    "    \"\"\"\n",
    "    THE CHART SHOWS WEEKLY CASES DETECTION FOR FLU WITHIN YEARS \n",
    "    \n",
    "    table: dataframe with influenza cases (DataFrame)\n",
    "    where: country we are interested in. Required for a chart title (String/Object)\n",
    "    \"\"\"\n",
    "    years = table.Year.unique()\n",
    "    color_per_year = ['green', 'blue', 'yellow', 'orange', 'purple', 'red']\n",
    "\n",
    "    fig, ax1 = plt.subplots()\n",
    "    plt.rcParams[\"figure.figsize\"] = (25,15)\n",
    "    plt.xticks(fontsize=16, rotation=45)\n",
    "    plt.grid(color='grey', linestyle = '--', linewidth = 0.5)\n",
    "\n",
    "    for number, year in enumerate(years):\n",
    "        color = color_per_year[number]\n",
    "\n",
    "        x = table[table.Year==year].Week.unique()\n",
    "        y = table[table.Year==year].groupby(['Week', 'Year'])['Detected_FluCases'].sum().reset_index().sort_values(['Year','Week'])['Detected_FluCases']\n",
    "        plt.title(f\"Influenza Cases per year in {where}\", fontsize=28)\n",
    "        plt.xlabel('Weeks', fontsize=24)\n",
    "        plt.ylabel(\"Detected Flu Cases\", color='black', fontsize=24)\n",
    "        plt.plot(x, y, color=color)\n",
    "        plt.tick_params(axis='y', labelcolor='black', labelsize=16) \n",
    "        plt.legend(years, fontsize=16)"
   ]
  },
  {
   "cell_type": "markdown",
   "metadata": {},
   "source": [
    "### #1. How the influenza fluctuation looked in a weekly level (for Europe and Poland)"
   ]
  },
  {
   "cell_type": "code",
   "execution_count": null,
   "metadata": {},
   "outputs": [],
   "source": [
    "WeeklyFluChart(df, 'Europe')"
   ]
  },
  {
   "cell_type": "markdown",
   "metadata": {},
   "source": [
    "As we can see above in 2021 flu cases is 0 or near to zero. Let see it in a table"
   ]
  },
  {
   "cell_type": "code",
   "execution_count": null,
   "metadata": {},
   "outputs": [],
   "source": [
    "df.groupby(['Year'])['Detected_FluCases'].sum().reset_index().sort_values(['Year'])"
   ]
  },
  {
   "cell_type": "code",
   "execution_count": null,
   "metadata": {},
   "outputs": [],
   "source": [
    "df[df.Year==2019].groupby(['Quarter', 'Year'])['Detected_FluCases'].sum().reset_index().sort_values(['Year','Quarter'])"
   ]
  },
  {
   "cell_type": "code",
   "execution_count": null,
   "metadata": {},
   "outputs": [],
   "source": [
    "df[df.Year==2018].groupby(['Quarter', 'Year'])['Detected_FluCases'].sum().reset_index().sort_values(['Year','Quarter'])"
   ]
  },
  {
   "cell_type": "markdown",
   "metadata": {},
   "source": [
    "The highest influenza detection was in 2019 and 2018. In 2021 it was incredibly low number. Of course we still have 2021, but the biggest detection increase occur between 5th and 10th week of a year. In 2021 we cannot see any growth.\n",
    "\n",
    "---\n",
    "How does it looks on Poland?"
   ]
  },
  {
   "cell_type": "code",
   "execution_count": null,
   "metadata": {},
   "outputs": [],
   "source": [
    "WeeklyFluChart(df[df.Country=='Poland'],'Poland')"
   ]
  },
  {
   "cell_type": "markdown",
   "metadata": {},
   "source": [
    "The chart looks similar like in case of Europe. However, the biggest growth we had in 2016 and we can see really small increase of flu detection after 50th week (in Europe we have bigger amount of cases in this time).\n",
    "What is common both for Europe and Poland is no detection influenza in 2021."
   ]
  },
  {
   "cell_type": "markdown",
   "metadata": {},
   "source": [
    "### #2. How the covid fluctuaction looks in a weekly level (for Europe and Poland)\n",
    "What we probably know is that Covid came in 2020. So we do not need all of the years we had in case of flu table. But Lets check it first"
   ]
  },
  {
   "cell_type": "code",
   "execution_count": null,
   "metadata": {},
   "outputs": [],
   "source": [
    "df[df.Confirmed>0].Year.unique()"
   ]
  },
  {
   "cell_type": "code",
   "execution_count": null,
   "metadata": {},
   "outputs": [],
   "source": [
    "df[df.Year>=2020].groupby(['Week', 'Year'])['Confirmed'].sum().reset_index().sort_values(['Year','Week'])"
   ]
  },
  {
   "cell_type": "markdown",
   "metadata": {},
   "source": [
    "Since now I want to see some covid ouputs on charts and compare it to flu. So, I made decision to remove weeks from my dataframe and keep only years and quarters."
   ]
  },
  {
   "cell_type": "code",
   "execution_count": null,
   "metadata": {},
   "outputs": [],
   "source": [
    "df_q = df[['Country','Year','Quarter','Confirmed','Deaths','Recovered','Detected_FluCases']].\\\n",
    "groupby(['Country','Year','Quarter']).agg({'Confirmed':'max','Deaths':'max','Recovered':'max','Detected_FluCases':'sum'})\\\n",
    ".sort_values(['Country','Year','Quarter']).reset_index().sort_values(['Country','Year','Quarter'])"
   ]
  },
  {
   "cell_type": "code",
   "execution_count": null,
   "metadata": {},
   "outputs": [],
   "source": [
    "def CovidChart(table,where):\n",
    "    \"\"\"\n",
    "    THE CHART SHOWS WEEKLY CASES DETECTION FOR COVID IN QUARTERLY LEVEL \n",
    "    \n",
    "    table: dataframe with covid cases (DataFrame)\n",
    "    where: country we are interested in. Required for a chart title (String/Object)\n",
    "    \"\"\"\n",
    "    tbl = table[table.Year>=2020].groupby(['Year','Quarter'])\\\n",
    "    .agg({'Confirmed':'sum', 'Deaths':'sum', 'Recovered':'sum','Detected_FluCases':'sum'})\\\n",
    "    .sort_values(['Year','Quarter']).reset_index()\n",
    "\n",
    "    # Create a new column for Year and Quarters\n",
    "    tbl['YearQuarter'] = tbl.Year.astype(str)+'-Q'+tbl.Quarter.astype(str)\n",
    "\n",
    "    fig, ax1 = plt.subplots()\n",
    "    plt.rcParams[\"figure.figsize\"] = (25,15)\n",
    "    plt.xticks(fontsize=14, rotation=45)\n",
    "    plt.grid(color='grey', linestyle = '--', linewidth = 0.5)\n",
    "\n",
    "    x = tbl.YearQuarter.sort_values().unique()\n",
    "    y = tbl.groupby(['YearQuarter'])['Confirmed'].sum().reset_index().sort_values(['YearQuarter'])['Confirmed']\n",
    "    plt.title(f\"Covid19 Cases per year in {where}\", fontsize=28)\n",
    "    plt.xlabel('Quarters', fontsize=18)\n",
    "    plt.ylabel(\"Detected Covid19 Cases\", color='black', fontsize=18)\n",
    "    plt.bar(x, y, color='grey')\n",
    "    plt.tick_params(axis='y', labelcolor='black', labelsize=16) \n",
    "\n",
    "    for xx,yy in zip(x,y):\n",
    "        label = f'{yy:,}'\n",
    "        plt.annotate(label, (xx,yy), textcoords=\"offset points\", xytext=(0,10), ha='center', fontsize=16) "
   ]
  },
  {
   "cell_type": "code",
   "execution_count": null,
   "metadata": {},
   "outputs": [],
   "source": [
    "CovidChart(df_q,'Europe')"
   ]
  },
  {
   "cell_type": "markdown",
   "metadata": {},
   "source": [
    "We can see above that we have a big covid cases increase in Q4 2020 and Q1 2021 was not much better. However, in Q2 2021 big improvement is visible."
   ]
  },
  {
   "cell_type": "code",
   "execution_count": null,
   "metadata": {},
   "outputs": [],
   "source": [
    "CovidChart(df_q[df_q.Country=='Poland'],'Poland')"
   ]
  },
  {
   "cell_type": "markdown",
   "metadata": {},
   "source": [
    "In Poland we have quite similar trend like in Europe.<br>\n",
    "Now we can create one chart contain influenza and covid cases. But we need to keep in mind it will be done just for showing the trend, as in case of Covid Pandemic we are dealing with much biger number of cases"
   ]
  },
  {
   "cell_type": "code",
   "execution_count": null,
   "metadata": {},
   "outputs": [],
   "source": []
  },
  {
   "cell_type": "code",
   "execution_count": null,
   "metadata": {},
   "outputs": [],
   "source": [
    "# I made a function to have bigger visibility on chart\n",
    "def CovidCasesDevider(table_name):\n",
    "    covid_cases_list_mln = ['Confirmed','Deaths','Recovered','Detected_FluCases']\n",
    "\n",
    "# number of cases divided by 1000\n",
    "    for col in covid_cases_list_mln: \n",
    "        for value in range(len(table_name)):\n",
    "            table_name.loc[value,(col)] = table_name.loc[value,(col)] / 1000\n",
    "\n",
    "# rounded to 2 decimal values            \n",
    "    for col in covid_cases_list_mln: \n",
    "        table_name[col] = table_name[col].apply(lambda x: round(x,2))\n",
    "\n",
    "# Do not need weeks/year in chart - quarters is enough      \n",
    "    table_name['YearQuater'] = table_name.Year.astype(str)+'-Q'+table_name.Quarter.astype(str)\n",
    "    table_name = table_name.drop([\"Year\",\"Quarter\"],axis=1)\n",
    "    \n",
    "    return table_name"
   ]
  },
  {
   "cell_type": "code",
   "execution_count": null,
   "metadata": {},
   "outputs": [],
   "source": [
    "# I made a function to have bigger visibility on chart\n",
    "def CovidCasesDevider_Country(table_name):\n",
    "    covid_cases_list_mln = ['Confirmed','Deaths','Recovered','Detected_FluCases']\n",
    "\n",
    "# number of cases decreased by 1000\n",
    "    for col in covid_cases_list_mln: \n",
    "        for value in range(len(table_name)):\n",
    "            table_name.loc[value,(col)] = table_name.loc[value,(col)] / 1000\n",
    "\n",
    "# rounded to 2 decimal values            \n",
    "    for col in covid_cases_list_mln: \n",
    "        table_name[col] = table_name[col].apply(lambda x: round(x,2))\n",
    "\n",
    "# Do not need weeks/year in chart - quarters is enough      \n",
    "    table_name['YearQuater'] = table_name.Year.astype(str)+'-Q'+table_name.Quarter.astype(str)\n",
    "    table_name = table_name.drop([\"Year\",\"Quarter\"],axis=1)\n",
    "    \n",
    "    return table_name"
   ]
  },
  {
   "cell_type": "markdown",
   "metadata": {},
   "source": [
    "--\n",
    "For making charts I do not need weeks as it is to"
   ]
  },
  {
   "cell_type": "code",
   "execution_count": null,
   "metadata": {},
   "outputs": [],
   "source": [
    "# for all countries - TOTAL\n",
    "chart_1 = CovidCasesDevider(df_q.groupby(['Year','Quarter'])\\\n",
    ".agg({'Confirmed':'sum', 'Deaths':'sum', 'Recovered':'sum','Detected_FluCases':'sum'})\\\n",
    ".sort_values(['Year','Quarter']).reset_index())"
   ]
  },
  {
   "cell_type": "code",
   "execution_count": null,
   "metadata": {},
   "outputs": [],
   "source": [
    "chart_1.head(2)"
   ]
  },
  {
   "cell_type": "code",
   "execution_count": null,
   "metadata": {},
   "outputs": [],
   "source": [
    "# for chosen country\n",
    "chosen_country = 'Poland'\n",
    "\n",
    "chart_2 = CovidCasesDevider(df_q[final_df_quarter.Country==chosen_country].groupby(['Year','Quarter']).\\\n",
    "agg({'Confirmed':'sum', 'Deaths':'sum', 'Recovered':'sum','Detected_FluCases':'sum'}).\\\n",
    "sort_values(['Year','Quarter']).reset_index())"
   ]
  },
  {
   "cell_type": "code",
   "execution_count": null,
   "metadata": {},
   "outputs": [],
   "source": [
    "chart_2.head(2)"
   ]
  },
  {
   "cell_type": "code",
   "execution_count": null,
   "metadata": {},
   "outputs": [],
   "source": []
  },
  {
   "cell_type": "code",
   "execution_count": null,
   "metadata": {
    "scrolled": false
   },
   "outputs": [],
   "source": [
    "def VirusComparison(table,where):\n",
    "    \"\"\"\n",
    "    THE CHART SHOWS QYARTERLY COMPARISON OF CASES DETECTION FOR COVID AND FLU \n",
    "    \n",
    "    table: dataframe with detected cases (DataFrame)\n",
    "    where: country we are interested in. Required for a chart title (String/Object)\n",
    "    \"\"\"\n",
    "    # Chart Creation\n",
    "    fig, ax1 = plt.subplots()\n",
    "    plt.rcParams[\"figure.figsize\"] = (25,15)\n",
    "    plt.xticks(fontsize=16, rotation=45)\n",
    "    plt.grid(color = 'green', linestyle = '--', linewidth = 0.5)\n",
    "    \n",
    "    # Data Aggregation\n",
    "    chart = CovidCasesDevider(table.groupby(['Year','Quarter'])\\\n",
    "    .agg({'Confirmed':'sum', 'Deaths':'sum', 'Recovered':'sum','Detected_FluCases':'sum'})\\\n",
    "    .sort_values(['Year','Quarter']).reset_index())\n",
    "    \n",
    "    x = chart.YearQuater.unique()\n",
    "    y = chart['Confirmed']\n",
    "    z = chart['Detected_FluCases']\n",
    "\n",
    "    ##############\n",
    "    # Covid19:\n",
    "    ax1.set_title(f\"Covid and Flu Cases Comparison in {where} ('000)\", fontsize=28)\n",
    "    color = 'tab:red'\n",
    "    ax1.set_xlabel('Periods', fontsize=24)\n",
    "    ax1.set_ylabel(\"Confirmed Covid19 Cases ('000)\", color=color, fontsize=24)\n",
    "    ax1.plot(x, y, color=color)\n",
    "    ax1.tick_params(axis='y', labelcolor=color, labelsize=16) \n",
    "\n",
    "    for xx,yy in zip(x,y):\n",
    "        label = \"{:.0f}\".format(yy)\n",
    "        plt.annotate(label, (xx,yy), textcoords=\"offset points\", xytext=(0,10), ha='right', fontsize=20) \n",
    "    \n",
    "    ##############\n",
    "    # Influenza:\n",
    "    ax2 = ax1.twinx()  \n",
    "    color = 'tab:blue'\n",
    "    ax2.set_ylabel(\"Detected Inluenza Cases ('000)\", color=color, fontsize=24)  # we already handled the x-label with ax1\n",
    "    ax2.plot(x, z, color=color)\n",
    "    ax2.tick_params(axis='y', labelcolor=color, labelsize=16)\n",
    "\n",
    "\n",
    "    for xx,zz in zip(x,z):\n",
    "        label = \"{:.1f}\".format(zz)\n",
    "        plt.annotate(label,(xx,zz),textcoords=\"offset points\",xytext=(0,10),ha='right', fontsize=20)\n",
    "\n",
    "\n",
    "    fig.tight_layout()  \n",
    "    plt.show()"
   ]
  },
  {
   "cell_type": "code",
   "execution_count": null,
   "metadata": {},
   "outputs": [],
   "source": [
    "VirusComparison(df_q,'Europe')"
   ]
  },
  {
   "cell_type": "markdown",
   "metadata": {},
   "source": [
    "Well, dependence between Covid and Flu is visible. Once pandemic came to Europe, influenza almost disappeared.\n",
    "Please keep in mind that the volumes in the chart are divided by 1000.<br>\n",
    "So, the highest Flu Cases was in Q1 2018: **184,900 cases**<br>\n",
    "In the other side the highest Covid19 Cases was in Q2 2021: **52 285 000 cases**"
   ]
  },
  {
   "cell_type": "code",
   "execution_count": null,
   "metadata": {
    "scrolled": true
   },
   "outputs": [],
   "source": [
    "chosen_country = 'Poland' \n",
    "\n",
    "\n",
    "VirusComparison(df_q[df_q.Country==chosen_country],chosen_country)"
   ]
  },
  {
   "cell_type": "markdown",
   "metadata": {},
   "source": [
    "In Poland trend the chart looks similar "
   ]
  },
  {
   "cell_type": "markdown",
   "metadata": {},
   "source": [
    "# Conclusion:\n",
    "\n",
    "Based on the data I have prepared, we can definitely say that Covid 19 pandemic influenced on the Influenza detection.\n",
    "However, flu was never (at least since 2016) even close to the range of the Covid19 pandemic around the Europe.\n",
    "\n",
    "The scale of the coronavirus is incredibly high and we cannot have any doubts we have been affected by pandemic."
   ]
  }
 ],
 "metadata": {
  "kernelspec": {
   "display_name": "Python 3",
   "language": "python",
   "name": "python3"
  },
  "language_info": {
   "codemirror_mode": {
    "name": "ipython",
    "version": 3
   },
   "file_extension": ".py",
   "mimetype": "text/x-python",
   "name": "python",
   "nbconvert_exporter": "python",
   "pygments_lexer": "ipython3",
   "version": "3.8.5"
  }
 },
 "nbformat": 4,
 "nbformat_minor": 4
}
